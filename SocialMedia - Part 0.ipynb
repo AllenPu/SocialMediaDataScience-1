{
 "cells": [
  {
   "cell_type": "markdown",
   "metadata": {},
   "source": [
    " <table><tr><td><img src=\"images/dbmi_logo.png\" width=\"75\" height=\"73\" alt=\"Pitt Biomedical Informatics logo\"></td><td><img src=\"images/pitt_logo.png\" width=\"75\" height=\"75\" alt=\"University of Pittsburgh logo\"></td></tr></table>\n",
    " \n",
    " \n",
    " # Social Media and Data Science - Part 0\n",
    " \n",
    " \n",
    "Data science modules developed by the University of Pittsburgh Biomedical Informatics Training Program with the support of the National Library of Medicine data science supplement to the University of Pittsburgh (Grant # T15LM007059-30S1). \n",
    "\n",
    "Developed by Harry Hochheiser, harryh@pitt.edu. All errors are my responsibility.\n",
    "\n",
    "<a rel=\"license\" href=\"http://creativecommons.org/licenses/by-nc/4.0/\"><img alt=\"Creative Commons License\" style=\"border-width:0\" src=\"https://i.creativecommons.org/l/by-nc/4.0/88x31.png\" /></a><br />This work is licensed under a <a rel=\"license\" href=\"http://creativecommons.org/licenses/by-nc/4.0/\">Creative Commons Attribution-NonCommercial 4.0 International License</a>.\n"
   ]
  },
  {
   "cell_type": "markdown",
   "metadata": {},
   "source": [
    "###  *Goal*: Learn how to retrieve, manage, and save social media posts.\n",
    "\n",
    "Specifically, we will retrieve, annotate, process, and interpret Twitter data on health-related issues such as depression."
   ]
  },
  {
   "cell_type": "markdown",
   "metadata": {},
   "source": [
    "--- \n",
    "References:\n",
    "* [Mining Twitter Data with Python (Part 1: Collecting data)](https://marcobonzanini.com/2015/03/02/mining-twitter-data-with-python-part-1/)\n",
    "* The [Tweepy Python API for Twitter](http://www.tweepy.org/)\n",
    "---"
   ]
  },
  {
   "cell_type": "markdown",
   "metadata": {},
   "source": [
    "# 1. Introduction\n",
    "\n",
    "This doucment details the technical requirements for these lecutres on Social Media Data Science. Content on this page is intended to inform those who are involved in either (a) configuring Jupyter instances for running these notebooks, or (b) teaching or adapting this material.\n",
    "\n",
    "Others can jump right in with [Part 1](SocialMedia - Part 1.ipynb)."
   ]
  },
  {
   "cell_type": "markdown",
   "metadata": {},
   "source": [
    "# 2. Software Dependencies"
   ]
  },
  {
   "cell_type": "markdown",
   "metadata": {},
   "source": [
    "All components of these exercises run on the [Python](https://www.python.org) programming language. Python 3.6.5 was used in the develompent and testing of these exercises. Comparable or newer versions should be usable without major difficulty. \n",
    "\n",
    "These modules are presented as [Jupyter](https://jupyter.org), notebbooks, developed under Jupyter 4.4.0. \n",
    "\n",
    "Python libraries used in these notebooks. You may need to install these libraries if you are creating a new computational environment: \n",
    "\n",
    "* [NumPy](http://www.numpy.org) - for preparing data for plotting\n",
    "* [Matplotlib](https://matplotlib.org) - plots and garphs\n",
    "* [jsonpickle](https://jsonpickle.github.io) for storing tweets. \n",
    "* [spaCy](https://spaCy.io/) - an NLP toolkit.\n",
    "* [scikit-learn](http://scikit-learn.org) for machine learning"
   ]
  },
  {
   "cell_type": "markdown",
   "metadata": {},
   "source": [
    "# 3. Case study description"
   ]
  },
  {
   "cell_type": "markdown",
   "metadata": {},
   "source": [
    "## 3.1 Learning Outcomes\n",
    "\n",
    "Upon completion of this module, students will be able to:\n",
    "\n",
    "* Understand the use of Application Programming Interfaces (APIs) to retrieve data from sites such as Twitter.\n",
    "* Understand the structure and content of resulting  data\n",
    "* Use and extend a Python class definition for managing extracted social media data, using Twitter as an example\n",
    "* Explore resulting social media data for patterns of authorship and other metadata.\n",
    "* Annotate/classify social media posts for further analysis.\n",
    "* Identify and discuss basic Natural Language Processing steps, including tokenization, lemmatization, part-of-speech tagging, and named entity recognition.\n",
    "* Use and extend code for executing key natural language processing pipeline steps.\n",
    "* Appreciate the relevance of vectorization for machine-learning classification of texts. \n",
    "* Convert tweets into appropriate vector representations.\n",
    "* Verify the ouptut of a vectorizer.\n",
    "* Divide a dataset into test and train sets for machine learning.\n",
    "* Verify the distribution of classes into test and train sets.\n",
    "* Train and evaluate an SVM-based classifier."
   ]
  },
  {
   "cell_type": "markdown",
   "metadata": {},
   "source": [
    "## 3.2 Licensing/Restrictions/Access\n",
    "\n",
    "This work is licensed under a [Creative Commons Attribution-NonCommercial 4.0 International License](http://creativecommons.org/licenses/by-nc/4.0/\")."
   ]
  },
  {
   "cell_type": "markdown",
   "metadata": {},
   "source": [
    "## 3.3 Target Student Audience\n",
    "\n",
    "Upper undergraduate or first-year graduate students."
   ]
  },
  {
   "cell_type": "markdown",
   "metadata": {},
   "source": [
    "## 3.4 Prerequisite Skills and Knowledge Required\n",
    "\n",
    "Students should have some familiarity with Python programming, including at leaset basic exposure to object-oriented programming."
   ]
  },
  {
   "cell_type": "markdown",
   "metadata": {},
   "source": [
    "## 3.5 Domain Problem\n",
    "\n",
    "Social media has become a useful source of information about trends in perceptions and attitudes towards various health questions. This module challenges students to learn how to retrieve social media data and to use Natural Language Processing to extract key trends and to classify messages based on those classifications."
   ]
  },
  {
   "cell_type": "markdown",
   "metadata": {},
   "source": [
    "## 3.6 Dataset for the case study\n",
    "\n",
    "Tweets about smoking and vaping collected from the Twitter public API during the fall of 2017."
   ]
  },
  {
   "cell_type": "markdown",
   "metadata": {},
   "source": [
    "## 3.7 Skills to be taught\n",
    "\n",
    "* Extension of Python object-oriented class definitions\n",
    "* Use of the Twitter public API\n",
    "* Manipulation and analysis of content in collections of tweets\n",
    "* Serializing JSON in Python\n",
    "* Annotation of textual content\n",
    "* Natural language processing with the spaCy toolkit\n",
    "* Basic text classification in Python with scikit-learn\n",
    "\n",
    "### 3.7.1 Knowledge representation\n",
    "\n",
    "* Storage of a collection of tweets in a Python object-oriente class\n",
    "* Serialization of that class to JSON\n",
    "* Binary and TF-IDF vector representation of texts as suitable for natural language processing\n",
    "\n",
    "### 3.7.2 Computation\n",
    "\n",
    "* REST APIs\n",
    "* spaCy natural language processing, including lemmatization\n",
    "* TF-IDF representations \n",
    "* SVM classifiers\n",
    "* Precision and recall evaluation\n",
    "*TBD*\n",
    "\n",
    "### 3.7.3  Visual\n",
    "\n",
    "* Basic graphs\n",
    "\n",
    "## 3.8 Statistical Analysis\n",
    "\n",
    "* Precision and recall evalution of text classifiers\n",
    "\n",
    "## 3.9 Reproducibility \n",
    "\n",
    "* Storage of tweets for future analysis\n",
    "* Jupyter notebooks to store state of analyses and to create prior work\n",
    "\n",
    "## 3.10 Ethics of the Case\n",
    "\n",
    "* Not discussed.\n",
    "\n",
    "## 3.11 What are they going to do/build\n",
    "\n",
    "* A corpus of tweets retrieved from Twitter for analysis\n",
    "* An annotated version of that corpsus\n",
    "* A Natural Language Processing Pipeline tuned to the specific challenges of processing Tweets\n",
    "* A text classifier capable of categorizing tweets according to domain-specific annotations.\n",
    "\n",
    "## 3.12 Problem solving skills\n",
    "\n",
    "* Summarizing patterns in social media post attributes\n",
    "* Qualitative analysis of tweet text\n",
    "* Text/natural language processing of tweet content\n",
    "* Contuction of vector representations and classifiers\n",
    "* Evaluation of classifier results\n",
    "* Debugging and verifying various models, including classifier evaluations and vector representations.\n",
    "\n",
    "## 3.13 Reflection\n",
    "\n",
    "Students are asked to reflect on:\n",
    "* Possible techniques for increasing the generality of the data sample.\n",
    "* Alternative approaches to storing and serializing tweets.\n",
    "* Challenges in qualitative coding of tweets\n",
    "* Important textual features in tweets and how they might be used for NLP and classification.\n",
    "* How questions such as skew and training set size might impact classifiers.\n",
    "* Possible strategies for running controls to ensure that classifiers are operating as expected."
   ]
  },
  {
   "cell_type": "code",
   "execution_count": null,
   "metadata": {},
   "outputs": [],
   "source": []
  }
 ],
 "metadata": {
  "kernelspec": {
   "display_name": "Python 3",
   "language": "python",
   "name": "python3"
  },
  "language_info": {
   "codemirror_mode": {
    "name": "ipython",
    "version": 3
   },
   "file_extension": ".py",
   "mimetype": "text/x-python",
   "name": "python",
   "nbconvert_exporter": "python",
   "pygments_lexer": "ipython3",
   "version": "3.6.0"
  }
 },
 "nbformat": 4,
 "nbformat_minor": 1
}
