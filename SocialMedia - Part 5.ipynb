{
 "cells": [
  {
   "cell_type": "markdown",
   "metadata": {},
   "source": [
    " <table><tr><td><img src=\"images/dbmi_logo.png\" width=\"75\" height=\"73\" alt=\"Pitt Biomedical Informatics logo\"></td><td><img src=\"images/pitt_logo.png\" width=\"75\" height=\"75\" alt=\"University of Pittsburgh logo\"></td></tr></table>\n",
    " \n",
    " \n",
    " # Social Media and Data Science - Part 5\n",
    " \n",
    " \n",
    "Data science modules developed by the University of Pittsburgh Biomedical Informatics Training Program with the support of the National Library of Medicine data science supplement to the University of Pittsburgh (Grant # T15LM007059-30S1). \n",
    "\n",
    "Developed by Harry Hochheiser, harryh@pitt.edu. All errors are my responsibility.\n",
    "\n",
    "<a rel=\"license\" href=\"http://creativecommons.org/licenses/by-nc/4.0/\"><img alt=\"Creative Commons License\" style=\"border-width:0\" src=\"https://i.creativecommons.org/l/by-nc/4.0/88x31.png\" /></a><br />This work is licensed under a <a rel=\"license\" href=\"http://creativecommons.org/licenses/by-nc/4.0/\">Creative Commons Attribution-NonCommercial 4.0 International License</a>.\n"
   ]
  },
  {
   "cell_type": "markdown",
   "metadata": {},
   "source": [
    "### Goal: Use social media posts to explore the appplication of text and natural language processing to see what might be learned from online interactions.\n",
    "\n",
    "Specifically, we will retrieve, annotate, process, and interpret Twitter data on health-related issues such as smoking."
   ]
  },
  {
   "cell_type": "markdown",
   "metadata": {},
   "source": [
    "--- \n",
    "References:\n",
    "* [Mining Twitter Data with Python (Part 1: Collecting data)](https://marcobonzanini.com/2015/03/02/mining-twitter-data-with-python-part-1/)\n",
    "* The [Tweepy Python API for Twitter](http://www.tweepy.org/)\n",
    "\n",
    "---"
   ]
  },
  {
   "cell_type": "code",
   "execution_count": 1,
   "metadata": {},
   "outputs": [],
   "source": [
    "%matplotlib inline\n",
    "\n",
    "import operator\n",
    "import numpy as np\n",
    "import matplotlib\n",
    "import matplotlib.pyplot as plt\n",
    "import jsonpickle\n",
    "import json\n",
    "import random\n",
    "import tweepy\n",
    "import spacy\n",
    "import time\n",
    "from datetime import datetime\n",
    "from spacy.symbols import ORTH, LEMMA, POS"
   ]
  },
  {
   "cell_type": "markdown",
   "metadata": {},
   "source": [
    "# 5.0 Introduction"
   ]
  },
  {
   "cell_type": "markdown",
   "metadata": {},
   "source": [
    "This final part of our journey through social media data retrieval, annotation, natural langauge processing, and classififcation will challenge you to apply these techniques to a new problem. Specifically, you will create, annotate, and process a new data set."
   ]
  },
  {
   "cell_type": "markdown",
   "metadata": {},
   "source": [
    "# 5.0.1 Setup\n",
    "\n",
    "As before, we start with the Tweets class and the configuration for our Twitter API connection.  We may not need this, but we'll load it in any case."
   ]
  },
  {
   "cell_type": "code",
   "execution_count": 2,
   "metadata": {},
   "outputs": [],
   "source": [
    "class Tweets:\n",
    "    \n",
    "    \n",
    "    def __init__(self,term=\"\",corpus_size=100):\n",
    "        self.tweets={}\n",
    "        if term !=\"\":\n",
    "            self.searchTwitter(term,corpus_size)\n",
    "                \n",
    "    def searchTwitter(self,term,corpus_size):\n",
    "        searchTime=datetime.now()\n",
    "        while (self.countTweets() < corpus_size):\n",
    "            new_tweets = api.search(term,lang=\"en\",tweet_mode='extended',count=corpus_size)\n",
    "            for nt_json in new_tweets:\n",
    "                nt = nt_json._json\n",
    "                if self.getTweet(nt['id_str']) is None and self.countTweets() < corpus_size:\n",
    "                    self.addTweet(nt,searchTime,term)\n",
    "            count = self.countTweets()\n",
    "            time.sleep(30)\n",
    "                \n",
    "    def addTweet(self,tweet,searchTime,term=\"\",count=0):\n",
    "        id = tweet['id_str']\n",
    "        if id not in self.tweets.keys():\n",
    "            self.tweets[id]={}\n",
    "            self.tweets[id]['tweet']=tweet\n",
    "            self.tweets[id]['count']=0\n",
    "            self.tweets[id]['searchTime']=searchTime\n",
    "            self.tweets[id]['searchTerm']=term\n",
    "        self.tweets[id]['count'] = self.tweets[id]['count'] +1\n",
    "        \n",
    "    def combineTweets(self,other):\n",
    "        for otherid in other.getIds():\n",
    "            tweet = other.getTweet(otherid)\n",
    "            searchTerm = other.getSearchTerm(otherid)\n",
    "            searchTime = other.getSearchTime(otherid)\n",
    "            self.addTweet(tweet,searchTime,searchTerm)\n",
    "        \n",
    "    def getTweet(self,id):\n",
    "        if id in self.tweets:\n",
    "            return self.tweets[id]['tweet']\n",
    "        else:\n",
    "            return None\n",
    "    \n",
    "    def getTweetCount(self,id):\n",
    "        return self.tweets[id]['count']\n",
    "    \n",
    "    def countTweets(self):\n",
    "        return len(self.tweets)\n",
    "    \n",
    "    # return a sorted list of tupes of the form (id,count), with the occurrence counts sorted in decreasing order\n",
    "    def mostFrequent(self):\n",
    "        ps = []\n",
    "        for t,entry in self.tweets.items():\n",
    "            count = entry['count']\n",
    "            ps.append((t,count))  \n",
    "        ps.sort(key=lambda x: x[1],reverse=True)\n",
    "        return ps\n",
    "    \n",
    "    # reeturns tweet IDs as a set\n",
    "    def getIds(self):\n",
    "        return set(self.tweets.keys())\n",
    "    \n",
    "    # save the tweets to a file\n",
    "    def saveTweets(self,filename):\n",
    "        json_data =jsonpickle.encode(self.tweets)\n",
    "        with open(filename,'w') as f:\n",
    "            json.dump(json_data,f)\n",
    "    \n",
    "    # read the tweets from a file \n",
    "    def readTweets(self,filename):\n",
    "        with open(filename,'r') as f:\n",
    "            json_data = json.load(f)\n",
    "            incontents = jsonpickle.decode(json_data)   \n",
    "            self.tweets=incontents\n",
    "        \n",
    "    def getSearchTerm(self,id):\n",
    "        return self.tweets[id]['searchTerm']\n",
    "    \n",
    "    def getSearchTime(self,id):\n",
    "        return self.tweets[id]['searchTime']\n",
    "    \n",
    "    def getText(self,id):\n",
    "        tweet = self.getTweet(id)\n",
    "        text=tweet['full_text']\n",
    "        if 'retweeted_status'in tweet:\n",
    "            original = tweet['retweeted_status']\n",
    "            text=original['full_text']\n",
    "        return text\n",
    "                \n",
    "    def addCode(self,id,code):\n",
    "        tweet=self.getTweet(id)\n",
    "        if 'codes' not in tweet:\n",
    "            tweet['codes']=set()\n",
    "        tweet['codes'].add(code)\n",
    "        \n",
    "   \n",
    "    def addCodes(self,id,codes):\n",
    "        for code in codes:\n",
    "            self.addCode(id,code)\n",
    "        \n",
    " \n",
    "    def getCodes(self,id):\n",
    "        tweet=self.getTweet(id)\n",
    "        if 'codes' in tweet:\n",
    "            return tweet['codes']\n",
    "        else:\n",
    "            return None\n",
    "    \n",
    "    # NEW -ROUTINE TO GET PROFILE\n",
    "    def getCodeProfile(self):\n",
    "        summary={}\n",
    "        for id in self.tweets.keys():\n",
    "            tweet=self.getTweet(id)\n",
    "            if 'codes' in tweet:\n",
    "                for code in tweet['codes']:\n",
    "                    if code not in summary:\n",
    "                            summary[code] =0\n",
    "                    summary[code]=summary[code]+1\n",
    "        sortedsummary = sorted(summary.items(),key=operator.itemgetter(0),reverse=True)\n",
    "        return sortedsummary"
   ]
  },
  {
   "cell_type": "markdown",
   "metadata": {},
   "source": [
    "Put the values of your keys into these variables"
   ]
  },
  {
   "cell_type": "code",
   "execution_count": 3,
   "metadata": {},
   "outputs": [],
   "source": [
    "consumer_key = 'C9UQFFbYEy3hBWRI1lzLKAjcs'\n",
    "consumer_secret = 'idhLHrw2FbJOCLSp3c6CHhp1YECGLzU4TkPemBo5pN5plTzxXr'\n",
    "access_token = '852862527184576512-2eJwZTBVXFSfMn7qVWNCPXRL7vojqsF'\n",
    "access_secret = '3CeXbgi2lKUpIfhhhTNIYtMGzwYQT2Ok0PRuLI0AVeisI'"
   ]
  },
  {
   "cell_type": "code",
   "execution_count": 4,
   "metadata": {},
   "outputs": [],
   "source": [
    "from tweepy import OAuthHandler\n",
    "\n",
    "auth = OAuthHandler(consumer_key, consumer_secret)\n",
    "auth.set_access_token(access_token, access_secret)\n",
    "\n",
    "api = tweepy.API(auth)"
   ]
  },
  {
   "cell_type": "markdown",
   "metadata": {},
   "source": [
    "We will also load some routines that we defined in [Part 3](SocialMedia - Part 3.ipynb):\n",
    "    \n",
    "1. Our routine for creating a customized NLP pipeline\n",
    "2. Our routine for including tokens\n",
    "3. The `filterTweetTokens` routine defined in an exercise (Without the inclusion of named entities. It will be easier to leave them out for now)."
   ]
  },
  {
   "cell_type": "code",
   "execution_count": 5,
   "metadata": {},
   "outputs": [],
   "source": [
    "def getTwitterNLP():\n",
    "    nlp = spacy.load('en')\n",
    "    \n",
    "    for word in nlp.Defaults.stop_words:\n",
    "        lex = nlp.vocab[word]\n",
    "        lex.is_stop = True\n",
    "    \n",
    "    special_case = [{ORTH: u'e-cigarette', LEMMA: u'e-cigarette', POS: u'NOUN'}]\n",
    "    nlp.tokenizer.add_special_case(u'e-cigarette', special_case)\n",
    "    nlp.tokenizer.add_special_case(u'E-cigarette', special_case)\n",
    "    vape_case = [{ORTH: u'vape',LEMMA:u'vape',POS: u'NOUN'}]\n",
    "    \n",
    "    vape_spellings =[u'vap',u'vape',u'vaping',u'vapor',u'Vap',u'Vape',u'Vapor',u'Vapour']\n",
    "    for v in vape_spellings:\n",
    "        nlp.tokenizer.add_special_case(v, vape_case)\n",
    "    def hashtag_pipe(doc):\n",
    "        merged_hashtag = True\n",
    "        while merged_hashtag == True:\n",
    "            merged_hashtag = False\n",
    "            for token_index,token in enumerate(doc):\n",
    "                if token.text == '#':\n",
    "                    try:\n",
    "                        nbor = token.nbor()\n",
    "                        start_index = token.idx\n",
    "                        end_index = start_index + len(token.nbor().text) + 1\n",
    "                        if doc.merge(start_index, end_index) is not None:\n",
    "                            merged_hashtag = True\n",
    "                            break\n",
    "                    except:\n",
    "                        pass\n",
    "        return doc\n",
    "    nlp.add_pipe(hashtag_pipe,first=True)\n",
    "    return nlp\n",
    "\n",
    "def includeToken(tok):\n",
    "    val =False\n",
    "    if tok.is_stop == False:\n",
    "        if tok.is_alpha == True: \n",
    "            if tok.text =='RT':\n",
    "                val = False\n",
    "            elif tok.pos_=='NOUN' or tok.pos_=='PROPN' or tok.pos_=='VERB':\n",
    "                val = True\n",
    "        elif tok.text[0]=='#' or tok.text[0]=='@':\n",
    "            val = True\n",
    "    if val== True:\n",
    "        stripped =tok.lemma_.lower().strip()\n",
    "        if len(stripped) ==0:\n",
    "            val = False\n",
    "        else:\n",
    "            val = stripped\n",
    "    return val\n",
    "\n",
    "def filterTweetTokens(tokens):\n",
    "    filtered=[]\n",
    "    for t in tokens:\n",
    "        inc = includeToken(t)\n",
    "        if inc != False:\n",
    "            filtered.append(inc)\n",
    "    return filtered"
   ]
  },
  {
   "cell_type": "markdown",
   "metadata": {},
   "source": [
    "Finally, we will include some additional modules from Scikit-Learn:"
   ]
  },
  {
   "cell_type": "code",
   "execution_count": 6,
   "metadata": {},
   "outputs": [],
   "source": [
    "from sklearn.feature_extraction.text import CountVectorizer\n",
    "from sklearn.base import TransformerMixin\n",
    "from sklearn.pipeline import Pipeline\n",
    "from sklearn.svm import LinearSVC\n",
    "from sklearn.feature_extraction.stop_words import ENGLISH_STOP_WORDS\n",
    "from sklearn.metrics import accuracy_score\n",
    "import string\n",
    "import re"
   ]
  },
  {
   "cell_type": "markdown",
   "metadata": {},
   "source": [
    "Now, we're ready to go along for an exercise"
   ]
  },
  {
   "cell_type": "markdown",
   "metadata": {},
   "source": [
    "Identifying the source of social media comments might be an important step in the process of interpreting a large corpus. Continuing with our example of smoking and vaping, it might be interesting to compare tweets from users - people who are talking about their own personal use  to those who might be either promoting vaping  (manufacturers, sponsors, etc.) or warning about dangers of vaping (physicians, researchers, public health agencies, etc.).\n",
    "\n",
    "A team of researchers at RTI International tackled this problem in a 2018 paper [Classification of Twitter Users Who Tweet About E-Cigarettes](http://publichealth.jmir.org/2017/3/e63/) by Annice Kim and colleagues collected tweets and attributed them to individuals, enthusiasts, \"informed agencies (news media or health community), marketers, or spammers. \n",
    "\n",
    "Your goal here is to collect a small data set and to attempt a smaller version of this challenge. Specifically, we will try to collect preliminary data for a classifier capable of identifing tweets from users of e-cigarettes vs. others.  Using any of the code found in Parts 1-4, complete these steps:\n",
    "\n",
    "1. Run some searches for tweets like 'e-cig', 'e-cigarette', 'vape' and 'vaping'. Collect a corpus of 200-300  or more tweets. You might want to save each of these result sets in files.\n",
    "\n",
    "2. Combine these tweets into one large collection using the 'Tweet' class listed above. Save the results in a file \n",
    "\n",
    "3. Annotate 50 of these tweets as pertaining to either 'individual' or 'non-individual'. Be sure that you do at least a few of the tweets from each of the original sets. One way to do this might be to randomize the tweets. Save the annotated results in a file. \n",
    "\n",
    "4.Review at the distrbution. Is it close to even? If not, do more.\n",
    "\n",
    "5. Take your annotated tweets - split them into train (80%) and test (20%) sets.  Process the train data and build a model (based on a TfIdf Vectorizer and an SVM). Evaluate the model on the test data sets.\n",
    "\n",
    "6. Test your model on the remaining tweets. What does your result look like?\n",
    "\n",
    "7. Review some of the data to identify opportunities for improvement - how might you make these models bettter?\n",
    "\n",
    "8. Reflect on the reproducibility and the reusability of the code: what should be done to make these tools easier to apply to other datasets.\n",
    "\n"
   ]
  },
  {
   "cell_type": "markdown",
   "metadata": {},
   "source": [
    "----\n",
    "*ANSWER FOLLOWS - insert answer here*"
   ]
  },
  {
   "cell_type": "markdown",
   "metadata": {},
   "source": [
    "1.Run some searches for tweets like 'e-cig', 'e-cigarette', 'vape' and 'vaping'. Collect a corpus of 200-300 or more tweets. You might want to save each of these result sets in files."
   ]
  },
  {
   "cell_type": "code",
   "execution_count": 7,
   "metadata": {},
   "outputs": [],
   "source": [
    "tweet_e_cig = Tweets(\"e-cig\",100)\n",
    "tweet_e_cigarette = Tweets(\"e-cigarette\",100)\n",
    "tweet_vape = Tweets(\"vape\",100)\n",
    "tweet_vaping = Tweets(\"vaping\",100)"
   ]
  },
  {
   "cell_type": "code",
   "execution_count": 8,
   "metadata": {},
   "outputs": [],
   "source": [
    "tweet_e_cig.saveTweets('e-cig.json') \n",
    "tweet_e_cigarette.saveTweets('e-cigarette.json') \n",
    "tweet_vape.saveTweets('vape.json')\n",
    "tweet_vaping.saveTweets('vaping.json')"
   ]
  },
  {
   "cell_type": "markdown",
   "metadata": {},
   "source": [
    "Combine these tweets into one large collection using the 'Tweet' class listed above. Save the results in a file"
   ]
  },
  {
   "cell_type": "code",
   "execution_count": 10,
   "metadata": {},
   "outputs": [],
   "source": [
    "tweet_e_cig.combineTweets(tweet_e_cigarette)\n",
    "tweet_e_cig.combineTweets(tweet_vape)\n",
    "tweet_e_cig.combineTweets(tweet_vaping)\n",
    "tweet_e_cig.saveTweets('tweets.json')"
   ]
  },
  {
   "cell_type": "markdown",
   "metadata": {},
   "source": [
    "Annotate 50 of these tweets as pertaining to either 'individual' or 'non-individual'. Be sure that you do at least a few of the tweets from each of the original sets. One way to do this might be to randomize the tweets. Save the annotated results in a file."
   ]
  },
  {
   "cell_type": "code",
   "execution_count": 15,
   "metadata": {},
   "outputs": [],
   "source": [
    "tweets = Tweets()\n",
    "tweets.readTweets('tweets.json')"
   ]
  },
  {
   "cell_type": "code",
   "execution_count": 17,
   "metadata": {},
   "outputs": [
    {
     "data": {
      "text/plain": [
       "378"
      ]
     },
     "execution_count": 17,
     "metadata": {},
     "output_type": "execute_result"
    }
   ],
   "source": [
    "tweets.countTweets()"
   ]
  },
  {
   "cell_type": "code",
   "execution_count": 82,
   "metadata": {},
   "outputs": [],
   "source": [
    "all = list(tweets.getIds())\n",
    "id = np.random.choice(378,50,replace = False)"
   ]
  },
  {
   "cell_type": "markdown",
   "metadata": {},
   "source": [
    "The start of the tweet of random:"
   ]
  },
  {
   "cell_type": "code",
   "execution_count": 85,
   "metadata": {},
   "outputs": [
    {
     "name": "stdout",
     "output_type": "stream",
     "text": [
      "@tanamongeau real shit please vape cum on live for us\n"
     ]
    }
   ],
   "source": [
    "curid = id[0]\n",
    "tid = all[curid]\n",
    "tweet = tweets.getText(tid)\n",
    "print(tweet)"
   ]
  },
  {
   "cell_type": "code",
   "execution_count": 86,
   "metadata": {},
   "outputs": [],
   "source": [
    "tweets.addCode(tid, 'NON-INDIVIDUAL')"
   ]
  },
  {
   "cell_type": "code",
   "execution_count": 87,
   "metadata": {},
   "outputs": [
    {
     "name": "stdout",
     "output_type": "stream",
     "text": [
      "£ 48.99 - from £89.00\n",
      "https://t.co/49puqK4cd2\n",
      "\n",
      "EUR 58,98 \n",
      "\n",
      " Electronic Cigarette TC Vape Box Mod Rofvape Witcher 75W E Cigarette Starter Kit E Shisha Vape Kit All-in-One 510 Thread Ecig Kits | | OTHD \n",
      "https://t.co/AJNYoET3Ma \n",
      "#vape #witchervape #tcvape #shishavape #allinonevape https://t.co/IyOCgIHebA\n"
     ]
    }
   ],
   "source": [
    "curid = id[1]\n",
    "tid = all[curid]\n",
    "tweet = tweets.getText(tid)\n",
    "print(tweet)"
   ]
  },
  {
   "cell_type": "code",
   "execution_count": 88,
   "metadata": {},
   "outputs": [],
   "source": [
    "tweets.addCode(tid, 'INDIVIDUAL')"
   ]
  },
  {
   "cell_type": "code",
   "execution_count": 90,
   "metadata": {},
   "outputs": [
    {
     "name": "stdout",
     "output_type": "stream",
     "text": [
      "100% Authentic VOOPOO Drag 157W TC Box Mod TC mod VW 18650 Battery Temperature Control e-cig 157W 18650 box mod vape NO battery https://t.co/g3HNUcOq0P\n"
     ]
    }
   ],
   "source": [
    "curid = id[2]\n",
    "tid = all[curid]\n",
    "tweet = tweets.getText(tid)\n",
    "print(tweet)"
   ]
  },
  {
   "cell_type": "code",
   "execution_count": 91,
   "metadata": {},
   "outputs": [],
   "source": [
    "tweets.addCode(tid, 'INDIVIDUAL')"
   ]
  },
  {
   "cell_type": "code",
   "execution_count": 92,
   "metadata": {},
   "outputs": [
    {
     "name": "stdout",
     "output_type": "stream",
     "text": [
      "There is not yet any research on e-cigarettes and SIDS, but using an e-cigarette appears to be much safer than continuing to smoke; both during pregnancy and once your baby is born. https://t.co/KZ1ntPmQhl\n"
     ]
    }
   ],
   "source": [
    "curid = id[3]\n",
    "tid = all[curid]\n",
    "tweet = tweets.getText(tid)\n",
    "print(tweet)"
   ]
  },
  {
   "cell_type": "code",
   "execution_count": 93,
   "metadata": {},
   "outputs": [],
   "source": [
    "tweets.addCode(tid, 'NON-INDIVIDUAL')"
   ]
  },
  {
   "cell_type": "code",
   "execution_count": 94,
   "metadata": {},
   "outputs": [
    {
     "name": "stdout",
     "output_type": "stream",
     "text": [
      "We’ll release additional data soon on kids use of tobacco. None of the metrics we're seeing are moving in the right direction in relation to e-cig use by kids. We can’t allow a new generation to become addicted to nicotine. We'll be taking new steps to help reverse these trends.\n"
     ]
    }
   ],
   "source": [
    "curid = id[4]\n",
    "tid = all[curid]\n",
    "tweet = tweets.getText(tid)\n",
    "print(tweet)"
   ]
  },
  {
   "cell_type": "code",
   "execution_count": 95,
   "metadata": {},
   "outputs": [],
   "source": [
    "tweets.addCode(tid, 'NON-INDIVIDUAL')"
   ]
  },
  {
   "cell_type": "code",
   "execution_count": 96,
   "metadata": {},
   "outputs": [
    {
     "name": "stdout",
     "output_type": "stream",
     "text": [
      "An analysis on e-cigarette use reveals that they can increase your risk for a heart attack.\n",
      "https://t.co/9JXSc8uUGS https://t.co/gw2XYZW6PB\n"
     ]
    }
   ],
   "source": [
    "curid = id[5]\n",
    "tid = all[curid]\n",
    "tweet = tweets.getText(tid)\n",
    "print(tweet)"
   ]
  },
  {
   "cell_type": "code",
   "execution_count": 97,
   "metadata": {},
   "outputs": [],
   "source": [
    "tweets.addCode(tid, 'NON-INDIVIDUAL')"
   ]
  },
  {
   "cell_type": "code",
   "execution_count": 98,
   "metadata": {},
   "outputs": [
    {
     "name": "stdout",
     "output_type": "stream",
     "text": [
      "Call Nurse Leahy at 406-258-3882 and tell her how you feel. #vaping #notblowingsmoke https://t.co/TrGtHBAGcQ\n"
     ]
    }
   ],
   "source": [
    "curid = id[6]\n",
    "tid = all[curid]\n",
    "tweet = tweets.getText(tid)\n",
    "print(tweet)"
   ]
  },
  {
   "cell_type": "code",
   "execution_count": 99,
   "metadata": {},
   "outputs": [],
   "source": [
    "tweets.addCode(tid, 'INDIVIDUAL')"
   ]
  },
  {
   "cell_type": "code",
   "execution_count": 100,
   "metadata": {},
   "outputs": [
    {
     "name": "stdout",
     "output_type": "stream",
     "text": [
      "Affordable vaping for smokers in poor countries branded 'a human rights issue' https://t.co/clVQj2T0sU https://t.co/gnlZmV4SY8\n"
     ]
    }
   ],
   "source": [
    "curid = id[7]\n",
    "tid = all[curid]\n",
    "tweet = tweets.getText(tid)\n",
    "print(tweet)"
   ]
  },
  {
   "cell_type": "code",
   "execution_count": 101,
   "metadata": {},
   "outputs": [],
   "source": [
    "tweets.addCode(tid, 'NON-INDIVIDUAL')"
   ]
  },
  {
   "cell_type": "code",
   "execution_count": 102,
   "metadata": {},
   "outputs": [
    {
     "name": "stdout",
     "output_type": "stream",
     "text": [
      "RT NIDAnews: An analysis on e-cigarette use reveals that they can increase your risk for a heart attack.\n",
      "https://t.co/KMapfY6JfS https://t.co/0bnMXn1qHM\n"
     ]
    }
   ],
   "source": [
    "curid = id[8]\n",
    "tid = all[curid]\n",
    "tweet = tweets.getText(tid)\n",
    "print(tweet)"
   ]
  },
  {
   "cell_type": "code",
   "execution_count": 103,
   "metadata": {},
   "outputs": [],
   "source": [
    "tweets.addCode(tid, 'NON-INDIVIDUAL')"
   ]
  },
  {
   "cell_type": "code",
   "execution_count": 104,
   "metadata": {},
   "outputs": [
    {
     "name": "stdout",
     "output_type": "stream",
     "text": [
      "clouds are just god’s vape smoke\n"
     ]
    }
   ],
   "source": [
    "curid = id[9]\n",
    "tid = all[curid]\n",
    "tweet = tweets.getText(tid)\n",
    "print(tweet)"
   ]
  },
  {
   "cell_type": "code",
   "execution_count": 105,
   "metadata": {},
   "outputs": [],
   "source": [
    "tweets.addCode(tid, 'INDIVIDUAL')"
   ]
  },
  {
   "cell_type": "code",
   "execution_count": 106,
   "metadata": {},
   "outputs": [
    {
     "name": "stdout",
     "output_type": "stream",
     "text": [
      "Dude just cruised past me riding a lawn chair taped to an electric skateboard while vaping and blasting Jack Johnson. Now I’m questioning all my life choices. https://t.co/VfFlJZKil4\n"
     ]
    }
   ],
   "source": [
    "curid = id[10]\n",
    "tid = all[curid]\n",
    "tweet = tweets.getText(tid)\n",
    "print(tweet)"
   ]
  },
  {
   "cell_type": "code",
   "execution_count": 107,
   "metadata": {},
   "outputs": [],
   "source": [
    "tweets.addCode(tid, 'NON-INDIVIDUAL')"
   ]
  },
  {
   "cell_type": "code",
   "execution_count": 108,
   "metadata": {},
   "outputs": [
    {
     "name": "stdout",
     "output_type": "stream",
     "text": [
      "An analysis on e-cigarette use reveals that they can increase your risk for a heart attack.\n",
      "https://t.co/9JXSc8uUGS https://t.co/gw2XYZW6PB\n"
     ]
    }
   ],
   "source": [
    "curid = id[11]\n",
    "tid = all[curid]\n",
    "tweet = tweets.getText(tid)\n",
    "print(tweet)"
   ]
  },
  {
   "cell_type": "code",
   "execution_count": 109,
   "metadata": {},
   "outputs": [],
   "source": [
    "tweets.addCode(tid, 'INDIVIDUAL')"
   ]
  },
  {
   "cell_type": "code",
   "execution_count": 110,
   "metadata": {},
   "outputs": [
    {
     "name": "stdout",
     "output_type": "stream",
     "text": [
      "Re-watching Public Enemies, patiently waiting for Stephen Dorff to bust out his blu e-cig...just in case I missed it the first time around.\n"
     ]
    }
   ],
   "source": [
    "curid = id[12]\n",
    "tid = all[curid]\n",
    "tweet = tweets.getText(tid)\n",
    "print(tweet)"
   ]
  },
  {
   "cell_type": "code",
   "execution_count": 111,
   "metadata": {},
   "outputs": [],
   "source": [
    "tweets.addCode(tid, 'INDIVIDUAL')"
   ]
  },
  {
   "cell_type": "code",
   "execution_count": 112,
   "metadata": {},
   "outputs": [
    {
     "name": "stdout",
     "output_type": "stream",
     "text": [
      "@DJStrifeGaming vaping outside near Marriott. Any good (bad) ideas\n"
     ]
    }
   ],
   "source": [
    "curid = id[13]\n",
    "tid = all[curid]\n",
    "tweet = tweets.getText(tid)\n",
    "print(tweet)"
   ]
  },
  {
   "cell_type": "code",
   "execution_count": 113,
   "metadata": {},
   "outputs": [],
   "source": [
    "tweets.addCode(tid, 'INDIVIDUAL')"
   ]
  },
  {
   "cell_type": "code",
   "execution_count": 114,
   "metadata": {},
   "outputs": [
    {
     "name": "stdout",
     "output_type": "stream",
     "text": [
      ".@SecAzar: \"A kid should simply never have an e-cigarette in their mouth, whatever the product is that they might be consuming.\" https://t.co/WjAFd5jtWW\n"
     ]
    }
   ],
   "source": [
    "curid = id[14]\n",
    "tid = all[curid]\n",
    "tweet = tweets.getText(tid)\n",
    "print(tweet)"
   ]
  },
  {
   "cell_type": "code",
   "execution_count": 115,
   "metadata": {},
   "outputs": [],
   "source": [
    "tweets.addCode(tid, 'INDIVIDUAL')"
   ]
  },
  {
   "cell_type": "code",
   "execution_count": 116,
   "metadata": {},
   "outputs": [
    {
     "name": "stdout",
     "output_type": "stream",
     "text": [
      "“are you vaping on the pork chops?”\n"
     ]
    }
   ],
   "source": [
    "curid = id[15]\n",
    "tid = all[curid]\n",
    "tweet = tweets.getText(tid)\n",
    "print(tweet)"
   ]
  },
  {
   "cell_type": "code",
   "execution_count": 117,
   "metadata": {},
   "outputs": [],
   "source": [
    "tweets.addCode(tid, 'INDIVIDUAL')"
   ]
  },
  {
   "cell_type": "code",
   "execution_count": 118,
   "metadata": {},
   "outputs": [
    {
     "name": "stdout",
     "output_type": "stream",
     "text": [
      "@JPNadda @MoHFW_INDIA @vapeindia It's interesting to see the Australian Political support for the vaping regulatory compliance. I hope the Indian authorities also take such a democratic outlook. Lets give our people a safe alternative.\n",
      "\n",
      "https://t.co/tYN5MsjYJ0\n"
     ]
    }
   ],
   "source": [
    "curid = id[16]\n",
    "tid = all[curid]\n",
    "tweet = tweets.getText(tid)\n",
    "print(tweet)"
   ]
  },
  {
   "cell_type": "code",
   "execution_count": 119,
   "metadata": {},
   "outputs": [],
   "source": [
    "tweets.addCode(tid, 'NON-INDIVIDUAL')"
   ]
  },
  {
   "cell_type": "code",
   "execution_count": 120,
   "metadata": {},
   "outputs": [
    {
     "name": "stdout",
     "output_type": "stream",
     "text": [
      "An analysis on e-cigarette use reveals that they can increase your risk for a heart attack.\n",
      "https://t.co/9JXSc8uUGS https://t.co/gw2XYZW6PB\n"
     ]
    }
   ],
   "source": [
    "curid = id[17]\n",
    "tid = all[curid]\n",
    "tweet = tweets.getText(tid)\n",
    "print(tweet)"
   ]
  },
  {
   "cell_type": "code",
   "execution_count": 121,
   "metadata": {},
   "outputs": [],
   "source": [
    "tweets.addCode(tid, 'NON-INDIVIDUAL')"
   ]
  },
  {
   "cell_type": "code",
   "execution_count": 122,
   "metadata": {},
   "outputs": [
    {
     "name": "stdout",
     "output_type": "stream",
     "text": [
      "Robbers Come Back After Belgian E-Cigarette Shop Owner Tells Them to Come Back Later https://t.co/38iBonZbWk\n"
     ]
    }
   ],
   "source": [
    "curid = id[18]\n",
    "tid = all[curid]\n",
    "tweet = tweets.getText(tid)\n",
    "print(tweet)"
   ]
  },
  {
   "cell_type": "code",
   "execution_count": 123,
   "metadata": {},
   "outputs": [],
   "source": [
    "tweets.addCode(tid, 'INDIVIDUAL')"
   ]
  },
  {
   "cell_type": "code",
   "execution_count": 124,
   "metadata": {},
   "outputs": [
    {
     "name": "stdout",
     "output_type": "stream",
     "text": [
      "THE ENTIRE WEED INDUSTRY: were gonna use one kind of vape pen battery. even though represent thousands of companies, all weed oil pods will be compatible with it\n",
      "\n",
      "APPLE: ooh sorry you’re gonna need 18 adapters for that thing you bought 2 months ago. we’re innovators\n"
     ]
    }
   ],
   "source": [
    "curid = id[19]\n",
    "tid = all[curid]\n",
    "tweet = tweets.getText(tid)\n",
    "print(tweet)"
   ]
  },
  {
   "cell_type": "code",
   "execution_count": 125,
   "metadata": {},
   "outputs": [],
   "source": [
    "tweets.addCode(tid, 'NON-INDIVIDUAL')"
   ]
  },
  {
   "cell_type": "code",
   "execution_count": 126,
   "metadata": {},
   "outputs": [
    {
     "name": "stdout",
     "output_type": "stream",
     "text": [
      "This raspberry cheese cake vape juice is a dessert lmao\n"
     ]
    }
   ],
   "source": [
    "curid = id[20]\n",
    "tid = all[curid]\n",
    "tweet = tweets.getText(tid)\n",
    "print(tweet)"
   ]
  },
  {
   "cell_type": "code",
   "execution_count": 127,
   "metadata": {},
   "outputs": [],
   "source": [
    "tweets.addCode(tid, 'NON-INDIVIDUAL')"
   ]
  },
  {
   "cell_type": "code",
   "execution_count": 128,
   "metadata": {},
   "outputs": [
    {
     "name": "stdout",
     "output_type": "stream",
     "text": [
      "Jenks Schools Says E-Cigarette Use Is Growing Among Younger Students - News On 6: https://t.co/YCMrQ7NE61\n"
     ]
    }
   ],
   "source": [
    "curid = id[21]\n",
    "tid = all[curid]\n",
    "tweet = tweets.getText(tid)\n",
    "print(tweet)"
   ]
  },
  {
   "cell_type": "code",
   "execution_count": 129,
   "metadata": {},
   "outputs": [],
   "source": [
    "tweets.addCode(tid, 'INDIVIDUAL')"
   ]
  },
  {
   "cell_type": "code",
   "execution_count": 130,
   "metadata": {},
   "outputs": [
    {
     "name": "stdout",
     "output_type": "stream",
     "text": [
      "@IanMcMian1 Yes. Luckily I’m white and will be staying away from all crowds and political demonstrations. Not worth getting shot by a cop reaching for my vape\n"
     ]
    }
   ],
   "source": [
    "curid = id[22]\n",
    "tid = all[curid]\n",
    "tweet = tweets.getText(tid)\n",
    "print(tweet)"
   ]
  },
  {
   "cell_type": "code",
   "execution_count": 131,
   "metadata": {},
   "outputs": [],
   "source": [
    "tweets.addCode(tid, 'INDIVIDUAL')"
   ]
  },
  {
   "cell_type": "code",
   "execution_count": 132,
   "metadata": {},
   "outputs": [
    {
     "name": "stdout",
     "output_type": "stream",
     "text": [
      "THE ENTIRE WEED INDUSTRY: were gonna use one kind of vape pen battery. even though represent thousands of companies, all weed oil pods will be compatible with it\n",
      "\n",
      "APPLE: ooh sorry you’re gonna need 18 adapters for that thing you bought 2 months ago. we’re innovators\n"
     ]
    }
   ],
   "source": [
    "curid = id[23]\n",
    "tid = all[curid]\n",
    "tweet = tweets.getText(tid)\n",
    "print(tweet)"
   ]
  },
  {
   "cell_type": "code",
   "execution_count": 133,
   "metadata": {},
   "outputs": [],
   "source": [
    "tweets.addCode(tid, 'NON-INDIVIDUAL')"
   ]
  },
  {
   "cell_type": "code",
   "execution_count": 134,
   "metadata": {},
   "outputs": [
    {
     "name": "stdout",
     "output_type": "stream",
     "text": [
      "@shelbylfunk Get an usher. No vaping inside the arena.\n"
     ]
    }
   ],
   "source": [
    "curid = id[24]\n",
    "tid = all[curid]\n",
    "tweet = tweets.getText(tid)\n",
    "print(tweet)"
   ]
  },
  {
   "cell_type": "code",
   "execution_count": 135,
   "metadata": {},
   "outputs": [],
   "source": [
    "tweets.addCode(tid, 'INDIVIDUAL')"
   ]
  },
  {
   "cell_type": "code",
   "execution_count": 136,
   "metadata": {},
   "outputs": [
    {
     "name": "stdout",
     "output_type": "stream",
     "text": [
      ".@SecAzar: \"A kid should simply never have an e-cigarette in their mouth, whatever the product is that they might be consuming.\" https://t.co/WjAFd5jtWW\n"
     ]
    }
   ],
   "source": [
    "curid = id[25]\n",
    "tid = all[curid]\n",
    "tweet = tweets.getText(tid)\n",
    "print(tweet)"
   ]
  },
  {
   "cell_type": "code",
   "execution_count": 137,
   "metadata": {},
   "outputs": [],
   "source": [
    "tweets.addCode(tid, 'INDIVIDUAL')"
   ]
  },
  {
   "cell_type": "code",
   "execution_count": 138,
   "metadata": {},
   "outputs": [
    {
     "name": "stdout",
     "output_type": "stream",
     "text": [
      "In @AddictionJrnl:\n",
      "From 2014-2017 in England, e-cigarette use was greater among smokers from higher compared with lower socioeconomic status (SES) groups, but this difference attenuated over time.\n",
      "https://t.co/AJULHNTXsF https://t.co/KNmsrwfdg5\n"
     ]
    }
   ],
   "source": [
    "curid = id[26]\n",
    "tid = all[curid]\n",
    "tweet = tweets.getText(tid)\n",
    "print(tweet)"
   ]
  },
  {
   "cell_type": "code",
   "execution_count": 139,
   "metadata": {},
   "outputs": [],
   "source": [
    "tweets.addCode(tid, 'NON-INDIVIDUAL')"
   ]
  },
  {
   "cell_type": "code",
   "execution_count": 140,
   "metadata": {},
   "outputs": [
    {
     "name": "stdout",
     "output_type": "stream",
     "text": [
      "So it’s this thing called an e-cig https://t.co/NPHPot6SDe\n"
     ]
    }
   ],
   "source": [
    "curid = id[27]\n",
    "tid = all[curid]\n",
    "tweet = tweets.getText(tid)\n",
    "print(tweet)"
   ]
  },
  {
   "cell_type": "code",
   "execution_count": 141,
   "metadata": {},
   "outputs": [],
   "source": [
    "tweets.addCode(tid, 'NON-INDIVIDUAL')"
   ]
  },
  {
   "cell_type": "code",
   "execution_count": 142,
   "metadata": {},
   "outputs": [
    {
     "name": "stdout",
     "output_type": "stream",
     "text": [
      "Citrus never tasted so good. \n",
      "#lorange #cartridges #moxie #thccartridges #vaping #vaporization #weedstagram #weed #weedporn #pammj #medicalmarijuana #marijuanadoctor… https://t.co/YherJrxFDP\n"
     ]
    }
   ],
   "source": [
    "curid = id[28]\n",
    "tid = all[curid]\n",
    "tweet = tweets.getText(tid)\n",
    "print(tweet)"
   ]
  },
  {
   "cell_type": "code",
   "execution_count": 143,
   "metadata": {},
   "outputs": [],
   "source": [
    "tweets.addCode(tid, 'NON-INDIVIDUAL')"
   ]
  },
  {
   "cell_type": "code",
   "execution_count": 144,
   "metadata": {},
   "outputs": [
    {
     "name": "stdout",
     "output_type": "stream",
     "text": [
      "E-cigarette disaster - Southern Standard: https://t.co/YCMrQ7NE61\n"
     ]
    }
   ],
   "source": [
    "curid = id[29]\n",
    "tid = all[curid]\n",
    "tweet = tweets.getText(tid)\n",
    "print(tweet)"
   ]
  },
  {
   "cell_type": "code",
   "execution_count": 145,
   "metadata": {},
   "outputs": [],
   "source": [
    "tweets.addCode(tid, 'NON-INDIVIDUAL')"
   ]
  },
  {
   "cell_type": "code",
   "execution_count": 146,
   "metadata": {},
   "outputs": [
    {
     "name": "stdout",
     "output_type": "stream",
     "text": [
      "An analysis on e-cigarette use reveals that they can increase your risk for a heart attack.\n",
      "https://t.co/9JXSc8uUGS https://t.co/gw2XYZW6PB\n"
     ]
    }
   ],
   "source": [
    "curid = id[30]\n",
    "tid = all[curid]\n",
    "tweet = tweets.getText(tid)\n",
    "print(tweet)"
   ]
  },
  {
   "cell_type": "code",
   "execution_count": 147,
   "metadata": {},
   "outputs": [],
   "source": [
    "tweets.addCode(tid, 'NON-INDIVIDUAL')"
   ]
  },
  {
   "cell_type": "code",
   "execution_count": 152,
   "metadata": {},
   "outputs": [
    {
     "name": "stdout",
     "output_type": "stream",
     "text": [
      "1056344494541422592\n",
      "A poem:\n",
      "\n",
      "New York in the fall\n",
      "Makes me feel less alone\n",
      "You can see everybody's breath\n",
      "It's almost like\n",
      "We're all vaping\n"
     ]
    }
   ],
   "source": [
    "curid = id[31]\n",
    "tid = all[curid]\n",
    "print(tid)\n",
    "tweet = tweets.getText(tid)\n",
    "print(tweet)"
   ]
  },
  {
   "cell_type": "code",
   "execution_count": 153,
   "metadata": {},
   "outputs": [],
   "source": [
    "tweets.addCode(tid, 'NON-INDIVIDUAL')"
   ]
  },
  {
   "cell_type": "code",
   "execution_count": 151,
   "metadata": {},
   "outputs": [
    {
     "name": "stdout",
     "output_type": "stream",
     "text": [
      "1056256485288747015\n",
      "An analysis on e-cigarette use reveals that they can increase your risk for a heart attack.\n",
      "https://t.co/9JXSc8uUGS https://t.co/gw2XYZW6PB\n"
     ]
    }
   ],
   "source": [
    "curid = id[32]\n",
    "tid = all[curid]\n",
    "print(tid)\n",
    "tweet = tweets.getText(tid)\n",
    "print(tweet)"
   ]
  },
  {
   "cell_type": "code",
   "execution_count": 154,
   "metadata": {},
   "outputs": [],
   "source": [
    "tweets.addCode(tid, 'NON-INDIVIDUAL')"
   ]
  },
  {
   "cell_type": "code",
   "execution_count": 155,
   "metadata": {},
   "outputs": [
    {
     "name": "stdout",
     "output_type": "stream",
     "text": [
      "Anyone see a iPhone10 or Vape from last night at the party? Someone’s saying it’s gone missing and any info would be greatly appreciated!\n"
     ]
    }
   ],
   "source": [
    "curid = id[33]\n",
    "tid = all[curid]\n",
    "tweet = tweets.getText(tid)\n",
    "print(tweet)"
   ]
  },
  {
   "cell_type": "code",
   "execution_count": 156,
   "metadata": {},
   "outputs": [],
   "source": [
    "tweets.addCode(tid, 'NON-INDIVIDUAL')"
   ]
  },
  {
   "cell_type": "code",
   "execution_count": 157,
   "metadata": {},
   "outputs": [
    {
     "name": "stdout",
     "output_type": "stream",
     "text": [
      "High Tech Companies Report Low Earnings; Trouble In E-Cig Paradise For Altria https://t.co/pVI8YUG3WC\n"
     ]
    }
   ],
   "source": [
    "curid = id[34]\n",
    "tid = all[curid]\n",
    "tweet = tweets.getText(tid)\n",
    "print(tweet)"
   ]
  },
  {
   "cell_type": "code",
   "execution_count": 158,
   "metadata": {},
   "outputs": [],
   "source": [
    "tweets.addCode(tid, 'NON-INDIVIDUAL')"
   ]
  },
  {
   "cell_type": "code",
   "execution_count": 159,
   "metadata": {},
   "outputs": [
    {
     "name": "stdout",
     "output_type": "stream",
     "text": [
      "THE ENTIRE WEED INDUSTRY: were gonna use one kind of vape pen battery. even though represent thousands of companies, all weed oil pods will be compatible with it\n",
      "\n",
      "APPLE: ooh sorry you’re gonna need 18 adapters for that thing you bought 2 months ago. we’re innovators\n"
     ]
    }
   ],
   "source": [
    "curid = id[35]\n",
    "tid = all[curid]\n",
    "tweet = tweets.getText(tid)\n",
    "print(tweet)"
   ]
  },
  {
   "cell_type": "code",
   "execution_count": 160,
   "metadata": {},
   "outputs": [],
   "source": [
    "tweets.addCode(tid, 'NON-INDIVIDUAL')"
   ]
  },
  {
   "cell_type": "code",
   "execution_count": 161,
   "metadata": {},
   "outputs": [
    {
     "name": "stdout",
     "output_type": "stream",
     "text": [
      "@FakingDancy @pandorable1968 @thunderbella @mally_da @theRealDawson83 @QueenBeeCanadas @CCfanessa @moseley_carla @DetroitLove88 @JettaAngeli @icandisf @CunningSq16 @CanuckSassy @stephlococcus @lynda424200 @superparentx4 @over_nurse3 @HeartOfGlass_1 Ahh yes. I don't actually *watch* tv most of the time. I'm always doing something. Smoking/vaping, writing, chatting, tweeting, texting, reading, researching, always doing something. Come November 1st at midnight, the tv will be 95% background noise, regardless of the station.\n"
     ]
    }
   ],
   "source": [
    "curid = id[36]\n",
    "tid = all[curid]\n",
    "tweet = tweets.getText(tid)\n",
    "print(tweet)"
   ]
  },
  {
   "cell_type": "code",
   "execution_count": 162,
   "metadata": {},
   "outputs": [],
   "source": [
    "tweets.addCode(tid, 'INDIVIDUAL')"
   ]
  },
  {
   "cell_type": "code",
   "execution_count": 163,
   "metadata": {},
   "outputs": [
    {
     "name": "stdout",
     "output_type": "stream",
     "text": [
      "Just in - #e-cigarette maker #JUUL spent USD $560k in just the last 3 months lobbying US lawmakers while regulators at the FDA try to crack down on the youth e-cig crisis in the US. More: https://t.co/ZTgjR8nSx1\n"
     ]
    }
   ],
   "source": [
    "curid = id[37]\n",
    "tid = all[curid]\n",
    "tweet = tweets.getText(tid)\n",
    "print(tweet)"
   ]
  },
  {
   "cell_type": "code",
   "execution_count": 164,
   "metadata": {},
   "outputs": [],
   "source": [
    "tweets.addCode(tid, 'NON-INDIVIDUAL')"
   ]
  },
  {
   "cell_type": "code",
   "execution_count": 165,
   "metadata": {},
   "outputs": [
    {
     "name": "stdout",
     "output_type": "stream",
     "text": [
      "🔥Kangertech EVOD MEGA?? ??Starter kit🔥\n",
      "👉https://t.co/NX2SfBfvrq👈.\n",
      "1900mAh Capacity USB Charger 2.4 ml Tank\n",
      "🌎FREE SHIPPING🌎\n",
      "#buynow #shopping #ebay #gift#e-cig #gear #smoke #ebayseller #ebaystore#onlinestore #electronic #kit #starter #EVOD#Kangertech @eBay_UK\n"
     ]
    }
   ],
   "source": [
    "curid = id[38]\n",
    "tid = all[curid]\n",
    "tweet = tweets.getText(tid)\n",
    "print(tweet)"
   ]
  },
  {
   "cell_type": "code",
   "execution_count": 166,
   "metadata": {},
   "outputs": [],
   "source": [
    "tweets.addCode(tid, 'NON-INDIVIDUAL')"
   ]
  },
  {
   "cell_type": "code",
   "execution_count": 167,
   "metadata": {},
   "outputs": [
    {
     "name": "stdout",
     "output_type": "stream",
     "text": [
      "£ 48.99 - from £89.00\n",
      "https://t.co/49puqK4cd2\n",
      "\n",
      "EUR 58,98 \n",
      "\n",
      " Electronic Cigarette TC Vape Box Mod Rofvape Witcher 75W E Cigarette Starter Kit E Shisha Vape Kit All-in-One 510 Thread Ecig Kits | | OTHD \n",
      "https://t.co/AJNYoET3Ma \n",
      "#vape #witchervape #tcvape #shishavape #allinonevape https://t.co/IyOCgIHebA\n"
     ]
    }
   ],
   "source": [
    "curid = id[39]\n",
    "tid = all[curid]\n",
    "tweet = tweets.getText(tid)\n",
    "print(tweet)"
   ]
  },
  {
   "cell_type": "code",
   "execution_count": 168,
   "metadata": {},
   "outputs": [],
   "source": [
    "tweets.addCode(tid, 'NON-INDIVIDUAL')"
   ]
  },
  {
   "cell_type": "code",
   "execution_count": 169,
   "metadata": {},
   "outputs": [
    {
     "name": "stdout",
     "output_type": "stream",
     "text": [
      "Cherry Wood Ego Evod Vape stand holder for tanks, battery,vaper and e-cig: $9.95 End Date… https://t.co/KFcZl5qIQk\n"
     ]
    }
   ],
   "source": [
    "curid = id[40]\n",
    "tid = all[curid]\n",
    "tweet = tweets.getText(tid)\n",
    "print(tweet)"
   ]
  },
  {
   "cell_type": "code",
   "execution_count": 170,
   "metadata": {},
   "outputs": [],
   "source": [
    "tweets.addCode(tid, 'NON-INDIVIDUAL')"
   ]
  },
  {
   "cell_type": "code",
   "execution_count": 171,
   "metadata": {},
   "outputs": [
    {
     "name": "stdout",
     "output_type": "stream",
     "text": [
      "THE ENTIRE WEED INDUSTRY: were gonna use one kind of vape pen battery. even though represent thousands of companies, all weed oil pods will be compatible with it\n",
      "\n",
      "APPLE: ooh sorry you’re gonna need 18 adapters for that thing you bought 2 months ago. we’re innovators\n"
     ]
    }
   ],
   "source": [
    "curid = id[41]\n",
    "tid = all[curid]\n",
    "tweet = tweets.getText(tid)\n",
    "print(tweet)"
   ]
  },
  {
   "cell_type": "code",
   "execution_count": 172,
   "metadata": {},
   "outputs": [],
   "source": [
    "tweets.addCode(tid, 'NON-INDIVIDUAL')"
   ]
  },
  {
   "cell_type": "code",
   "execution_count": 173,
   "metadata": {},
   "outputs": [
    {
     "name": "stdout",
     "output_type": "stream",
     "text": [
      ".@SecAzar: \"A kid should simply never have an e-cigarette in their mouth, whatever the product is that they might be consuming.\" https://t.co/WjAFd5jtWW\n"
     ]
    }
   ],
   "source": [
    "curid = id[42]\n",
    "tid = all[curid]\n",
    "tweet = tweets.getText(tid)\n",
    "print(tweet)"
   ]
  },
  {
   "cell_type": "code",
   "execution_count": 174,
   "metadata": {},
   "outputs": [],
   "source": [
    "tweets.addCode(tid, 'INDIVIDUAL')"
   ]
  },
  {
   "cell_type": "code",
   "execution_count": 175,
   "metadata": {},
   "outputs": [
    {
     "name": "stdout",
     "output_type": "stream",
     "text": [
      "100ML \"UBLO\" E Liquid Juice Vape 0mg £9.99 each buy 2 get 1 #free #UBLO\n",
      "https://t.co/2Ncti0cIM5 … … … …\n",
      "#tweetmaster #atsocialmedia #vapecommunity #vapefamily #vapenation #vapeshop  #Vape #cloudchaser #vapelife #vapeporn #JBRT18VAPE #SHORTFILL GREAT TASTE GREAT VALUE https://t.co/buOnja4VLs\n"
     ]
    }
   ],
   "source": [
    "curid = id[43]\n",
    "tid = all[curid]\n",
    "tweet = tweets.getText(tid)\n",
    "print(tweet)"
   ]
  },
  {
   "cell_type": "code",
   "execution_count": 176,
   "metadata": {},
   "outputs": [],
   "source": [
    "tweets.addCode(tid, 'NON-INDIVIDUAL')"
   ]
  },
  {
   "cell_type": "code",
   "execution_count": 177,
   "metadata": {},
   "outputs": [
    {
     "name": "stdout",
     "output_type": "stream",
     "text": [
      "Marlboro Maker Altria Pulls Some E-Cig Products https://t.co/CZplUFSU5l\n"
     ]
    }
   ],
   "source": [
    "curid = id[44]\n",
    "tid = all[curid]\n",
    "tweet = tweets.getText(tid)\n",
    "print(tweet)"
   ]
  },
  {
   "cell_type": "code",
   "execution_count": 180,
   "metadata": {},
   "outputs": [],
   "source": [
    "tweets.addCode(tid, 'NON-INDIVIDUAL')"
   ]
  },
  {
   "cell_type": "code",
   "execution_count": 179,
   "metadata": {},
   "outputs": [
    {
     "name": "stdout",
     "output_type": "stream",
     "text": [
      "An analysis on e-cigarette use reveals that they can increase your risk for a heart attack.\n",
      "https://t.co/9JXSc8uUGS https://t.co/gw2XYZW6PB\n"
     ]
    }
   ],
   "source": [
    "curid = id[45]\n",
    "tid = all[curid]\n",
    "tweet = tweets.getText(tid)\n",
    "print(tweet)"
   ]
  },
  {
   "cell_type": "code",
   "execution_count": 181,
   "metadata": {},
   "outputs": [],
   "source": [
    "tweets.addCode(tid, 'NON-INDIVIDUAL')"
   ]
  },
  {
   "cell_type": "code",
   "execution_count": 183,
   "metadata": {},
   "outputs": [
    {
     "name": "stdout",
     "output_type": "stream",
     "text": [
      "@KahliroKory @Kris_Z_Massey @sullysfca @VettingBernie @TrudeauMacron @DineshDSouza @NRATV @DLoesch @AssataProtege @AnooshMCL @gailborges @thereal_hair @TwumpFaschion @FirstDudeUS @LokiLoptr @GammaRae206 @EriqKunz1 @ShellyRKirchoff @CarmaCreated @TheRealMrAleem You vaping  some real good kush, or WHAT?\n"
     ]
    }
   ],
   "source": [
    "curid = id[46]\n",
    "tid = all[curid]\n",
    "tweet = tweets.getText(tid)\n",
    "print(tweet)"
   ]
  },
  {
   "cell_type": "code",
   "execution_count": 184,
   "metadata": {},
   "outputs": [],
   "source": [
    "tweets.addCode(tid, 'INDIVIDUAL')"
   ]
  },
  {
   "cell_type": "code",
   "execution_count": 185,
   "metadata": {},
   "outputs": [
    {
     "name": "stdout",
     "output_type": "stream",
     "text": [
      "Today's Roundup: Tiny beauty &amp; protein ribbons; cross-cultural ethics meets #AI ; vaccine confidence declines in EU; Right to Try dissected; good #scicomm advice; CMS approves NC #Medicaid pilot; e-cig maker ramps up lobbying; more: https://t.co/4TziB3rFbE @DCRINews @califf001 https://t.co/6yTCGO2BOm\n"
     ]
    }
   ],
   "source": [
    "curid = id[47]\n",
    "tid = all[curid]\n",
    "tweet = tweets.getText(tid)\n",
    "print(tweet)"
   ]
  },
  {
   "cell_type": "code",
   "execution_count": 186,
   "metadata": {},
   "outputs": [],
   "source": [
    "tweets.addCode(tid, 'NON-INDIVIDUAL')"
   ]
  },
  {
   "cell_type": "code",
   "execution_count": 187,
   "metadata": {},
   "outputs": [
    {
     "name": "stdout",
     "output_type": "stream",
     "text": [
      "Smokin tree ain’t no vape pens\n"
     ]
    }
   ],
   "source": [
    "curid = id[48]\n",
    "tid = all[curid]\n",
    "tweet = tweets.getText(tid)\n",
    "print(tweet)"
   ]
  },
  {
   "cell_type": "code",
   "execution_count": 188,
   "metadata": {},
   "outputs": [],
   "source": [
    "tweets.addCode(tid, 'INDIVIDUAL')"
   ]
  },
  {
   "cell_type": "code",
   "execution_count": 189,
   "metadata": {},
   "outputs": [
    {
     "name": "stdout",
     "output_type": "stream",
     "text": [
      "Voluntary industry action won’t solve the problem of youth e-cig use. We need mandatory @FDATobacco rules that apply to all manufacturers, including a ban on flavors that attract kids and FDA review before new products are introduced. https://t.co/Ems0HBamW3\n"
     ]
    }
   ],
   "source": [
    "curid = id[49]\n",
    "tid = all[curid]\n",
    "tweet = tweets.getText(tid)\n",
    "print(tweet)"
   ]
  },
  {
   "cell_type": "code",
   "execution_count": 190,
   "metadata": {},
   "outputs": [],
   "source": [
    "tweets.addCode(tid, 'INDIVIDUAL')"
   ]
  },
  {
   "cell_type": "code",
   "execution_count": 193,
   "metadata": {},
   "outputs": [],
   "source": [
    "annotated_id = []\n",
    "for i in range(50):\n",
    "    curid = id[i]\n",
    "    tid = all[curid]\n",
    "    annotated_id.append(tid)"
   ]
  },
  {
   "cell_type": "code",
   "execution_count": 195,
   "metadata": {},
   "outputs": [
    {
     "data": {
      "text/plain": [
       "50"
      ]
     },
     "execution_count": 195,
     "metadata": {},
     "output_type": "execute_result"
    }
   ],
   "source": [
    "len(annotated_id)"
   ]
  },
  {
   "cell_type": "code",
   "execution_count": 200,
   "metadata": {},
   "outputs": [
    {
     "name": "stdout",
     "output_type": "stream",
     "text": [
      "50\n"
     ]
    }
   ],
   "source": [
    "annotated = Tweets()\n",
    "for ids in annotated_id:\n",
    "    tweet = tweets.getTweet(ids)\n",
    "    searchTerm = tweets.getSearchTerm(ids)\n",
    "    searchTime = tweets.getSearchTime(ids)\n",
    "    annotated.addTweet(tweet,searchTime,searchTerm)\n",
    "print(annotated.countTweets())"
   ]
  },
  {
   "cell_type": "code",
   "execution_count": 201,
   "metadata": {},
   "outputs": [],
   "source": [
    "annotated.saveTweets('annotated.json')"
   ]
  },
  {
   "cell_type": "markdown",
   "metadata": {},
   "source": [
    "Review at the distrbution. Is it close to even? If not, do more."
   ]
  },
  {
   "cell_type": "code",
   "execution_count": 202,
   "metadata": {},
   "outputs": [
    {
     "data": {
      "text/plain": [
       "[('NON-INDIVIDUAL', 30), ('INDIVIDUAL', 19)]"
      ]
     },
     "execution_count": 202,
     "metadata": {},
     "output_type": "execute_result"
    }
   ],
   "source": [
    "annotated.getCodeProfile()"
   ]
  },
  {
   "cell_type": "markdown",
   "metadata": {},
   "source": [
    "1.Take your annotated tweets - split them into train (80%) and test (20%) sets. Process the train data and build a model (based on a TfIdf Vectorizer and an SVM). Evaluate the model on the test data sets."
   ]
  },
  {
   "cell_type": "code",
   "execution_count": 224,
   "metadata": {},
   "outputs": [],
   "source": [
    "from sklearn.feature_extraction.text import TfidfVectorizer\n",
    "\n",
    "def tokenizeText(text):\n",
    "    nlp=getTwitterNLP()\n",
    "    tokens=nlp(text)\n",
    "    return filterTweetTokens(tokens)\n",
    "\n",
    "def flattenTweets(tweets):\n",
    "    flat=[]\n",
    "    for i in tweets.getIds():\n",
    "        text = tweets.getText(i)\n",
    "        if tweets.getCodes(i) is not None :\n",
    "            for x in tweets.getCodes(i):\n",
    "                cat = x\n",
    "            pair =(text,cat)\n",
    "            flat.append(pair)\n",
    "    return flat\n",
    "\n",
    "def getTestTrainSplit(pairs,splitFactor=0.8):\n",
    "    random.shuffle(pairs)\n",
    "    split=int(len(pairs)*splitFactor)\n",
    "    train=pairs[:split]\n",
    "    test =pairs[split:]\n",
    "    return train,test\n",
    "\n",
    "def getTestTrain(tweets,splitFactor=0.8):\n",
    "    tweets = flattenTweets(tweets)\n",
    "    train,test=getTestTrainSplit(tweets,splitFactor)\n",
    "    return train,test\n",
    "\n"
   ]
  },
  {
   "cell_type": "code",
   "execution_count": 221,
   "metadata": {},
   "outputs": [],
   "source": [
    "vectorizer= TfidfVectorizer(tokenizer=tokenizeText,preprocessor=lambda x: x)\n",
    "clf = LinearSVC()\n",
    "pipe = Pipeline([('vectorizer', vectorizer), ('clf', clf)])"
   ]
  },
  {
   "cell_type": "code",
   "execution_count": 225,
   "metadata": {},
   "outputs": [],
   "source": [
    "train,test=getTestTrain(annotated)"
   ]
  },
  {
   "cell_type": "code",
   "execution_count": 229,
   "metadata": {},
   "outputs": [
    {
     "name": "stdout",
     "output_type": "stream",
     "text": [
      "train is:  39 test is : 10\n"
     ]
    }
   ],
   "source": [
    "print(\"train is: \",len(train),\"test is :\",len(test))"
   ]
  },
  {
   "cell_type": "code",
   "execution_count": 230,
   "metadata": {},
   "outputs": [],
   "source": [
    "trainTexts,trainCats=zip(*train)\n",
    "testTexts,testCats=zip(*test)"
   ]
  },
  {
   "cell_type": "code",
   "execution_count": 231,
   "metadata": {},
   "outputs": [
    {
     "data": {
      "text/plain": [
       "Pipeline(memory=None,\n",
       "     steps=[('vectorizer', TfidfVectorizer(analyzer='word', binary=False, decode_error='strict',\n",
       "        dtype=<class 'numpy.int64'>, encoding='utf-8', input='content',\n",
       "        lowercase=True, max_df=1.0, max_features=None, min_df=1,\n",
       "        ngram_range=(1, 1), norm='l2',\n",
       "        preprocessor=<function <...ax_iter=1000,\n",
       "     multi_class='ovr', penalty='l2', random_state=None, tol=0.0001,\n",
       "     verbose=0))])"
      ]
     },
     "execution_count": 231,
     "metadata": {},
     "output_type": "execute_result"
    }
   ],
   "source": [
    "pipe.fit(trainTexts,trainCats)"
   ]
  },
  {
   "cell_type": "code",
   "execution_count": 232,
   "metadata": {},
   "outputs": [],
   "source": [
    "preds = pipe.predict(testTexts)"
   ]
  },
  {
   "cell_type": "markdown",
   "metadata": {},
   "source": [
    "Test your model on the remaining tweets. What does your result look like?"
   ]
  },
  {
   "cell_type": "code",
   "execution_count": 243,
   "metadata": {},
   "outputs": [
    {
     "name": "stdout",
     "output_type": "stream",
     "text": [
      "accuracy: 0.9\n"
     ]
    }
   ],
   "source": [
    "print(\"accuracy:\", accuracy_score(testCats, preds))"
   ]
  },
  {
   "cell_type": "code",
   "execution_count": 244,
   "metadata": {},
   "outputs": [],
   "source": [
    "def convertToNumeric(cats):\n",
    "    nums =[]\n",
    "    for c in cats:\n",
    "        if c =='INDIVIDUAL':\n",
    "            nums.append(1)\n",
    "        elif c=='NON-INDIVIDUAL':\n",
    "            nums.append(-1)\n",
    "    return nums"
   ]
  },
  {
   "cell_type": "code",
   "execution_count": 245,
   "metadata": {},
   "outputs": [],
   "source": [
    "numCats=convertToNumeric(testCats)\n",
    "numPreds=convertToNumeric(preds)"
   ]
  },
  {
   "cell_type": "code",
   "execution_count": 246,
   "metadata": {},
   "outputs": [],
   "source": [
    "from sklearn.metrics import accuracy_score\n",
    "from sklearn.metrics import precision_score\n",
    "from sklearn.metrics import recall_score"
   ]
  },
  {
   "cell_type": "code",
   "execution_count": 247,
   "metadata": {},
   "outputs": [
    {
     "name": "stdout",
     "output_type": "stream",
     "text": [
      "Precision is  [0.85714286 1.        ]\n",
      "Recall is  [1.   0.75]\n"
     ]
    }
   ],
   "source": [
    "print(\"Precision is \",precision_score(numCats,numPreds,average=None))\n",
    "print(\"Recall is \",recall_score(numCats,numPreds,average=None))"
   ]
  },
  {
   "cell_type": "markdown",
   "metadata": {},
   "source": [
    "1.Review some of the data to identify opportunities for improvement - how might you make these models bettter?"
   ]
  },
  {
   "cell_type": "markdown",
   "metadata": {},
   "source": [
    "    First of all, the amount of data should be added to the corpus.\n",
    "    Secondly, we should analyze the content of data. for example, hashtags are mostly appear in smoking, so I think we should analzye that, for NON-INDIVIDUAL company, they like to use hashtag for advertisments. We can take that as feature. Icons and other Individual features should also take into consideration.\n",
    "    Thirdly, more filter should be used, just like useless icons should be droped."
   ]
  },
  {
   "cell_type": "markdown",
   "metadata": {},
   "source": [
    "2.Reflect on the reproducibility and the reusability of the code: what should be done to make these tools easier to apply to other datasets."
   ]
  },
  {
   "cell_type": "markdown",
   "metadata": {},
   "source": [
    "    I think getTwitterNLP() can be reused. But in most of the rountine above, most of them should be revised, such as reduce the parameters,(for searchtime function. etc). Also, we can take same things in one class, such as evaluation. To make our code more generic, a standard interface should be established and we should loose the coupling interactions between the functions."
   ]
  },
  {
   "cell_type": "code",
   "execution_count": 223,
   "metadata": {},
   "outputs": [
    {
     "data": {
      "text/plain": [
       "{'NON-INDIVIDUAL'}"
      ]
     },
     "execution_count": 223,
     "metadata": {},
     "output_type": "execute_result"
    }
   ],
   "source": [
    "#for x in annotated.getIds():\n",
    "    #if annotated.getCodes(x) is not None :\n",
    "#    for y in annotated.getCodes(x) :\n",
    "#        print(y)\n",
    "#annotated.getIds()\n",
    "#str = '1056012093714063366'\n",
    "#annotated.getCodes(str)"
   ]
  },
  {
   "cell_type": "markdown",
   "metadata": {},
   "source": [
    "*END ANSWER*\n",
    "\n",
    "---"
   ]
  }
 ],
 "metadata": {
  "kernelspec": {
   "display_name": "Python 3",
   "language": "python",
   "name": "python3"
  },
  "language_info": {
   "codemirror_mode": {
    "name": "ipython",
    "version": 3
   },
   "file_extension": ".py",
   "mimetype": "text/x-python",
   "name": "python",
   "nbconvert_exporter": "python",
   "pygments_lexer": "ipython3",
   "version": "3.6.5"
  }
 },
 "nbformat": 4,
 "nbformat_minor": 2
}
