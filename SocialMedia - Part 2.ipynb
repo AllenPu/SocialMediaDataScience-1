{
 "cells": [
  {
   "cell_type": "markdown",
   "metadata": {},
   "source": [
    "# Social Media and Human-Computer Interaction - Part 2\n"
   ]
  },
  {
   "cell_type": "markdown",
   "metadata": {},
   "source": [
    "###  *Goal*: Use social media posts to explore the appplication of text and natural language processing to see what might be learned from online interactions.\n",
    "\n",
    "Specifically, we will retrieve, annotate, process, and interpret Twitter data on health-related issues such as depression."
   ]
  },
  {
   "cell_type": "markdown",
   "metadata": {},
   "source": [
    "--- \n",
    "References:\n",
    "* [Mining Twitter Data with Python (Part 1: Collecting data)](https://marcobonzanini.com/2015/03/02/mining-twitter-data-with-python-part-1/)\n",
    "* The [Tweepy Python API for Twitter](http://www.tweepy.org/)\n",
    "\n",
    "Required Software\n",
    "* [Python 3](https://www.python.org)\n",
    "* [NumPy](http://www.numpy.org) - for preparing data for plotting\n",
    "* [Matplotlib](https://matplotlib.org) - plots and garphs\n",
    "* [jsonpickle](https://jsonpickle.github.io) for storing tweets. \n",
    "---"
   ]
  },
  {
   "cell_type": "code",
   "execution_count": 193,
   "metadata": {
    "collapsed": false
   },
   "outputs": [],
   "source": [
    "%matplotlib inline\n",
    "\n",
    "import numpy as np\n",
    "import matplotlib\n",
    "import matplotlib.pyplot as plt\n",
    "import jsonpickle\n",
    "import json\n",
    "import random\n",
    "import tweepy\n",
    "import time"
   ]
  },
  {
   "cell_type": "markdown",
   "metadata": {},
   "source": [
    "# Introduction\n",
    "\n",
    "This module continues the Social Media Data Science module started in [Part 1](SocialMedia - Part 1.ipynb), covering the annotation of tweets and subequent textual and natural language processing analysis:\n",
    "  1. Annotation of tweets\n",
    "  2. Natural Language Processing\n",
    "  3. Examination of text patterns\n",
    "  4. Construction of classifiers\n",
    "  5. Exercises and next steps\n",
    "  \n",
    "Our case study will apply these topics to Twitter discussions of smoking and tobacco. Although details of the tools used to access data and the format and content of the data may differ for various services, the strategies and procedures used to analyze the data will generalize to other tools."
   ]
  },
  {
   "cell_type": "markdown",
   "metadata": {},
   "source": [
    "## 0. Setup\n",
    "\n",
    "Before we dig in, we must grab a bit of code from [Part 1](SocialMedia - Part 1.ipynb):\n",
    "\n",
    "1. The searchTweet routine for grabbing tweets\n",
    "2. The routine that we wrote to read tweets in from a file.\n",
    "3. Our twitter API Keys - be sure to copy the keys that you generated when you completed *part 1*.\n",
    "4. Configuration of our Twitter connection"
   ]
  },
  {
   "cell_type": "code",
   "execution_count": 185,
   "metadata": {
    "collapsed": true
   },
   "outputs": [],
   "source": [
    "def searchTwitter(term,corpus_size):\n",
    "    tweets={}\n",
    "    while (len(tweets) < corpus_size):\n",
    "        new_tweets = api.search(term,lang=\"en\",count=10)\n",
    "        for nt_json in new_tweets:\n",
    "            nt = nt_json._json\n",
    "            if nt['id_str'] not in tweets:\n",
    "                new_entry={}\n",
    "                new_entry['count']=0\n",
    "                new_entry['tweet']=nt\n",
    "                tweets[nt['id_str']]=new_entry\n",
    "            tweets[nt['id_str']]['count'] = tweets[nt['id_str']]['count']+1\n",
    "        # wait to give our twitter account a break..\n",
    "        time.sleep(10)\n",
    "    return tweets"
   ]
  },
  {
   "cell_type": "code",
   "execution_count": 6,
   "metadata": {
    "collapsed": true
   },
   "outputs": [],
   "source": [
    "def readTweets(filename):\n",
    "    with open(filename,'r') as f:\n",
    "        json_data = json.load(f)\n",
    "    tweets = jsonpickle.decode(json_data)\n",
    "    return tweets"
   ]
  },
  {
   "cell_type": "markdown",
   "metadata": {},
   "source": [
    "*REDACT FOLLOWING DETAILS*"
   ]
  },
  {
   "cell_type": "code",
   "execution_count": 187,
   "metadata": {
    "collapsed": true
   },
   "outputs": [],
   "source": [
    "consumer_key='D2L4YZ2YrO1PMix7uKUK63b8H'\n",
    "consumer_secret='losRw9T8zb6VT3TEJ9JHmmhAmn1GXKVj30dkiMv9vjhXuiWek9'\n",
    "access_token='15283934-iggs1hiZAPI2o5sfHWMfjumTF7SvytHPjpPRGf3I6'\n",
    "access_secret='bOvqssxS97PGPwXHQZxk83KtAcDyLhRLgdQaokCdVvwFi'"
   ]
  },
  {
   "cell_type": "code",
   "execution_count": 188,
   "metadata": {
    "collapsed": false
   },
   "outputs": [],
   "source": [
    "from tweepy import OAuthHandler\n",
    "\n",
    "auth = OAuthHandler(consumer_key, consumer_secret)\n",
    "auth.set_access_token(access_token, access_secret)\n",
    "\n",
    "api = tweepy.API(auth)"
   ]
  },
  {
   "cell_type": "markdown",
   "metadata": {},
   "source": [
    "## 1. Annotating Tweets"
   ]
  },
  {
   "cell_type": "markdown",
   "metadata": {},
   "source": [
    "### 1.1 Open Coding\n",
    "\n",
    "Now that we have a corpus of tweets, what do we want to do with them? Turning a relatively vague notion into a well-defined research question is often a significant challenge, as examination of the data often reveals both shortcomings and unforeseen opportunities.\n",
    "\n",
    "In our case, we are interested in looking at tweets about depression, but we're not quite sure exactly *what* we are looking for. We have a vague notion that we might learn something interesting, but understanding exactly what that is, and what sort of analyses we might need, will require a bit more work.\n",
    "\n",
    "In situations such as this, we might look at some of the data to form some preliminary impressions of the content. Specifically, we can look at indidividual tweets, assigning them to one or more categories - known as *codes* - based on their content.  We can add categories as needed to capture important ideas that we might want to refer back to. This practice - known as *open coding* allows us to begin to make sense of unfamiliar data sets. \n",
    "\n",
    "This sounds much more complicated than it is. For now, let's read some tweets in from a file collected in October 2017 using the procedures discused in *part 1* (using the procedure defined above). We'll then use those tweets to get to work."
   ]
  },
  {
   "cell_type": "code",
   "execution_count": 7,
   "metadata": {
    "collapsed": false
   },
   "outputs": [],
   "source": [
    "tweets =readTweets(\"tweet-corpus.json\")"
   ]
  },
  {
   "cell_type": "markdown",
   "metadata": {},
   "source": [
    "We will begin by taking a look at a subset of 100 tweets.  Keep in mind that *tweets* is a dictionary mapping id strings to information about tweets. Each entry in *tweets* is itself a dictionary, with 'count' corresponding to the number of times the tweet was sound, and 'tweet' corresponding to the tweet itself.  We're going to add some categories to that dictionary, but we need to start by getting a smaller set of tweets.\n",
    "\n",
    "To get this list, we'll sort the ids of the tweets and take the first 10 in the list. "
   ]
  },
  {
   "cell_type": "code",
   "execution_count": 8,
   "metadata": {
    "collapsed": false
   },
   "outputs": [],
   "source": [
    "ids=list(tweets.keys())\n",
    "ids.sort()\n",
    "working=[]\n",
    "for i in range(100):\n",
    "    id = ids[i]\n",
    "    entry = tweets[id]\n",
    "    working.append(entry)"
   ]
  },
  {
   "cell_type": "markdown",
   "metadata": {},
   "source": [
    "*working* now has 100 tweets. Let's start with the first."
   ]
  },
  {
   "cell_type": "code",
   "execution_count": 9,
   "metadata": {
    "collapsed": false
   },
   "outputs": [],
   "source": [
    "td = working[0]"
   ]
  },
  {
   "cell_type": "code",
   "execution_count": 10,
   "metadata": {
    "collapsed": false
   },
   "outputs": [
    {
     "data": {
      "text/plain": [
       "'FlTNESS: RT DrugedPosts: \"Wyd after smoking this?\" https://t.co/OnLywTyJ0X'"
      ]
     },
     "execution_count": 10,
     "metadata": {},
     "output_type": "execute_result"
    }
   ],
   "source": [
    "td['tweet']['text']"
   ]
  },
  {
   "cell_type": "markdown",
   "metadata": {},
   "source": [
    "This tweet has several interesting charcteristics.\n",
    "1. it is a retweet\n",
    "2. It contains a link. \n",
    "\n",
    "We can model all of these points through relevant annotation. Specifically, we will add two new arrays to each tweet object. 'code' will contain a list of categorical annotations associated with the tweet."
   ]
  },
  {
   "cell_type": "code",
   "execution_count": 11,
   "metadata": {
    "collapsed": true
   },
   "outputs": [],
   "source": [
    "td['code']=[]\n",
    "td['code'].append('LINK')\n",
    "td['code'].append(\"RETWEET\")"
   ]
  },
  {
   "cell_type": "markdown",
   "metadata": {},
   "source": [
    "We can confirm that this is a rewtweet by checking for the `retweeted_status` attribute"
   ]
  },
  {
   "cell_type": "code",
   "execution_count": 12,
   "metadata": {
    "collapsed": false
   },
   "outputs": [
    {
     "data": {
      "text/plain": [
       "False"
      ]
     },
     "execution_count": 12,
     "metadata": {},
     "output_type": "execute_result"
    }
   ],
   "source": [
    "'retweeted_status' in td['tweet']"
   ]
  },
  {
   "cell_type": "markdown",
   "metadata": {},
   "source": [
    "Hmm. the attribute is not present. Perhaps the user copied the text and added 'RT' without actually retweeting? Something to keep our eyes on for other tweets."
   ]
  },
  {
   "cell_type": "markdown",
   "metadata": {},
   "source": [
    "let's look at the next tweet. "
   ]
  },
  {
   "cell_type": "code",
   "execution_count": 13,
   "metadata": {
    "collapsed": false
   },
   "outputs": [
    {
     "data": {
      "text/plain": [
       "'RT DrugedPosts: \"Wyd after smoking this?\" https://t.co/PZ3YyYh8WB'"
      ]
     },
     "execution_count": 13,
     "metadata": {},
     "output_type": "execute_result"
    }
   ],
   "source": [
    "td = working[1]\n",
    "td['tweet']['text']"
   ]
  },
  {
   "cell_type": "markdown",
   "metadata": {},
   "source": [
    "Notice this is similar, but not identical, to the previous tweet. "
   ]
  },
  {
   "cell_type": "code",
   "execution_count": 14,
   "metadata": {
    "collapsed": true
   },
   "outputs": [],
   "source": [
    "td['code']=[]\n",
    "td['code'].append('LINK')\n",
    "td['code'].append('RETWEET')"
   ]
  },
  {
   "cell_type": "code",
   "execution_count": 15,
   "metadata": {
    "collapsed": false
   },
   "outputs": [
    {
     "data": {
      "text/plain": [
       "False"
      ]
     },
     "execution_count": 15,
     "metadata": {},
     "output_type": "execute_result"
    }
   ],
   "source": [
    "'retweeted_status' in td['tweet']"
   ]
  },
  {
   "cell_type": "markdown",
   "metadata": {},
   "source": [
    "ok.. moving on to the third tweet.."
   ]
  },
  {
   "cell_type": "code",
   "execution_count": 16,
   "metadata": {
    "collapsed": false
   },
   "outputs": [
    {
     "data": {
      "text/plain": [
       "'RT @Anzers: #TheBetrayalPapers Video: Part II – In Plain Sight – A National Security Smoking Gun\\nhttps://t.co/rpObdW9GcG'"
      ]
     },
     "execution_count": 16,
     "metadata": {},
     "output_type": "execute_result"
    }
   ],
   "source": [
    "td = working[2]\n",
    "td['tweet']['text']"
   ]
  },
  {
   "cell_type": "markdown",
   "metadata": {},
   "source": [
    "This retweet includes a link, a hashtag reference, and a reference to a `Smoking gun`, suggesting that this is not really a tweet about tobacco, marijuana, or other smoking products. We'll label it `irrelevant`"
   ]
  },
  {
   "cell_type": "code",
   "execution_count": 17,
   "metadata": {
    "collapsed": true
   },
   "outputs": [],
   "source": [
    "td['code']=[]\n",
    "td['code'].append('RETWEET')\n",
    "td['code'].append('LINK')\n",
    "td['code'].append('USERMENTION')\n",
    "td['code'].append('HASHTAG')\n",
    "td['code'].append('IRRELEVANT')"
   ]
  },
  {
   "cell_type": "code",
   "execution_count": 18,
   "metadata": {
    "collapsed": false
   },
   "outputs": [
    {
     "data": {
      "text/plain": [
       "True"
      ]
     },
     "execution_count": 18,
     "metadata": {},
     "output_type": "execute_result"
    }
   ],
   "source": [
    "'retweeted_status' in td['tweet']"
   ]
  },
  {
   "cell_type": "markdown",
   "metadata": {},
   "source": [
    "next..."
   ]
  },
  {
   "cell_type": "code",
   "execution_count": 19,
   "metadata": {
    "collapsed": false
   },
   "outputs": [
    {
     "data": {
      "text/plain": [
       "'RT @FootyMemes: This new anti-smoking ad is really powerful... https://t.co/pWHZDLIb7O'"
      ]
     },
     "execution_count": 19,
     "metadata": {},
     "output_type": "execute_result"
    }
   ],
   "source": [
    "td = working[3]\n",
    "td['tweet']['text']"
   ]
  },
  {
   "cell_type": "markdown",
   "metadata": {},
   "source": [
    "Here, we have have a retweet, a link, and something about anti-smoking"
   ]
  },
  {
   "cell_type": "code",
   "execution_count": 20,
   "metadata": {
    "collapsed": true
   },
   "outputs": [],
   "source": [
    "td['code']=[]\n",
    "td['code'].append('RETWEET')\n",
    "td['code'].append('LINK')\n",
    "td['code'].append('ANTI-SMOKING')"
   ]
  },
  {
   "cell_type": "code",
   "execution_count": 21,
   "metadata": {
    "collapsed": false
   },
   "outputs": [
    {
     "data": {
      "text/plain": [
       "True"
      ]
     },
     "execution_count": 21,
     "metadata": {},
     "output_type": "execute_result"
    }
   ],
   "source": [
    "'retweeted_status' in td['tweet']"
   ]
  },
  {
   "cell_type": "code",
   "execution_count": 22,
   "metadata": {
    "collapsed": false
   },
   "outputs": [
    {
     "data": {
      "text/plain": [
       "'@ericschmidt @jwnichls Stop. You need to stop torturing me. No buddy nobody cares about \"smoking.\" Stop.'"
      ]
     },
     "execution_count": 22,
     "metadata": {},
     "output_type": "execute_result"
    }
   ],
   "source": [
    "td = working[4]\n",
    "td['tweet']['text']"
   ]
  },
  {
   "cell_type": "markdown",
   "metadata": {},
   "source": [
    "This retweet includes user mentions. It might or might not be relevant. "
   ]
  },
  {
   "cell_type": "code",
   "execution_count": 23,
   "metadata": {
    "collapsed": false
   },
   "outputs": [],
   "source": [
    "td['code']=[]\n",
    "td['code'].append(\"USERMENTION\")\n",
    "td['code'].append(\"FRUSTRATION\")\n",
    "td['code'].append(\"POSSIBLYRELEVANT\")"
   ]
  },
  {
   "cell_type": "code",
   "execution_count": 24,
   "metadata": {
    "collapsed": false
   },
   "outputs": [
    {
     "data": {
      "text/plain": [
       "'RT @FurnyFootball: Stop smoking 😂 https://t.co/bY1ZvJy63Z'"
      ]
     },
     "execution_count": 24,
     "metadata": {},
     "output_type": "execute_result"
    }
   ],
   "source": [
    "td = working[5]\n",
    "td['tweet']['text']"
   ]
  },
  {
   "cell_type": "markdown",
   "metadata": {},
   "source": [
    "A retweet with a user mention, and anti-smoking message, and a link"
   ]
  },
  {
   "cell_type": "code",
   "execution_count": 25,
   "metadata": {
    "collapsed": true
   },
   "outputs": [],
   "source": [
    "td['code']=[]\n",
    "td['code'].append(\"RETWEET\")\n",
    "td['code'].append(\"USERMENTION\")\n",
    "td['code'].append(\"ANTI-SMOKING\")\n",
    "td['code'].append(\"LINK\")"
   ]
  },
  {
   "cell_type": "code",
   "execution_count": 26,
   "metadata": {
    "collapsed": false
   },
   "outputs": [
    {
     "data": {
      "text/plain": [
       "'You ever wake up and wish you was still sleep? ... that’s me rn.'"
      ]
     },
     "execution_count": 26,
     "metadata": {},
     "output_type": "execute_result"
    }
   ],
   "source": [
    "td = working[6]\n",
    "td['tweet']['text']"
   ]
  },
  {
   "cell_type": "markdown",
   "metadata": {},
   "source": [
    "This tweet doesn't seem to be about smoking."
   ]
  },
  {
   "cell_type": "code",
   "execution_count": 27,
   "metadata": {
    "collapsed": true
   },
   "outputs": [],
   "source": [
    "td['code']=[]\n",
    "td['code'].append(\"IRRELEVANT\")"
   ]
  },
  {
   "cell_type": "code",
   "execution_count": 28,
   "metadata": {
    "collapsed": false
   },
   "outputs": [
    {
     "data": {
      "text/plain": [
       "'\"Resorted to...\". Hahahaha..!  Way to be strong and brave unaided...!  Hahahaha...!  https://t.co/Lnd9N3zBCY via @YahooNews'"
      ]
     },
     "execution_count": 28,
     "metadata": {},
     "output_type": "execute_result"
    }
   ],
   "source": [
    "td = working[7]\n",
    "td['tweet']['text']"
   ]
  },
  {
   "cell_type": "markdown",
   "metadata": {},
   "source": [
    "This tweet includes a user mention, and a link, but doesn't seem to be relevant to smoking"
   ]
  },
  {
   "cell_type": "code",
   "execution_count": 29,
   "metadata": {
    "collapsed": true
   },
   "outputs": [],
   "source": [
    "td['code']=[]\n",
    "td['code'].append(\"USERMENTION\")\n",
    "td['code'].append(\"LINK\")\n",
    "td['code'].append(\"IRRELEVANT\")\n"
   ]
  },
  {
   "cell_type": "code",
   "execution_count": 30,
   "metadata": {
    "collapsed": false
   },
   "outputs": [
    {
     "data": {
      "text/plain": [
       "'RT @chocoo_loco: I just want my friends to stop smoking weed😂 https://t.co/LWI2HVofAf'"
      ]
     },
     "execution_count": 30,
     "metadata": {},
     "output_type": "execute_result"
    }
   ],
   "source": [
    "td = working[8]\n",
    "td['tweet']['text']"
   ]
  },
  {
   "cell_type": "markdown",
   "metadata": {},
   "source": [
    "This is a retweet with a link, a user mention, and an expression of a desire that the user's friends top smoking marijuana."
   ]
  },
  {
   "cell_type": "code",
   "execution_count": 31,
   "metadata": {
    "collapsed": true
   },
   "outputs": [],
   "source": [
    "td['code']=[]\n",
    "td['code'].append(\"RETWEET\")\n",
    "td['code'].append(\"USERMENTION\")\n",
    "td['code'].append(\"LINK\")\n",
    "td['code'].append(\"ANTI-SMOKING\")\n",
    "td['code'].append(\"MARIJUANA\")\n",
    "td['code'].append(\"FRIENDS\")\n",
    "td['code'].append(\"SENTIMENT\")"
   ]
  },
  {
   "cell_type": "markdown",
   "metadata": {},
   "source": [
    "and so it goes. You might have to code 100 or more tweets to get a good distribution. You'll work on this in a minute, but first, a suggestion. As you code, it might be hard to track which of the codes you've used. Let's write a routine to collect those codes. Printing this list on occassion will help you remeber what you've used and ensure that you don't miss opportunities to reuse code."
   ]
  },
  {
   "cell_type": "code",
   "execution_count": 32,
   "metadata": {
    "collapsed": false
   },
   "outputs": [],
   "source": [
    "def getCodes(tweets):\n",
    "    codes =[] \n",
    "    for id,entry in tweets.items():\n",
    "        # for every tweet, look to see if we have any codes\n",
    "        if 'code' in entry:\n",
    "            # for each code\n",
    "            for code in entry['code']:\n",
    "            # look for it in the codeDictionary, creating a new list of codes if needed\n",
    "                if code not in codes:\n",
    "                    codes.append(code)\n",
    "    return codes"
   ]
  },
  {
   "cell_type": "code",
   "execution_count": 33,
   "metadata": {
    "collapsed": false
   },
   "outputs": [
    {
     "data": {
      "text/plain": [
       "['RETWEET',\n",
       " 'LINK',\n",
       " 'ANTI-SMOKING',\n",
       " 'USERMENTION',\n",
       " 'MARIJUANA',\n",
       " 'FRIENDS',\n",
       " 'SENTIMENT',\n",
       " 'IRRELEVANT',\n",
       " 'FRUSTRATION',\n",
       " 'POSSIBLYRELEVANT',\n",
       " 'HASHTAG']"
      ]
     },
     "execution_count": 33,
     "metadata": {},
     "output_type": "execute_result"
    }
   ],
   "source": [
    "getCodes(tweets)"
   ]
  },
  {
   "cell_type": "markdown",
   "metadata": {},
   "source": [
    "\n",
    "\n",
    "## EXERCISE 1: Code the Next 50 tweets in the set. \n",
    "Start with the tags used above, adding your own as needed.  "
   ]
  },
  {
   "cell_type": "markdown",
   "metadata": {},
   "source": [
    "--- \n",
    "### answer - cut below this line\n",
    "Following lines to be deleted when provided for student use"
   ]
  },
  {
   "cell_type": "code",
   "execution_count": 34,
   "metadata": {
    "collapsed": false
   },
   "outputs": [
    {
     "data": {
      "text/plain": [
       "'No kidding... https://t.co/3Kg2HkfRsc'"
      ]
     },
     "execution_count": 34,
     "metadata": {},
     "output_type": "execute_result"
    }
   ],
   "source": [
    "td = working[9]\n",
    "td['tweet']['text']"
   ]
  },
  {
   "cell_type": "code",
   "execution_count": 35,
   "metadata": {
    "collapsed": true
   },
   "outputs": [],
   "source": [
    "td['code']=[]\n",
    "td['code'].append(\"LINK\")\n",
    "td['code'].append(\"IRRELEVANT\")"
   ]
  },
  {
   "cell_type": "code",
   "execution_count": 36,
   "metadata": {
    "collapsed": false
   },
   "outputs": [
    {
     "data": {
      "text/plain": [
       "'RT @xancaps: smoking by myself now\\n\\ni don’t need nobody else around'"
      ]
     },
     "execution_count": 36,
     "metadata": {},
     "output_type": "execute_result"
    }
   ],
   "source": [
    "td = working[10]\n",
    "td['tweet']['text']"
   ]
  },
  {
   "cell_type": "code",
   "execution_count": 37,
   "metadata": {
    "collapsed": true
   },
   "outputs": [],
   "source": [
    "td['code']=[]\n",
    "td['code'].append(\"RETWEET\")\n",
    "td['code'].append(\"USERMENTION\")\n",
    "td['code'].append(\"HABITS\")"
   ]
  },
  {
   "cell_type": "code",
   "execution_count": 38,
   "metadata": {
    "collapsed": false
   },
   "outputs": [
    {
     "data": {
      "text/plain": [
       "'RT @GiveMeInternet: Anti smoking ads should show the benefits of quitting instead of the harms of smoking.'"
      ]
     },
     "execution_count": 38,
     "metadata": {},
     "output_type": "execute_result"
    }
   ],
   "source": [
    "td = working[11]\n",
    "td['tweet']['text']"
   ]
  },
  {
   "cell_type": "code",
   "execution_count": 39,
   "metadata": {
    "collapsed": true
   },
   "outputs": [],
   "source": [
    "td['code']=[]\n",
    "td['code'].append(\"RETWEET\")\n",
    "td['code'].append(\"USERMENTION\")\n",
    "td['code'].append(\"ANTI-SMOKING\")\n",
    "td['code'].append(\"QUITTING\")"
   ]
  },
  {
   "cell_type": "code",
   "execution_count": 40,
   "metadata": {
    "collapsed": false
   },
   "outputs": [
    {
     "data": {
      "text/plain": [
       "'@Austin_Sosbee See I have recently started to dream again, Why again? Cause smoking alot of weed stops dreaming, I miss not dreaming lol'"
      ]
     },
     "execution_count": 40,
     "metadata": {},
     "output_type": "execute_result"
    }
   ],
   "source": [
    "td = working[12]\n",
    "td['tweet']['text']"
   ]
  },
  {
   "cell_type": "code",
   "execution_count": 41,
   "metadata": {
    "collapsed": true
   },
   "outputs": [],
   "source": [
    "td['code']=[]\n",
    "td['code'].append(\"RETWEET\")\n",
    "td['code'].append(\"USERMENTION\")\n",
    "td['code'].append(\"MARIJUANA\")\n",
    "td['code'].append(\"BENEFITS\")"
   ]
  },
  {
   "cell_type": "code",
   "execution_count": 42,
   "metadata": {
    "collapsed": false
   },
   "outputs": [
    {
     "data": {
      "text/plain": [
       "'RT @FootyMemes: This new anti-smoking ad is really powerful... https://t.co/pWHZDLIb7O'"
      ]
     },
     "execution_count": 42,
     "metadata": {},
     "output_type": "execute_result"
    }
   ],
   "source": [
    "td = working[13]\n",
    "td['tweet']['text']"
   ]
  },
  {
   "cell_type": "code",
   "execution_count": 43,
   "metadata": {
    "collapsed": true
   },
   "outputs": [],
   "source": [
    "td['code']=[]\n",
    "td['code'].append(\"RETWEET\")\n",
    "td['code'].append(\"USERMENTION\")\n",
    "td['code'].append(\"LINK\")\n",
    "td['code'].append(\"ANTI-SMOKING\")"
   ]
  },
  {
   "cell_type": "code",
   "execution_count": 44,
   "metadata": {
    "collapsed": false
   },
   "outputs": [
    {
     "data": {
      "text/plain": [
       "'RT @GiveMeInternet: Anti smoking ads should show the benefits of quitting instead of the harms of smoking.'"
      ]
     },
     "execution_count": 44,
     "metadata": {},
     "output_type": "execute_result"
    }
   ],
   "source": [
    "td = working[14]\n",
    "td['tweet']['text']"
   ]
  },
  {
   "cell_type": "code",
   "execution_count": 45,
   "metadata": {
    "collapsed": false
   },
   "outputs": [],
   "source": [
    "td['code']=[]\n",
    "td['code'].append(\"RETWEET\")\n",
    "td['code'].append(\"USERMENTION\")\n",
    "td['code'].append(\"ANTI-SMOKING\")\n",
    "td['code'].append(\"QUITTING\")"
   ]
  },
  {
   "cell_type": "code",
   "execution_count": 46,
   "metadata": {
    "collapsed": false
   },
   "outputs": [
    {
     "data": {
      "text/plain": [
       "\"Mngxitama and his nyaope smoking buddies were a no show today because the Guptas aren't targeted hahahaha\""
      ]
     },
     "execution_count": 46,
     "metadata": {},
     "output_type": "execute_result"
    }
   ],
   "source": [
    "td = working[15]\n",
    "td['tweet']['text']"
   ]
  },
  {
   "cell_type": "code",
   "execution_count": 47,
   "metadata": {
    "collapsed": true
   },
   "outputs": [],
   "source": [
    "td['code']=[]\n",
    "td['code'].append(\"FRIENDS\")"
   ]
  },
  {
   "cell_type": "code",
   "execution_count": 48,
   "metadata": {
    "collapsed": false
   },
   "outputs": [
    {
     "data": {
      "text/plain": [
       "'RT @_youngkingdave: Smoking #doinks with @WakaFlocka\\n#doinksquad https://t.co/zex6zRw4Xx'"
      ]
     },
     "execution_count": 48,
     "metadata": {},
     "output_type": "execute_result"
    }
   ],
   "source": [
    "td = working[16]\n",
    "td['tweet']['text']"
   ]
  },
  {
   "cell_type": "code",
   "execution_count": 49,
   "metadata": {
    "collapsed": true
   },
   "outputs": [],
   "source": [
    "td['code']=[]\n",
    "td['code'].append(\"RETWEET\")\n",
    "td['code'].append(\"USERMENTION\")\n",
    "td['code'].append(\"LINK\")\n",
    "td['code'].append(\"MARIJUANA\")"
   ]
  },
  {
   "cell_type": "code",
   "execution_count": 50,
   "metadata": {
    "collapsed": false
   },
   "outputs": [
    {
     "data": {
      "text/plain": [
       "'RT @OnlyWayIsShawtz: My boy stopped smoking weed the day he spent 30 minutes looking for his phone under the bed.. While using his phone fl…'"
      ]
     },
     "execution_count": 50,
     "metadata": {},
     "output_type": "execute_result"
    }
   ],
   "source": [
    "td = working[17]\n",
    "td['tweet']['text']"
   ]
  },
  {
   "cell_type": "code",
   "execution_count": 51,
   "metadata": {
    "collapsed": true
   },
   "outputs": [],
   "source": [
    "td['code']=[]\n",
    "td['code'].append(\"RETWEET\")\n",
    "td['code'].append(\"USERMENTION\")\n",
    "td['code'].append(\"MARIJUANA\")\n",
    "td['code'].append(\"IMPACT\")"
   ]
  },
  {
   "cell_type": "code",
   "execution_count": 52,
   "metadata": {
    "collapsed": false
   },
   "outputs": [
    {
     "data": {
      "text/plain": [
       "'RT @GiveMeInternet: Anti smoking ads should show the benefits of quitting instead of the harms of smoking.'"
      ]
     },
     "execution_count": 52,
     "metadata": {},
     "output_type": "execute_result"
    }
   ],
   "source": [
    "td = working[18]\n",
    "td['tweet']['text']"
   ]
  },
  {
   "cell_type": "code",
   "execution_count": 53,
   "metadata": {
    "collapsed": true
   },
   "outputs": [],
   "source": [
    "td['code']=[]\n",
    "td['code'].append(\"RETWEET\")\n",
    "td['code'].append(\"USERMENTION\")\n",
    "td['code'].append(\"ANTI-SMOKING\")\n",
    "td['code'].append(\"QUITTING\")"
   ]
  },
  {
   "cell_type": "code",
   "execution_count": 54,
   "metadata": {
    "collapsed": false
   },
   "outputs": [
    {
     "data": {
      "text/plain": [
       "\"i @KattyKayBBC 'Cannabis is a gateway 2 taking Heroin' were did u hear that pish? Joint smoking 1 day next injecting in2 souls of feet no-no\""
      ]
     },
     "execution_count": 54,
     "metadata": {},
     "output_type": "execute_result"
    }
   ],
   "source": [
    "td = working[19]\n",
    "td['tweet']['text']"
   ]
  },
  {
   "cell_type": "code",
   "execution_count": 55,
   "metadata": {
    "collapsed": false
   },
   "outputs": [],
   "source": [
    "td['code']=[]\n",
    "td['code'].append(\"USERMENTION\")\n",
    "td['code'].append(\"MARIJUANA\")\n",
    "td['code'].append(\"OPIATES\")"
   ]
  },
  {
   "cell_type": "code",
   "execution_count": 56,
   "metadata": {
    "collapsed": false
   },
   "outputs": [
    {
     "data": {
      "text/plain": [
       "\"https://t.co/qchtcveqkA is the world's 1st Smoking Model directory. Search for your favorite… https://t.co/21OlmjWv7Z\""
      ]
     },
     "execution_count": 56,
     "metadata": {},
     "output_type": "execute_result"
    }
   ],
   "source": [
    "td = working[20]\n",
    "td['tweet']['text']"
   ]
  },
  {
   "cell_type": "code",
   "execution_count": 57,
   "metadata": {
    "collapsed": true
   },
   "outputs": [],
   "source": [
    "td['code']=[]\n",
    "td['code'].append(\"LINK\")\n",
    "td['code'].append(\"IRRELEVANT\")"
   ]
  },
  {
   "cell_type": "code",
   "execution_count": 58,
   "metadata": {
    "collapsed": false
   },
   "outputs": [
    {
     "data": {
      "text/plain": [
       "'RT @_youngkingdave: Smoking #doinks with @WakaFlocka\\n#doinksquad https://t.co/zex6zRw4Xx'"
      ]
     },
     "execution_count": 58,
     "metadata": {},
     "output_type": "execute_result"
    }
   ],
   "source": [
    "td = working[21]\n",
    "td['tweet']['text']"
   ]
  },
  {
   "cell_type": "code",
   "execution_count": 59,
   "metadata": {
    "collapsed": true
   },
   "outputs": [],
   "source": [
    "td['code']=[]\n",
    "td['code'].append(\"RETWEET\")\n",
    "td['code'].append(\"USERMENTION\")\n",
    "td['code'].append(\"LINK\")\n",
    "td['code'].append(\"MARIJUANA\")"
   ]
  },
  {
   "cell_type": "code",
   "execution_count": 60,
   "metadata": {
    "collapsed": false
   },
   "outputs": [
    {
     "data": {
      "text/plain": [
       "False"
      ]
     },
     "execution_count": 60,
     "metadata": {},
     "output_type": "execute_result"
    }
   ],
   "source": [
    "working[21]['tweet']['id_str']==working[16]['tweet']['id_str']"
   ]
  },
  {
   "cell_type": "markdown",
   "metadata": {},
   "source": [
    "good. no repeat"
   ]
  },
  {
   "cell_type": "code",
   "execution_count": 61,
   "metadata": {
    "collapsed": false
   },
   "outputs": [
    {
     "data": {
      "text/plain": [
       "'@LaurenSocha Make sure people wash who come in to close contact with her, no smoking near her or change smokey clot… https://t.co/iveJEh9sfT'"
      ]
     },
     "execution_count": 61,
     "metadata": {},
     "output_type": "execute_result"
    }
   ],
   "source": [
    "td = working[22]\n",
    "td['tweet']['text']"
   ]
  },
  {
   "cell_type": "code",
   "execution_count": 62,
   "metadata": {
    "collapsed": false
   },
   "outputs": [],
   "source": [
    "td['code']=[]\n",
    "td['code'].append(\"USERMENTION\")\n",
    "td['code'].append(\"LINK\")\n",
    "td['code'].append(\"ADVICE\")"
   ]
  },
  {
   "cell_type": "code",
   "execution_count": 63,
   "metadata": {
    "collapsed": false
   },
   "outputs": [
    {
     "data": {
      "text/plain": [
       "'RT @wifisfuneral: I love you always brother &amp; I’m proud how far you’ve gone I remember riding in your whips smoking ports plotting on this…'"
      ]
     },
     "execution_count": 63,
     "metadata": {},
     "output_type": "execute_result"
    }
   ],
   "source": [
    "td = working[23]\n",
    "td['tweet']['text']"
   ]
  },
  {
   "cell_type": "code",
   "execution_count": 64,
   "metadata": {
    "collapsed": true
   },
   "outputs": [],
   "source": [
    "td['code']=[]\n",
    "td['code'].append('RETWEET')\n",
    "td['code'].append(\"USERMENTION\")\n",
    "td['code'].append(\"POSITIVEAFFECT\")"
   ]
  },
  {
   "cell_type": "code",
   "execution_count": 65,
   "metadata": {
    "collapsed": false
   },
   "outputs": [
    {
     "data": {
      "text/plain": [
       "\"RT @The_AOP: Well done to everyone who's got this far! Find out how smoking can impact your eye health in our blog: https://t.co/wCxqBvJxdX…\""
      ]
     },
     "execution_count": 65,
     "metadata": {},
     "output_type": "execute_result"
    }
   ],
   "source": [
    "td = working[24]\n",
    "td['tweet']['text']"
   ]
  },
  {
   "cell_type": "code",
   "execution_count": 66,
   "metadata": {
    "collapsed": true
   },
   "outputs": [],
   "source": [
    "td['code']=[]\n",
    "td['code'].append('RETWEET')\n",
    "td['code'].append(\"USERMENTION\")\n",
    "td['code'].append(\"LINK\")\n",
    "td['code'].append(\"INFORMATION\")\n",
    "td['code'].append(\"ANTI-SMOKING\")"
   ]
  },
  {
   "cell_type": "code",
   "execution_count": 67,
   "metadata": {
    "collapsed": false
   },
   "outputs": [
    {
     "data": {
      "text/plain": [
       "'RT @DrugedPosts: \"Wyd after smoking this?\" https://t.co/n3eGNF4ywY'"
      ]
     },
     "execution_count": 67,
     "metadata": {},
     "output_type": "execute_result"
    }
   ],
   "source": [
    "td = working[25]\n",
    "td['tweet']['text']"
   ]
  },
  {
   "cell_type": "code",
   "execution_count": 68,
   "metadata": {
    "collapsed": true
   },
   "outputs": [],
   "source": [
    "td['code']=[]\n",
    "td['code'].append('LINK')\n",
    "td['code'].append(\"RETWEET\")"
   ]
  },
  {
   "cell_type": "code",
   "execution_count": 69,
   "metadata": {
    "collapsed": false
   },
   "outputs": [
    {
     "data": {
      "text/plain": [
       "'RT @_youngkingdave: Smoking #doinks with @WakaFlocka\\n#doinksquad https://t.co/zex6zRw4Xx'"
      ]
     },
     "execution_count": 69,
     "metadata": {},
     "output_type": "execute_result"
    }
   ],
   "source": [
    "td = working[26]\n",
    "td['tweet']['text']"
   ]
  },
  {
   "cell_type": "code",
   "execution_count": 70,
   "metadata": {
    "collapsed": true
   },
   "outputs": [],
   "source": [
    "td['code']=[]\n",
    "td['code'].append(\"RETWEET\")\n",
    "td['code'].append(\"USERMENTION\")\n",
    "td['code'].append(\"LINK\")\n",
    "td['code'].append(\"MARIJUANA\")"
   ]
  },
  {
   "cell_type": "code",
   "execution_count": 71,
   "metadata": {
    "collapsed": false
   },
   "outputs": [
    {
     "data": {
      "text/plain": [
       "'@FoodTrapper stop smoking cigarettes.'"
      ]
     },
     "execution_count": 71,
     "metadata": {},
     "output_type": "execute_result"
    }
   ],
   "source": [
    "td = working[27]\n",
    "td['tweet']['text']"
   ]
  },
  {
   "cell_type": "code",
   "execution_count": 72,
   "metadata": {
    "collapsed": true
   },
   "outputs": [],
   "source": [
    "td['code']=[]\n",
    "td['code'].append(\"USERMENTION\")\n",
    "td['code'].append(\"ANTI-SMOKING\")"
   ]
  },
  {
   "cell_type": "code",
   "execution_count": 73,
   "metadata": {
    "collapsed": false
   },
   "outputs": [
    {
     "data": {
      "text/plain": [
       "'Smoker? Learn how quitting cuts your #risk of #heartdisease in half: https://t.co/vRLhuXIF1w https://t.co/CbifCvSthc #livewell #2health'"
      ]
     },
     "execution_count": 73,
     "metadata": {},
     "output_type": "execute_result"
    }
   ],
   "source": [
    "td = working[28]\n",
    "td['tweet']['text']"
   ]
  },
  {
   "cell_type": "code",
   "execution_count": 74,
   "metadata": {
    "collapsed": true
   },
   "outputs": [],
   "source": [
    "td['code']=[]\n",
    "td['code'].append('ANTI-SMOKING')\n",
    "td['code'].append('LINK')\n",
    "td['code'].append('ADVICE')"
   ]
  },
  {
   "cell_type": "code",
   "execution_count": 75,
   "metadata": {
    "collapsed": false
   },
   "outputs": [
    {
     "data": {
      "text/plain": [
       "'RT @onmyworst: Not to sound like tana mongeau but I love smoking weed'"
      ]
     },
     "execution_count": 75,
     "metadata": {},
     "output_type": "execute_result"
    }
   ],
   "source": [
    "td = working[29]\n",
    "td['tweet']['text']"
   ]
  },
  {
   "cell_type": "code",
   "execution_count": 76,
   "metadata": {
    "collapsed": true
   },
   "outputs": [],
   "source": [
    "td['code']=[]\n",
    "td['code'].append('RETWEET')\n",
    "td['code'].append('USERMENTION')\n",
    "td['code'].append('MARIJUANA')\n",
    "td['code'].append(\"POSITIVEAFFECT\")"
   ]
  },
  {
   "cell_type": "code",
   "execution_count": 77,
   "metadata": {
    "collapsed": false
   },
   "outputs": [
    {
     "data": {
      "text/plain": [
       "'Max has been growing some odd vegetables and smoking them recently. I must investigate further.'"
      ]
     },
     "execution_count": 77,
     "metadata": {},
     "output_type": "execute_result"
    }
   ],
   "source": [
    "td = working[30]\n",
    "td['tweet']['text']"
   ]
  },
  {
   "cell_type": "code",
   "execution_count": 78,
   "metadata": {
    "collapsed": true
   },
   "outputs": [],
   "source": [
    "td['code']=[]\n",
    "td['code'].append('VEGETABLES')"
   ]
  },
  {
   "cell_type": "code",
   "execution_count": 79,
   "metadata": {
    "collapsed": false
   },
   "outputs": [
    {
     "data": {
      "text/plain": [
       "'@KBonimtetezi @WilliamsRuto We need to get urine sample coz what you are smoking??'"
      ]
     },
     "execution_count": 79,
     "metadata": {},
     "output_type": "execute_result"
    }
   ],
   "source": [
    "td = working[31]\n",
    "td['tweet']['text']"
   ]
  },
  {
   "cell_type": "code",
   "execution_count": 80,
   "metadata": {
    "collapsed": true
   },
   "outputs": [],
   "source": [
    "td['code']=[]\n",
    "td['code'].append('USERMENTION')\n",
    "td['code'].append(\"DRUGTESTING\")"
   ]
  },
  {
   "cell_type": "code",
   "execution_count": 81,
   "metadata": {
    "collapsed": false
   },
   "outputs": [
    {
     "data": {
      "text/plain": [
       "'Drinking a Petite Sour Raspberry by @CrookedStave @ Meat Smoking House 2 — https://t.co/jp3qqNwAgc #photo'"
      ]
     },
     "execution_count": 81,
     "metadata": {},
     "output_type": "execute_result"
    }
   ],
   "source": [
    "td = working[32]\n",
    "td['tweet']['text']"
   ]
  },
  {
   "cell_type": "code",
   "execution_count": 82,
   "metadata": {
    "collapsed": true
   },
   "outputs": [],
   "source": [
    "td['code']=[]\n",
    "td['code'].append(\"LINK\")\n",
    "td['code'].append(\"IRRELEVANT\")"
   ]
  },
  {
   "cell_type": "code",
   "execution_count": 83,
   "metadata": {
    "collapsed": false
   },
   "outputs": [
    {
     "data": {
      "text/plain": [
       "\"So high that I'm fading away ...\""
      ]
     },
     "execution_count": 83,
     "metadata": {},
     "output_type": "execute_result"
    }
   ],
   "source": [
    "td = working[33]\n",
    "td['tweet']['text']"
   ]
  },
  {
   "cell_type": "code",
   "execution_count": 84,
   "metadata": {
    "collapsed": true
   },
   "outputs": [],
   "source": [
    "td['code']=[]\n",
    "td['code'].append(\"MARIJUANA\")"
   ]
  },
  {
   "cell_type": "code",
   "execution_count": 85,
   "metadata": {
    "collapsed": false
   },
   "outputs": [
    {
     "data": {
      "text/plain": [
       "'RT @Bhuvan_Bam: @CarryMinati *Stresses out*\\n*Starts smoking* 😭😭😂'"
      ]
     },
     "execution_count": 85,
     "metadata": {},
     "output_type": "execute_result"
    }
   ],
   "source": [
    "td = working[34]\n",
    "td['tweet']['text']"
   ]
  },
  {
   "cell_type": "code",
   "execution_count": 86,
   "metadata": {
    "collapsed": true
   },
   "outputs": [],
   "source": [
    "td['code']=[]\n",
    "td['code'].append(\"USERMENTION\")\n",
    "td['code'].append(\"POSITIVEAFFECT\")"
   ]
  },
  {
   "cell_type": "code",
   "execution_count": 87,
   "metadata": {
    "collapsed": false
   },
   "outputs": [
    {
     "data": {
      "text/plain": [
       "\"RT @foxnewspolitics: 'Smoking gun'email shows Obama DOJ blocked conservative groups from settlement funds,GOP lawmaker says- @AlexPappas\\nht…\""
      ]
     },
     "execution_count": 87,
     "metadata": {},
     "output_type": "execute_result"
    }
   ],
   "source": [
    "td = working[35]\n",
    "td['tweet']['text']"
   ]
  },
  {
   "cell_type": "code",
   "execution_count": 88,
   "metadata": {
    "collapsed": true
   },
   "outputs": [],
   "source": [
    "td['code']=[]\n",
    "td['code'].append(\"RETWEET\")\n",
    "td['code'].append(\"USERMENTION\")\n",
    "td['code'].append(\"IRRELEVANT\")"
   ]
  },
  {
   "cell_type": "code",
   "execution_count": 89,
   "metadata": {
    "collapsed": false
   },
   "outputs": [
    {
     "data": {
      "text/plain": [
       "'RT @DrugedPosts: \"Wyd after smoking this?\" https://t.co/n9g9TkPqDM'"
      ]
     },
     "execution_count": 89,
     "metadata": {},
     "output_type": "execute_result"
    }
   ],
   "source": [
    "td = working[36]\n",
    "td['tweet']['text']"
   ]
  },
  {
   "cell_type": "code",
   "execution_count": 90,
   "metadata": {
    "collapsed": true
   },
   "outputs": [],
   "source": [
    "td['code']=[]\n",
    "td['code'].append(\"RETWEET\")\n",
    "td['code'].append(\"USERMENTION\")\n",
    "td['code'].append(\"LINK\")"
   ]
  },
  {
   "cell_type": "code",
   "execution_count": 91,
   "metadata": {
    "collapsed": false
   },
   "outputs": [
    {
     "data": {
      "text/plain": [
       "'RT @skwawkbox: This is huge if people understand its significance...\\nhttps://t.co/IcEi2Gh1fh'"
      ]
     },
     "execution_count": 91,
     "metadata": {},
     "output_type": "execute_result"
    }
   ],
   "source": [
    "td = working[37]\n",
    "td['tweet']['text']"
   ]
  },
  {
   "cell_type": "code",
   "execution_count": 92,
   "metadata": {
    "collapsed": true
   },
   "outputs": [],
   "source": [
    "td['code']=[]\n",
    "td['code'].append(\"RETWEET\")\n",
    "td['code'].append(\"USERMENTION\")\n",
    "td['code'].append(\"LINK\")\n",
    "td['code'].append(\"IRRELEVANT\")"
   ]
  },
  {
   "cell_type": "code",
   "execution_count": 93,
   "metadata": {
    "collapsed": false
   },
   "outputs": [
    {
     "data": {
      "text/plain": [
       "\"RT @Sesamee_giraffe: Sana's introduction is a perfect example of smoking through your presentation 😂\""
      ]
     },
     "execution_count": 93,
     "metadata": {},
     "output_type": "execute_result"
    }
   ],
   "source": [
    "td = working[38]\n",
    "td['tweet']['text']"
   ]
  },
  {
   "cell_type": "code",
   "execution_count": 94,
   "metadata": {
    "collapsed": true
   },
   "outputs": [],
   "source": [
    "td['code']=[]\n",
    "td['code'].append(\"RETWEET\")\n",
    "td['code'].append(\"USERMENTION\")\n",
    "td['code'].append(\"IRRELEVANT\")"
   ]
  },
  {
   "cell_type": "code",
   "execution_count": 95,
   "metadata": {
    "collapsed": false
   },
   "outputs": [
    {
     "data": {
      "text/plain": [
       "'RT @Bhuvan_Bam: @CarryMinati *Stresses out*\\n*Starts smoking* 😭😭😂'"
      ]
     },
     "execution_count": 95,
     "metadata": {},
     "output_type": "execute_result"
    }
   ],
   "source": [
    "td = working[39]\n",
    "td['tweet']['text']"
   ]
  },
  {
   "cell_type": "code",
   "execution_count": 96,
   "metadata": {
    "collapsed": true
   },
   "outputs": [],
   "source": [
    "td['code']=[]\n",
    "td['code'].append(\"USERMENTION\")\n",
    "td['code'].append(\"POSITIVEAFFECT\")"
   ]
  },
  {
   "cell_type": "code",
   "execution_count": 97,
   "metadata": {
    "collapsed": false
   },
   "outputs": [
    {
     "data": {
      "text/plain": [
       "'RT @phil30mccrackin: Smoking hot Funtime babes @ashlyandersonxx &amp; @missjojokiss https://t.co/CExJIai8ZW'"
      ]
     },
     "execution_count": 97,
     "metadata": {},
     "output_type": "execute_result"
    }
   ],
   "source": [
    "td = working[40]\n",
    "td['tweet']['text']"
   ]
  },
  {
   "cell_type": "code",
   "execution_count": 98,
   "metadata": {
    "collapsed": true
   },
   "outputs": [],
   "source": [
    "td['code']=[]\n",
    "td['code'].append(\"RETWEET\")\n",
    "td['code'].append(\"USERMENTION\")\n",
    "td['code'].append(\"LINK\")\n",
    "td['code'].append(\"IRRELEVANT\")"
   ]
  },
  {
   "cell_type": "code",
   "execution_count": 99,
   "metadata": {
    "collapsed": false
   },
   "outputs": [
    {
     "data": {
      "text/plain": [
       "'RT @WeedFeed: Differences Between Eating And Smoking Weed https://t.co/8FK10ZbWqx https://t.co/l6212vXpA7'"
      ]
     },
     "execution_count": 99,
     "metadata": {},
     "output_type": "execute_result"
    }
   ],
   "source": [
    "td = working[41]\n",
    "td['tweet']['text']"
   ]
  },
  {
   "cell_type": "code",
   "execution_count": 100,
   "metadata": {
    "collapsed": true
   },
   "outputs": [],
   "source": [
    "td['code']=[]\n",
    "td['code'].append(\"RETWEET\")\n",
    "td['code'].append(\"USERMENTION\")\n",
    "td['code'].append(\"LINK\")\n",
    "td['code'].append('MARIJUANA')"
   ]
  },
  {
   "cell_type": "code",
   "execution_count": 101,
   "metadata": {
    "collapsed": false
   },
   "outputs": [
    {
     "data": {
      "text/plain": [
       "'@danielmarven He must stop smoking 😂😂😂 https://t.co/8tzUrn9Jem'"
      ]
     },
     "execution_count": 101,
     "metadata": {},
     "output_type": "execute_result"
    }
   ],
   "source": [
    "td = working[42]\n",
    "td['tweet']['text']"
   ]
  },
  {
   "cell_type": "code",
   "execution_count": 102,
   "metadata": {
    "collapsed": true
   },
   "outputs": [],
   "source": [
    "td['code']=[]\n",
    "td['code'].append(\"RETWEET\")\n",
    "td['code'].append(\"LINK\")\n",
    "td['code'].append(\"ANTI-SMOKING\")"
   ]
  },
  {
   "cell_type": "code",
   "execution_count": 103,
   "metadata": {
    "collapsed": false
   },
   "outputs": [
    {
     "data": {
      "text/plain": [
       "'RT @GiveMeInternet: Anti smoking ads should show the benefits of quitting instead of the harms of smoking.'"
      ]
     },
     "execution_count": 103,
     "metadata": {},
     "output_type": "execute_result"
    }
   ],
   "source": [
    "td = working[43]\n",
    "td['tweet']['text']"
   ]
  },
  {
   "cell_type": "code",
   "execution_count": 104,
   "metadata": {
    "collapsed": true
   },
   "outputs": [],
   "source": [
    "td['code']=[]\n",
    "td['code'].append(\"RETWEET\")\n",
    "td['code'].append(\"USERMENTION\")\n",
    "td['code'].append(\"ANTI-SMOKING\")\n",
    "td['code'].append(\"QUITTING\")"
   ]
  },
  {
   "cell_type": "code",
   "execution_count": 105,
   "metadata": {
    "collapsed": false
   },
   "outputs": [
    {
     "data": {
      "text/plain": [
       "'RT @DrugedPosts: \"Wyd after smoking this?\" https://t.co/n9g9TkPqDM'"
      ]
     },
     "execution_count": 105,
     "metadata": {},
     "output_type": "execute_result"
    }
   ],
   "source": [
    "td = working[44]\n",
    "td['tweet']['text']"
   ]
  },
  {
   "cell_type": "code",
   "execution_count": 106,
   "metadata": {
    "collapsed": true
   },
   "outputs": [],
   "source": [
    "td['code']=[]\n",
    "td['code'].append('LINK')\n",
    "td['code'].append(\"RETWEET\")"
   ]
  },
  {
   "cell_type": "code",
   "execution_count": 107,
   "metadata": {
    "collapsed": false
   },
   "outputs": [
    {
     "data": {
      "text/plain": [
       "'“What Were They Smoking?”: On Liturgical Art from the 1970s https://t.co/dOgDAUDoVr https://t.co/CcQEkOrIW1'"
      ]
     },
     "execution_count": 107,
     "metadata": {},
     "output_type": "execute_result"
    }
   ],
   "source": [
    "td = working[45]\n",
    "td['tweet']['text']"
   ]
  },
  {
   "cell_type": "code",
   "execution_count": 108,
   "metadata": {
    "collapsed": true
   },
   "outputs": [],
   "source": [
    "td['code']=[]\n",
    "td['code'].append('LINK')"
   ]
  },
  {
   "cell_type": "code",
   "execution_count": 109,
   "metadata": {
    "collapsed": false
   },
   "outputs": [
    {
     "data": {
      "text/plain": [
       "\"RT @Prime_Politics: Fmr. House Speaker Boehner Describes How Obama Struggled With Smoking and Was 'Scared to Death' of Michelle\\n\\n#P2 https:…\""
      ]
     },
     "execution_count": 109,
     "metadata": {},
     "output_type": "execute_result"
    }
   ],
   "source": [
    "td = working[46]\n",
    "td['tweet']['text']"
   ]
  },
  {
   "cell_type": "code",
   "execution_count": 110,
   "metadata": {
    "collapsed": true
   },
   "outputs": [],
   "source": [
    "td['code']=[]\n",
    "td['code'].append('RETWEET')\n",
    "td['code'].append('USERMENTION')\n",
    "td['code'].append('LINK')"
   ]
  },
  {
   "cell_type": "code",
   "execution_count": 111,
   "metadata": {
    "collapsed": false
   },
   "outputs": [
    {
     "data": {
      "text/plain": [
       "'RT @GiveMeInternet: Anti smoking ads should show the benefits of quitting instead of the harms of smoking.'"
      ]
     },
     "execution_count": 111,
     "metadata": {},
     "output_type": "execute_result"
    }
   ],
   "source": [
    "td = working[47]\n",
    "td['tweet']['text']"
   ]
  },
  {
   "cell_type": "code",
   "execution_count": 112,
   "metadata": {
    "collapsed": true
   },
   "outputs": [],
   "source": [
    "td['code']=[]\n",
    "td['code'].append(\"RETWEET\")\n",
    "td['code'].append(\"USERMENTION\")\n",
    "td['code'].append(\"ANTI-SMOKING\")\n",
    "td['code'].append(\"QUITTING\")"
   ]
  },
  {
   "cell_type": "code",
   "execution_count": 113,
   "metadata": {
    "collapsed": false
   },
   "outputs": [
    {
     "data": {
      "text/plain": [
       "'RT DrugedPosts: \"Wyd after smoking this?\" https://t.co/85w6elISAo'"
      ]
     },
     "execution_count": 113,
     "metadata": {},
     "output_type": "execute_result"
    }
   ],
   "source": [
    "td = working[48]\n",
    "td['tweet']['text']"
   ]
  },
  {
   "cell_type": "code",
   "execution_count": 114,
   "metadata": {
    "collapsed": true
   },
   "outputs": [],
   "source": [
    "td['code']=[]\n",
    "td['code'].append('LINK')\n",
    "td['code'].append(\"RETWEET\")"
   ]
  },
  {
   "cell_type": "code",
   "execution_count": 115,
   "metadata": {
    "collapsed": false
   },
   "outputs": [
    {
     "data": {
      "text/plain": [
       "'RT @pyrocajun: One of my friends in Al Udeid took this photo while out smoking a cigarette, and it is goddamn amazing. https://t.co/aGNl7aT…'"
      ]
     },
     "execution_count": 115,
     "metadata": {},
     "output_type": "execute_result"
    }
   ],
   "source": [
    "td = working[49]\n",
    "td['tweet']['text']"
   ]
  },
  {
   "cell_type": "code",
   "execution_count": 116,
   "metadata": {
    "collapsed": true
   },
   "outputs": [],
   "source": [
    "td['code']=[]\n",
    "td['code'].append('LINK')\n",
    "td['code'].append(\"RETWEET\")\n",
    "td['code'].append(\"USERMENTION\")\n",
    "td['code'].append(\"TOBACCO\")"
   ]
  },
  {
   "cell_type": "code",
   "execution_count": 117,
   "metadata": {
    "collapsed": false
   },
   "outputs": [
    {
     "data": {
      "text/plain": [
       "'Sitting is the smoking of our generation https://t.co/OEOTt0jkSK'"
      ]
     },
     "execution_count": 117,
     "metadata": {},
     "output_type": "execute_result"
    }
   ],
   "source": [
    "td = working[50]\n",
    "td['tweet']['text']"
   ]
  },
  {
   "cell_type": "code",
   "execution_count": 118,
   "metadata": {
    "collapsed": true
   },
   "outputs": [],
   "source": [
    "td['code']=[]\n",
    "td['code'].append('LINK')\n",
    "td['code'].append('ADVICE')"
   ]
  },
  {
   "cell_type": "code",
   "execution_count": 119,
   "metadata": {
    "collapsed": false
   },
   "outputs": [
    {
     "data": {
      "text/plain": [
       "'RT @NLMblog: “What Were They Smoking?”: On Liturgical Art from the 1970s https://t.co/dOgDAUDoVr https://t.co/CcQEkOrIW1'"
      ]
     },
     "execution_count": 119,
     "metadata": {},
     "output_type": "execute_result"
    }
   ],
   "source": [
    "td = working[51]\n",
    "td['tweet']['text']"
   ]
  },
  {
   "cell_type": "code",
   "execution_count": 120,
   "metadata": {
    "collapsed": true
   },
   "outputs": [],
   "source": [
    "td['code']=[]\n",
    "td['code'].append('LINK')"
   ]
  },
  {
   "cell_type": "code",
   "execution_count": 121,
   "metadata": {
    "collapsed": false
   },
   "outputs": [
    {
     "data": {
      "text/plain": [
       "\"Who else can share the video of their life's 1st puff of a cigarette and their parents are still proud of it. 😎… https://t.co/plfYK4AnHt\""
      ]
     },
     "execution_count": 121,
     "metadata": {},
     "output_type": "execute_result"
    }
   ],
   "source": [
    "td = working[52]\n",
    "td['tweet']['text']"
   ]
  },
  {
   "cell_type": "code",
   "execution_count": 122,
   "metadata": {
    "collapsed": true
   },
   "outputs": [],
   "source": [
    "td['code']=[]\n",
    "td['code'].append('LINK')\n",
    "td['code'].append('TOBACCO')"
   ]
  },
  {
   "cell_type": "code",
   "execution_count": 123,
   "metadata": {
    "collapsed": false
   },
   "outputs": [
    {
     "data": {
      "text/plain": [
       "'hot fuck jerkoff instruction hentai videos smoking porn'"
      ]
     },
     "execution_count": 123,
     "metadata": {},
     "output_type": "execute_result"
    }
   ],
   "source": [
    "td = working[53]\n",
    "td['tweet']['text']"
   ]
  },
  {
   "cell_type": "code",
   "execution_count": 124,
   "metadata": {
    "collapsed": true
   },
   "outputs": [],
   "source": [
    "td['code']=[]\n",
    "td['code'].append('IRRELEVANT')"
   ]
  },
  {
   "cell_type": "code",
   "execution_count": 125,
   "metadata": {
    "collapsed": false
   },
   "outputs": [
    {
     "data": {
      "text/plain": [
       "'RT @cjsnowdon: Postcard from a country that is losing its mind. https://t.co/bbbwcW25DU'"
      ]
     },
     "execution_count": 125,
     "metadata": {},
     "output_type": "execute_result"
    }
   ],
   "source": [
    "td = working[54]\n",
    "td['tweet']['text']"
   ]
  },
  {
   "cell_type": "code",
   "execution_count": 126,
   "metadata": {
    "collapsed": true
   },
   "outputs": [],
   "source": [
    "td['code']=[]\n",
    "td['code'].append('LINK')\n",
    "td['code'].append(\"RETWEET\")\n",
    "td['code'].append(\"USERMENTION\")\n",
    "td['code'].append('IRRELEVANT')"
   ]
  },
  {
   "cell_type": "code",
   "execution_count": 127,
   "metadata": {
    "collapsed": false
   },
   "outputs": [
    {
     "data": {
      "text/plain": [
       "'RT @MajorPoonia: RG is the next PM of “INDEPENDENT” India🤔?\\nr we Gulam🤔?\\nSalman Bhai,1 thing is for sure- whatever stuff U r smoking is of…'"
      ]
     },
     "execution_count": 127,
     "metadata": {},
     "output_type": "execute_result"
    }
   ],
   "source": [
    "td = working[55]\n",
    "td['tweet']['text']"
   ]
  },
  {
   "cell_type": "code",
   "execution_count": 128,
   "metadata": {
    "collapsed": true
   },
   "outputs": [],
   "source": [
    "td['code']=[]\n",
    "td['code'].append('LINK')\n",
    "td['code'].append(\"RETWEET\")\n",
    "td['code'].append(\"USERMENTION\")\n",
    "td['code'].append('IRRELEVANT')"
   ]
  },
  {
   "cell_type": "code",
   "execution_count": 129,
   "metadata": {
    "collapsed": false
   },
   "outputs": [
    {
     "data": {
      "text/plain": [
       "'@BabeHeavenTV @preeti_young @BabestationTV @UKBabeChannels @RampantTV @tvbabesahoy @the_real_winsaw @murphdogg11… https://t.co/4ZtftYdDqM'"
      ]
     },
     "execution_count": 129,
     "metadata": {},
     "output_type": "execute_result"
    }
   ],
   "source": [
    "td = working[56]\n",
    "td['tweet']['text']"
   ]
  },
  {
   "cell_type": "code",
   "execution_count": 130,
   "metadata": {
    "collapsed": true
   },
   "outputs": [],
   "source": [
    "td['code']=[]\n",
    "td['code'].append('LINK')\n",
    "td['code'].append(\"USERMENTION\")\n",
    "td['code'].append('IRRELEVANT')"
   ]
  },
  {
   "cell_type": "code",
   "execution_count": 131,
   "metadata": {
    "collapsed": false
   },
   "outputs": [
    {
     "data": {
      "text/plain": [
       "'RT @onmyworst: Not to sound like tana mongeau but I love smoking weed'"
      ]
     },
     "execution_count": 131,
     "metadata": {},
     "output_type": "execute_result"
    }
   ],
   "source": [
    "td = working[57]\n",
    "td['tweet']['text']"
   ]
  },
  {
   "cell_type": "code",
   "execution_count": 132,
   "metadata": {
    "collapsed": true
   },
   "outputs": [],
   "source": [
    "td['code']=[]\n",
    "td['code'].append('RETWEET')\n",
    "td['code'].append(\"USERMENTION\")\n",
    "td['code'].append('IRRELEVANT')\n",
    "td['code'].append('MARIJUANA')\n",
    "td['code'].append('POSITIVEAFFECT')"
   ]
  },
  {
   "cell_type": "code",
   "execution_count": 133,
   "metadata": {
    "collapsed": false
   },
   "outputs": [
    {
     "data": {
      "text/plain": [
       "'RT @_youngkingdave: Smoking #doinks with @WakaFlocka\\n#doinksquad https://t.co/zex6zRw4Xx'"
      ]
     },
     "execution_count": 133,
     "metadata": {},
     "output_type": "execute_result"
    }
   ],
   "source": [
    "td = working[58]\n",
    "td['tweet']['text']"
   ]
  },
  {
   "cell_type": "code",
   "execution_count": 134,
   "metadata": {
    "collapsed": true
   },
   "outputs": [],
   "source": [
    "td['code']=[]\n",
    "td['code'].append(\"RETWEET\")\n",
    "td['code'].append(\"USERMENTION\")\n",
    "td['code'].append(\"LINK\")\n",
    "td['code'].append(\"MARIJUANA\")"
   ]
  },
  {
   "cell_type": "code",
   "execution_count": 135,
   "metadata": {
    "collapsed": false
   },
   "outputs": [
    {
     "data": {
      "text/plain": [
       "'RT @naijagym: Stop smoking at home. It makes ur children more prone to ear infections, pneumonia, bronchitis, &amp; coughs. https://t.co/CGkMD9…'"
      ]
     },
     "execution_count": 135,
     "metadata": {},
     "output_type": "execute_result"
    }
   ],
   "source": [
    "td = working[59]\n",
    "td['tweet']['text']"
   ]
  },
  {
   "cell_type": "code",
   "execution_count": 136,
   "metadata": {
    "collapsed": true
   },
   "outputs": [],
   "source": [
    "td['code']=[]\n",
    "td['code'].append(\"RETWEET\")\n",
    "td['code'].append(\"USERMENTION\")\n",
    "td['code'].append(\"LINK\")\n",
    "td['code'].append(\"ADVICE\")\n",
    "td['code'].append(\"ANTI-SMOKING\")"
   ]
  },
  {
   "cell_type": "code",
   "execution_count": 137,
   "metadata": {
    "collapsed": false
   },
   "outputs": [
    {
     "data": {
      "text/plain": [
       "'RT @wydafters: \"Wyd after smoking this?\" https://t.co/jjE1aF4NhB'"
      ]
     },
     "execution_count": 137,
     "metadata": {},
     "output_type": "execute_result"
    }
   ],
   "source": [
    "td = working[60]\n",
    "td['tweet']['text']"
   ]
  },
  {
   "cell_type": "code",
   "execution_count": 138,
   "metadata": {
    "collapsed": true
   },
   "outputs": [],
   "source": [
    "td['code']=[]\n",
    "td['code'].append('LINK')\n",
    "td['code'].append('RETWEET')"
   ]
  },
  {
   "cell_type": "code",
   "execution_count": 139,
   "metadata": {
    "collapsed": false
   },
   "outputs": [
    {
     "data": {
      "text/plain": [
       "'FlTNESS: RT DrugedPosts: \"Wyd after smoking this?\" https://t.co/hFQcFqtaHr'"
      ]
     },
     "execution_count": 139,
     "metadata": {},
     "output_type": "execute_result"
    }
   ],
   "source": [
    "td = working[61]\n",
    "td['tweet']['text']"
   ]
  },
  {
   "cell_type": "code",
   "execution_count": 140,
   "metadata": {
    "collapsed": true
   },
   "outputs": [],
   "source": [
    "td['code']=[]\n",
    "td['code'].append('LINK')\n",
    "td['code'].append('RETWEET')"
   ]
  },
  {
   "cell_type": "code",
   "execution_count": 141,
   "metadata": {
    "collapsed": false
   },
   "outputs": [
    {
     "data": {
      "text/plain": [
       "['LINK',\n",
       " 'RETWEET',\n",
       " 'USERMENTION',\n",
       " 'ANTI-SMOKING',\n",
       " 'QUITTING',\n",
       " 'IRRELEVANT',\n",
       " 'ADVICE',\n",
       " 'MARIJUANA',\n",
       " 'FRIENDS',\n",
       " 'SENTIMENT',\n",
       " 'DRUGTESTING',\n",
       " 'IMPACT',\n",
       " 'POSITIVEAFFECT',\n",
       " 'INFORMATION',\n",
       " 'VEGETABLES',\n",
       " 'TOBACCO',\n",
       " 'FRUSTRATION',\n",
       " 'POSSIBLYRELEVANT',\n",
       " 'OPIATES',\n",
       " 'BENEFITS',\n",
       " 'HABITS',\n",
       " 'HASHTAG']"
      ]
     },
     "execution_count": 141,
     "metadata": {},
     "output_type": "execute_result"
    }
   ],
   "source": [
    "getCodes(tweets)"
   ]
  },
  {
   "cell_type": "code",
   "execution_count": 142,
   "metadata": {
    "collapsed": false
   },
   "outputs": [
    {
     "data": {
      "text/plain": [
       "'RT @Joshuel1209: So ive decided to try to quit smoking.. \\nLol \\nLets see how long it takes😂'"
      ]
     },
     "execution_count": 142,
     "metadata": {},
     "output_type": "execute_result"
    }
   ],
   "source": [
    "td = working[62]\n",
    "td['tweet']['text']"
   ]
  },
  {
   "cell_type": "code",
   "execution_count": 143,
   "metadata": {
    "collapsed": true
   },
   "outputs": [],
   "source": [
    "td['code']=[]\n",
    "td['code'].append(\"RETWEET\")\n",
    "td['code'].append(\"USERMENTION\")\n",
    "td['code'].append(\"TOBACCO\")\n",
    "td['code'].append(\"QUITTING\")"
   ]
  },
  {
   "cell_type": "code",
   "execution_count": 144,
   "metadata": {
    "collapsed": false
   },
   "outputs": [
    {
     "data": {
      "text/plain": [
       "'RT @eBookExtremist: Conservative mindset: Censor the word \"ass\" on the radio in a song about smoking weed, cooking and selling crack, prost…'"
      ]
     },
     "execution_count": 144,
     "metadata": {},
     "output_type": "execute_result"
    }
   ],
   "source": [
    "td = working[63]\n",
    "td['tweet']['text']"
   ]
  },
  {
   "cell_type": "code",
   "execution_count": 145,
   "metadata": {
    "collapsed": true
   },
   "outputs": [],
   "source": [
    "td['code']=[]\n",
    "td['code'].append(\"RETWEET\")\n",
    "td['code'].append(\"USERMENTION\")\n",
    "td['code'].append(\"MARIJUANA\")"
   ]
  },
  {
   "cell_type": "code",
   "execution_count": 146,
   "metadata": {
    "collapsed": false
   },
   "outputs": [
    {
     "data": {
      "text/plain": [
       "'RT @vpybur: I hate smoking w people who are so paranoid about getting caught'"
      ]
     },
     "execution_count": 146,
     "metadata": {},
     "output_type": "execute_result"
    }
   ],
   "source": [
    "td = working[64]\n",
    "td['tweet']['text']"
   ]
  },
  {
   "cell_type": "code",
   "execution_count": 147,
   "metadata": {
    "collapsed": true
   },
   "outputs": [],
   "source": [
    "td['code']=[]\n",
    "td['code'].append(\"RETWEET\")\n",
    "td['code'].append(\"USERMENTION\")\n",
    "td['code'].append(\"MARIJUANA\")"
   ]
  },
  {
   "cell_type": "code",
   "execution_count": 148,
   "metadata": {
    "collapsed": false
   },
   "outputs": [
    {
     "data": {
      "text/plain": [
       "'RT @bkeane3030: smoking big doinks out in amish  https://t.co/En14YMDMI6'"
      ]
     },
     "execution_count": 148,
     "metadata": {},
     "output_type": "execute_result"
    }
   ],
   "source": [
    "td = working[65]\n",
    "td['tweet']['text']"
   ]
  },
  {
   "cell_type": "code",
   "execution_count": 149,
   "metadata": {
    "collapsed": true
   },
   "outputs": [],
   "source": [
    "td['code']=[]\n",
    "td['code'].append(\"RETWEET\")\n",
    "td['code'].append(\"USERMENTION\")\n",
    "td['code'].append(\"LINK\")\n",
    "td['code'].append(\"MARIJUANA\")"
   ]
  },
  {
   "cell_type": "code",
   "execution_count": 150,
   "metadata": {
    "collapsed": false
   },
   "outputs": [
    {
     "data": {
      "text/plain": [
       "'RT @Scaler17: The latest Acamprosate Made Me Quit Smoking Daily! https://t.co/Segx1Ry9uJ Thanks to @DoctorNazarian @BrownlowPrinces @EcigCl…'"
      ]
     },
     "execution_count": 150,
     "metadata": {},
     "output_type": "execute_result"
    }
   ],
   "source": [
    "td = working[66]\n",
    "td['tweet']['text']"
   ]
  },
  {
   "cell_type": "code",
   "execution_count": 151,
   "metadata": {
    "collapsed": true
   },
   "outputs": [],
   "source": [
    "td['code']=[]\n",
    "td['code'].append(\"RETWEET\")\n",
    "td['code'].append(\"USERMENTION\")\n",
    "td['code'].append(\"LINK\")\n",
    "td['code'].append(\"QUITTING\")\n",
    "td['code'].append(\"ADVICE\")\n",
    "td['code'].append(\"TOBACCO\")"
   ]
  },
  {
   "cell_type": "code",
   "execution_count": 152,
   "metadata": {
    "collapsed": false
   },
   "outputs": [
    {
     "data": {
      "text/plain": [
       "'RT @kitz007: #Irony It happens only in #India 😂😂 #Smoking ... #NoSmoking \\n\\nCaptions pls :D https://t.co/O39sdwVcRM'"
      ]
     },
     "execution_count": 152,
     "metadata": {},
     "output_type": "execute_result"
    }
   ],
   "source": [
    "td = working[67]\n",
    "td['tweet']['text']"
   ]
  },
  {
   "cell_type": "code",
   "execution_count": 153,
   "metadata": {
    "collapsed": true
   },
   "outputs": [],
   "source": [
    "td['code']=[]\n",
    "td['code'].append(\"RETWEET\")\n",
    "td['code'].append(\"USERMENTION\")\n",
    "td['code'].append(\"LINK\")\n",
    "td['code'].append(\"ANTI-SMOKING\")"
   ]
  },
  {
   "cell_type": "code",
   "execution_count": 154,
   "metadata": {
    "collapsed": false
   },
   "outputs": [
    {
     "data": {
      "text/plain": [
       "'RT @Scaler17: https://t.co/K8TDlJXdSD … …   Link to my ad on how I quit smoking with Acamprosate second article down  Oct. 26 / 27 /28 /29,…'"
      ]
     },
     "execution_count": 154,
     "metadata": {},
     "output_type": "execute_result"
    }
   ],
   "source": [
    "td = working[68]\n",
    "td['tweet']['text']"
   ]
  },
  {
   "cell_type": "code",
   "execution_count": 155,
   "metadata": {
    "collapsed": false
   },
   "outputs": [],
   "source": [
    "td['code']=[]\n",
    "td['code'].append(\"RETWEET\")\n",
    "td['code'].append(\"USERMENTION\")\n",
    "td['code'].append(\"LINK\")\n",
    "td['code'].append(\"QUITTING\")\n",
    "td['code'].append(\"ADVICE\")\n",
    "td['code'].append(\"TOBACCO\")"
   ]
  },
  {
   "cell_type": "code",
   "execution_count": 156,
   "metadata": {
    "collapsed": false
   },
   "outputs": [
    {
     "data": {
      "text/plain": [
       "'RT @FootyMemes: This new anti-smoking ad is really powerful... https://t.co/pWHZDLIb7O'"
      ]
     },
     "execution_count": 156,
     "metadata": {},
     "output_type": "execute_result"
    }
   ],
   "source": [
    "td = working[69]\n",
    "td['tweet']['text']"
   ]
  },
  {
   "cell_type": "code",
   "execution_count": 157,
   "metadata": {
    "collapsed": true
   },
   "outputs": [],
   "source": [
    "td['code']=[]\n",
    "td['code'].append(\"RETWEET\")\n",
    "td['code'].append(\"USERMENTION\")\n",
    "td['code'].append(\"LINK\")\n",
    "td['code'].append(\"TOBACCO\")\n",
    "td['code'].append(\"ANTI-SMOKING\")"
   ]
  },
  {
   "cell_type": "code",
   "execution_count": 158,
   "metadata": {
    "collapsed": false
   },
   "outputs": [
    {
     "data": {
      "text/plain": [
       "'RT @Scaler17: #Acamprosate enabled me to quit smoking - without trying to quit smoking.  Please view my website https://t.co/wZlB8UmVz8  No…'"
      ]
     },
     "execution_count": 158,
     "metadata": {},
     "output_type": "execute_result"
    }
   ],
   "source": [
    "td = working[70]\n",
    "td['tweet']['text']"
   ]
  },
  {
   "cell_type": "code",
   "execution_count": 159,
   "metadata": {
    "collapsed": true
   },
   "outputs": [],
   "source": [
    "td['code']=[]\n",
    "td['code'].append(\"RETWEET\")\n",
    "td['code'].append(\"USERMENTION\")\n",
    "td['code'].append(\"LINK\")\n",
    "td['code'].append(\"TOBACCO\")\n",
    "td['code'].append(\"ANTI-SMOKING\")"
   ]
  },
  {
   "cell_type": "code",
   "execution_count": 160,
   "metadata": {
    "collapsed": false
   },
   "outputs": [
    {
     "data": {
      "text/plain": [
       "'RT @2HighBros: \"Wyd after smoking this?\" https://t.co/W2IsDjukye'"
      ]
     },
     "execution_count": 160,
     "metadata": {},
     "output_type": "execute_result"
    }
   ],
   "source": [
    "td = working[71]\n",
    "td['tweet']['text']"
   ]
  },
  {
   "cell_type": "code",
   "execution_count": 161,
   "metadata": {
    "collapsed": true
   },
   "outputs": [],
   "source": [
    "td['code']=[]\n",
    "td['code'].append('LINK')\n",
    "td['code'].append(\"RETWEET\")"
   ]
  },
  {
   "cell_type": "code",
   "execution_count": 162,
   "metadata": {
    "collapsed": false
   },
   "outputs": [
    {
     "data": {
      "text/plain": [
       "\"RT @joelavinash_: Guys , I'm trying to get my friend to stop smoking please please please get this to 2.5K rts so that he'll stop smoking 🚭…\""
      ]
     },
     "execution_count": 162,
     "metadata": {},
     "output_type": "execute_result"
    }
   ],
   "source": [
    "td = working[72]\n",
    "td['tweet']['text']"
   ]
  },
  {
   "cell_type": "code",
   "execution_count": 163,
   "metadata": {
    "collapsed": true
   },
   "outputs": [],
   "source": [
    "td['code']=[]\n",
    "td['code'].append(\"RETWEET\")\n",
    "td['code'].append('USERMENTION')\n",
    "td['code'].append(\"RETWEET\")\n",
    "td['code'].append('QUITTING')\n",
    "td['code'].append('FRIENDS')"
   ]
  },
  {
   "cell_type": "code",
   "execution_count": 164,
   "metadata": {
    "collapsed": false
   },
   "outputs": [
    {
     "data": {
      "text/plain": [
       "'RT @2HighBros: \"Wyd after smoking this?\" https://t.co/W2IsDjukye'"
      ]
     },
     "execution_count": 164,
     "metadata": {},
     "output_type": "execute_result"
    }
   ],
   "source": [
    "td = working[73]\n",
    "td['tweet']['text']"
   ]
  },
  {
   "cell_type": "code",
   "execution_count": 165,
   "metadata": {
    "collapsed": true
   },
   "outputs": [],
   "source": [
    "td['code']=[]\n",
    "td['code'].append('LINK')\n",
    "td['code'].append(\"RETWEET\")"
   ]
  },
  {
   "cell_type": "code",
   "execution_count": 166,
   "metadata": {
    "collapsed": false
   },
   "outputs": [
    {
     "data": {
      "text/plain": [
       "'Former House Speaker John Boehner describes how Obama struggled with smoking and was… https://t.co/jGoZtwpyfB'"
      ]
     },
     "execution_count": 166,
     "metadata": {},
     "output_type": "execute_result"
    }
   ],
   "source": [
    "td = working[74]\n",
    "td['tweet']['text']"
   ]
  },
  {
   "cell_type": "code",
   "execution_count": 167,
   "metadata": {
    "collapsed": true
   },
   "outputs": [],
   "source": [
    "td['code']=[]\n",
    "td['code'].append('RETWEET')\n",
    "td['code'].append('LINK')"
   ]
  },
  {
   "cell_type": "code",
   "execution_count": 168,
   "metadata": {
    "collapsed": false
   },
   "outputs": [
    {
     "data": {
      "text/plain": [
       "'@AMERICAFUCKU @DBloom451 @NFL Yes!! They are ABSOLUTELY clueless &amp; @realDonaldTrump got them smoking on that Trump… https://t.co/Q0c9TAed1T'"
      ]
     },
     "execution_count": 168,
     "metadata": {},
     "output_type": "execute_result"
    }
   ],
   "source": [
    "td = working[75]\n",
    "td['tweet']['text']"
   ]
  },
  {
   "cell_type": "code",
   "execution_count": 169,
   "metadata": {
    "collapsed": true
   },
   "outputs": [],
   "source": [
    "td['code']=[]\n",
    "td['code'].append('RETWEET')\n",
    "td['code'].append('LINK')\n",
    "td['code'].append('USERMENTION')\n",
    "td['code'].append('IRRELEVANT')"
   ]
  },
  {
   "cell_type": "code",
   "execution_count": 170,
   "metadata": {
    "collapsed": false
   },
   "outputs": [
    {
     "data": {
      "text/plain": [
       "'RT @Scaler17: The latest Acamprosate Made Me Quit Smoking Daily! https://t.co/Segx1Rgy69 Thanks to @OakCreekDental @medsinpregnancy @TheGal…'"
      ]
     },
     "execution_count": 170,
     "metadata": {},
     "output_type": "execute_result"
    }
   ],
   "source": [
    "td = working[76]\n",
    "td['tweet']['text']"
   ]
  },
  {
   "cell_type": "code",
   "execution_count": 171,
   "metadata": {
    "collapsed": true
   },
   "outputs": [],
   "source": [
    "td['code']=[]\n",
    "td['code'].append(\"RETWEET\")\n",
    "td['code'].append(\"USERMENTION\")\n",
    "td['code'].append(\"LINK\")\n",
    "td['code'].append(\"QUITTING\")\n",
    "td['code'].append(\"ADVICE\")\n",
    "td['code'].append(\"TOBACCO\")"
   ]
  },
  {
   "cell_type": "code",
   "execution_count": 172,
   "metadata": {
    "collapsed": false
   },
   "outputs": [
    {
     "data": {
      "text/plain": [
       "'I need a smoking buddy asap.'"
      ]
     },
     "execution_count": 172,
     "metadata": {},
     "output_type": "execute_result"
    }
   ],
   "source": [
    "td = working[77]\n",
    "td['tweet']['text']"
   ]
  },
  {
   "cell_type": "code",
   "execution_count": 173,
   "metadata": {
    "collapsed": false
   },
   "outputs": [],
   "source": [
    "td['code']=[]\n",
    "td['code'].append(\"FRIENDS\")"
   ]
  },
  {
   "cell_type": "code",
   "execution_count": 174,
   "metadata": {
    "collapsed": false
   },
   "outputs": [
    {
     "data": {
      "text/plain": [
       "\"seems like winter is here in bangalore. smoking a cigarette in the office terrace and can't stop shivering...\""
      ]
     },
     "execution_count": 174,
     "metadata": {},
     "output_type": "execute_result"
    }
   ],
   "source": [
    "td = working[78]\n",
    "td['tweet']['text']"
   ]
  },
  {
   "cell_type": "code",
   "execution_count": 175,
   "metadata": {
    "collapsed": true
   },
   "outputs": [],
   "source": [
    "td['code']=[]\n",
    "td['code'].append(\"TOBACCO\")"
   ]
  },
  {
   "cell_type": "code",
   "execution_count": 176,
   "metadata": {
    "collapsed": false
   },
   "outputs": [
    {
     "data": {
      "text/plain": [
       "'RT @ChickenColeman: Bitch he smoking WHAT???? RT @n1irving: nigga smoking incest 😂 RT @DrakeGoat: High AF #420 http://t.co/NRhhzU2jN2'"
      ]
     },
     "execution_count": 176,
     "metadata": {},
     "output_type": "execute_result"
    }
   ],
   "source": [
    "td = working[79]\n",
    "td['tweet']['text']"
   ]
  },
  {
   "cell_type": "code",
   "execution_count": 177,
   "metadata": {
    "collapsed": false
   },
   "outputs": [],
   "source": [
    "td['code']=[]\n",
    "td['code'].append(\"RETWEET\")\n",
    "td['code'].append(\"USERMENTION\")\n",
    "td['code'].append(\"LINK\")"
   ]
  },
  {
   "cell_type": "code",
   "execution_count": 178,
   "metadata": {
    "collapsed": false
   },
   "outputs": [
    {
     "data": {
      "text/plain": [
       "'RT @GEslave: follow @Goddess_Erotika , the ultimate GODDESS of smoking &amp; high platform heels #smoking #highheels #fetish #longnails #mistre…'"
      ]
     },
     "execution_count": 178,
     "metadata": {},
     "output_type": "execute_result"
    }
   ],
   "source": [
    "td = working[80]\n",
    "td['tweet']['text']"
   ]
  },
  {
   "cell_type": "code",
   "execution_count": 179,
   "metadata": {
    "collapsed": true
   },
   "outputs": [],
   "source": [
    "td['code']=[]\n"
   ]
  },
  {
   "cell_type": "code",
   "execution_count": 180,
   "metadata": {
    "collapsed": true
   },
   "outputs": [],
   "source": [
    "td['code'].append(\"RETWEET\")\n",
    "td['code'].append(\"USERMENTION\")"
   ]
  },
  {
   "cell_type": "markdown",
   "metadata": {},
   "source": [
    "### end cut here\n",
    "---"
   ]
  },
  {
   "cell_type": "markdown",
   "metadata": {},
   "source": [
    "## Exercise 2: Additional queries\n",
    "\n",
    "The tweets annotated above are all based on searches for 'smoking'. What if you were to try other terms, such as 'tobacco' or 'vaping'? \n",
    "\n",
    "1. Using the `searchTwitter` procedure defined above, run a search for a set of tweets with one of the these alternative terms.\n",
    "\n",
    "2. Revise `saveTweets` and `readTweets` to store the new set of tweets in a json file, along with the original tweets. How might you distinguish between the two sets? "
   ]
  },
  {
   "cell_type": "markdown",
   "metadata": {},
   "source": [
    "---\n",
    "### cut below this line\n",
    "\n",
    "\n",
    "There are several ways this might be done - the following approach is reasonably straightforward.\n",
    "1.  iterate over current `tweets` dictionary, modifying each entry with a new attribute ['search_term'] set to 'smoking'\n",
    "2. grab a new set of tweets with the alternative term, \n",
    "3. Annotate these new tweets with the next search term\n",
    "4. add them to the `tweets` object,including the new `search_term`\n",
    "\n",
    "\n",
    "Let's go through these in turn\n",
    "#### 2.1. iterate over current `tweets` dictionary, modifying each entry with a new attribute ['search_term'] set to 'smoking'"
   ]
  },
  {
   "cell_type": "code",
   "execution_count": 189,
   "metadata": {
    "collapsed": true
   },
   "outputs": [],
   "source": [
    "for id,entry in tweets.items():\n",
    "    tweets[id]['search_term']='smoking'\n"
   ]
  },
  {
   "cell_type": "markdown",
   "metadata": {},
   "source": [
    "### 2.2  grab a new set of tweets with the alternative term"
   ]
  },
  {
   "cell_type": "code",
   "execution_count": null,
   "metadata": {
    "collapsed": false
   },
   "outputs": [],
   "source": [
    "vapeTweets = searchTwitter(\"vape\",100)"
   ]
  },
  {
   "cell_type": "code",
   "execution_count": 191,
   "metadata": {
    "collapsed": false
   },
   "outputs": [],
   "source": [
    "#### 3. add search term to these new tweets"
   ]
  },
  {
   "cell_type": "code",
   "execution_count": 192,
   "metadata": {
    "collapsed": false
   },
   "outputs": [
    {
     "ename": "NameError",
     "evalue": "name 'vapeTweets' is not defined",
     "output_type": "error",
     "traceback": [
      "\u001b[0;31m---------------------------------------------------------------------------\u001b[0m",
      "\u001b[0;31mNameError\u001b[0m                                 Traceback (most recent call last)",
      "\u001b[0;32m<ipython-input-192-3dd80ae5e9c4>\u001b[0m in \u001b[0;36m<module>\u001b[0;34m()\u001b[0m\n\u001b[0;32m----> 1\u001b[0;31m \u001b[0;32mfor\u001b[0m \u001b[0mid\u001b[0m\u001b[0;34m,\u001b[0m\u001b[0mentry\u001b[0m \u001b[0;32min\u001b[0m \u001b[0mvapeTweets\u001b[0m\u001b[0;34m.\u001b[0m\u001b[0mitems\u001b[0m\u001b[0;34m(\u001b[0m\u001b[0;34m)\u001b[0m\u001b[0;34m:\u001b[0m\u001b[0;34m\u001b[0m\u001b[0m\n\u001b[0m\u001b[1;32m      2\u001b[0m     \u001b[0mvapeTweets\u001b[0m\u001b[0;34m[\u001b[0m\u001b[0mid\u001b[0m\u001b[0;34m]\u001b[0m\u001b[0;34m[\u001b[0m\u001b[0;34m'search_term'\u001b[0m\u001b[0;34m]\u001b[0m\u001b[0;34m=\u001b[0m\u001b[0;34m'vape'\u001b[0m\u001b[0;34m\u001b[0m\u001b[0m\n",
      "\u001b[0;31mNameError\u001b[0m: name 'vapeTweets' is not defined"
     ]
    }
   ],
   "source": [
    "for id,entry in vapeTweets.items():\n",
    "    vapeTweets[id]['search_term']='vape'"
   ]
  },
  {
   "cell_type": "markdown",
   "metadata": {},
   "source": [
    "### end cut here\n",
    "----"
   ]
  },
  {
   "cell_type": "markdown",
   "metadata": {},
   "source": [
    "## Exercise 3: Reflection on coding\n",
    "\n",
    "Open coding can often be an iterative process. When we first start out, we don't really know what we're looking for. As a result, the first few items annotated might only get a few codes, and we might miss ideas that we don't initially think are important. As we see more and more items, our ideas of what needs to be annotated will change, and we'll start adding in codes that might also apply to earlier messages. Thus, we often need to review and re-annotate earlier tweets to account for changes in our interpreations.\n",
    "\n",
    "Review the annotations that you have made, by doing the following:\n",
    "1. write a routine to extract a list of all codes used to describe all tweets in the corpus. Hint: The python set () construction can help ensure that you do not repeat codes\n",
    "2. use this list of codes to review your annotations of the first 10 tweets tha you reviewed. Revise the codes associated with these tweets, adding items from the overall list of codes as appropriate."
   ]
  },
  {
   "cell_type": "markdown",
   "metadata": {},
   "source": [
    "---\n",
    "begin cut here\n",
    "\n",
    "\n",
    "\n",
    "### 3.1 Write a routine to extract a list of all codes used to describe all tweets in the corpus\n"
   ]
  },
  {
   "cell_type": "code",
   "execution_count": 240,
   "metadata": {
    "collapsed": false
   },
   "outputs": [],
   "source": [
    "def get_codes(tweets):\n",
    "    codes=set()\n",
    "    for id,entry in tweets.items():\n",
    "        if 'code' in entry:\n",
    "            for code in entry['code']:\n",
    "                codes.add(code)\n",
    "    return codes"
   ]
  },
  {
   "cell_type": "code",
   "execution_count": 241,
   "metadata": {
    "collapsed": false
   },
   "outputs": [
    {
     "data": {
      "text/plain": [
       "{'ADVICE',\n",
       " 'ANTI-SMOKING',\n",
       " 'BENEFITS',\n",
       " 'DRUGTESTING',\n",
       " 'FRIENDS',\n",
       " 'FRUSTRATION',\n",
       " 'HABITS',\n",
       " 'HASHTAG',\n",
       " 'IMPACT',\n",
       " 'INFORMATION',\n",
       " 'IRRELEVANT',\n",
       " 'LINK',\n",
       " 'MARIJUANA',\n",
       " 'OPIATES',\n",
       " 'POSITIVEAFFECT',\n",
       " 'POSSIBLYRELEVANT',\n",
       " 'QUITTING',\n",
       " 'RETWEET',\n",
       " 'SENTIMENT',\n",
       " 'TOBACCO',\n",
       " 'USERMENTION',\n",
       " 'VEGETABLES'}"
      ]
     },
     "execution_count": 241,
     "metadata": {},
     "output_type": "execute_result"
    }
   ],
   "source": [
    "codes = get_codes(tweets)\n",
    "codes"
   ]
  },
  {
   "cell_type": "markdown",
   "metadata": {},
   "source": [
    "\n",
    "end cut here \n",
    "\n",
    "---"
   ]
  },
  {
   "cell_type": "markdown",
   "metadata": {},
   "source": [
    "### 4.2 Summarizing and exploring coding categories\n",
    "\n",
    "Once we have a good set of categories, we can iterate over the tweets and create a dictionary mapping codes to relevant tweets."
   ]
  },
  {
   "cell_type": "markdown",
   "metadata": {},
   "source": [
    "-----"
   ]
  },
  {
   "cell_type": "code",
   "execution_count": null,
   "metadata": {
    "collapsed": false
   },
   "outputs": [],
   "source": [
    "codeDict={}\n",
    "for id,entry in tweets.items():\n",
    "    # for every tweet, look to see if we have any codes\n",
    "    if 'code' in entry:\n",
    "        # for each code\n",
    "        for code in entry['code']:\n",
    "            # look for it in the codeDictionary, creating a new list of codes if needed\n",
    "            if code not in codeDict:\n",
    "                codeDict[code]=[]\n",
    "            # add the id to the dictionary \n",
    "            codeDict[code].append(id)"
   ]
  },
  {
   "cell_type": "code",
   "execution_count": null,
   "metadata": {
    "collapsed": true
   },
   "outputs": [],
   "source": []
  }
 ],
 "metadata": {
  "kernelspec": {
   "display_name": "Python 3",
   "language": "python",
   "name": "python3"
  },
  "language_info": {
   "codemirror_mode": {
    "name": "ipython",
    "version": 3
   },
   "file_extension": ".py",
   "mimetype": "text/x-python",
   "name": "python",
   "nbconvert_exporter": "python",
   "pygments_lexer": "ipython3",
   "version": "3.5.1"
  }
 },
 "nbformat": 4,
 "nbformat_minor": 0
}
