{
 "cells": [
  {
   "cell_type": "markdown",
   "metadata": {},
   "source": [
    "###  *Goal*: Use social media posts to explore the appplication of text and natural language processing to see what might be learned from online interactions.\n",
    "\n",
    "Specifically, we will retrieve, annotate, process, and interpret Twitter data on health-related issues such as depression."
   ]
  },
  {
   "cell_type": "markdown",
   "metadata": {},
   "source": [
    "--- \n",
    "References:\n",
    "* [Mining Twitter Data with Python (Part 1: Collecting data)](https://marcobonzanini.com/2015/03/02/mining-twitter-data-with-python-part-1/)\n",
    "* The [Tweepy Python API for Twitter](http://www.tweepy.org/)\n",
    "\n",
    "Required Software\n",
    "* [Python 3](https://www.python.org)\n",
    "* [NumPy](http://www.numpy.org) - for preparing data for plotting\n",
    "* [Matplotlib](https://matplotlib.org) - plots and garphs\n",
    "* [jsonpickle](https://jsonpickle.github.io) for storing tweets. \n",
    "---"
   ]
  },
  {
   "cell_type": "code",
   "execution_count": 181,
   "metadata": {},
   "outputs": [],
   "source": [
    "%matplotlib inline\n",
    "\n",
    "import numpy as np\n",
    "import matplotlib\n",
    "import matplotlib.pyplot as plt\n",
    "import jsonpickle\n",
    "import json\n",
    "import random\n",
    "import tweepy\n",
    "import time"
   ]
  },
  {
   "cell_type": "markdown",
   "metadata": {},
   "source": [
    "# Introduction\n",
    "\n",
    "This module continues the Social Media Data Science module started in [Part 1](SocialMedia - Part 1.ipynb) covering the annotation of tweets. These lessons will continue in [Part 3](SocialMedia - Part 1.ipynb) as we move on to the use of Natural Language processing to analyze the tweets. \n",
    "  \n",
    "Our case study will apply these topics to Twitter discussions of smoking and vaping. Although details of the tools used to access data and the format and content of the data may differ for various services, the strategies and procedures used to analyze the data will generalize to other tools."
   ]
  },
  {
   "cell_type": "markdown",
   "metadata": {},
   "source": [
    "## 0. Setup\n",
    "\n",
    "Before we dig in, we must grab a bit of code from [Part 1](SocialMedia - Part 1.ipynb):\n",
    "\n",
    "1. The searchTweet routine for grabbing tweets\n",
    "2. The routines that we wrote to save tweets two and read tweets in from a file.\n",
    "3. Our twitter API Keys - be sure to copy the keys that you generated when you completed *part 1*.\n",
    "4. Configuration of our Twitter connection"
   ]
  },
  {
   "cell_type": "code",
   "execution_count": 182,
   "metadata": {},
   "outputs": [],
   "source": [
    "def searchTwitter(term,corpus_size):\n",
    "    tweets={}\n",
    "    while (len(tweets) < corpus_size):\n",
    "        new_tweets = api.search(term,lang=\"en\",count=10)\n",
    "        for nt_json in new_tweets:\n",
    "            nt = nt_json._json\n",
    "            if nt['id_str'] not in tweets:\n",
    "                new_entry={}\n",
    "                new_entry['count']=0\n",
    "                new_entry['tweet']=nt\n",
    "                tweets[nt['id_str']]=new_entry\n",
    "            tweets[nt['id_str']]['count'] = tweets[nt['id_str']]['count']+1\n",
    "        # wait to give our twitter account a break..\n",
    "        time.sleep(10)\n",
    "    return tweets"
   ]
  },
  {
   "cell_type": "code",
   "execution_count": 183,
   "metadata": {},
   "outputs": [],
   "source": [
    "def saveTweets(tweets,filename):\n",
    "    json_data =jsonpickle.encode(tweets)\n",
    "    with open(filename,'w') as f:\n",
    "        json.dump(json_data,f)\n",
    "        \n",
    "def readTweets(filename):\n",
    "    with open(filename,'r') as f:\n",
    "        json_data = json.load(f)\n",
    "    tweets = jsonpickle.decode(json_data)\n",
    "    return tweets"
   ]
  },
  {
   "cell_type": "markdown",
   "metadata": {},
   "source": [
    "*REDACT FOLLOWING DETAILS*"
   ]
  },
  {
   "cell_type": "code",
   "execution_count": 184,
   "metadata": {},
   "outputs": [],
   "source": [
    "consumer_key='D2L4YZ2YrO1PMix7uKUK63b8H'\n",
    "consumer_secret='losRw9T8zb6VT3TEJ9JHmmhAmn1GXKVj30dkiMv9vjhXuiWek9'\n",
    "access_token='15283934-iggs1hiZAPI2o5sfHWMfjumTF7SvytHPjpPRGf3I6'\n",
    "access_secret='bOvqssxS97PGPwXHQZxk83KtAcDyLhRLgdQaokCdVvwFi'"
   ]
  },
  {
   "cell_type": "code",
   "execution_count": 185,
   "metadata": {},
   "outputs": [],
   "source": [
    "from tweepy import OAuthHandler\n",
    "\n",
    "auth = OAuthHandler(consumer_key, consumer_secret)\n",
    "auth.set_access_token(access_token, access_secret)\n",
    "\n",
    "api = tweepy.API(auth)"
   ]
  },
  {
   "cell_type": "markdown",
   "metadata": {},
   "source": [
    "## 1. Annotating Tweets"
   ]
  },
  {
   "cell_type": "markdown",
   "metadata": {},
   "source": [
    "### 1.1 Open Coding\n",
    "\n",
    "Now that we have a corpus of tweets, what do we want to do with them? Turning a relatively vague notion into a well-defined research question is often a significant challenge, as examination of the data often reveals both shortcomings and unforeseen opportunities.\n",
    "\n",
    "In our case, we are interested in looking at tweets about depression, but we're not quite sure exactly *what* we are looking for. We have a vague notion that we might learn something interesting, but understanding exactly what that is, and what sort of analyses we might need, will require a bit more work.\n",
    "\n",
    "In situations such as this, we might look at some of the data to form some preliminary impressions of the content. Specifically, we can look at indidividual tweets, assigning them to one or more categories - known as *codes* - based on their content.  We can add categories as needed to capture important ideas that we might want to refer back to. This practice - known as *open coding* allows us to begin to make sense of unfamiliar data sets. \n",
    "\n",
    "This sounds much more complicated than it is. For now, let's read some tweets in from a file collected in October 2017 using the procedures discused in *part 1* (using the procedure defined above). We'll then use those tweets to get to work."
   ]
  },
  {
   "cell_type": "code",
   "execution_count": 186,
   "metadata": {},
   "outputs": [],
   "source": [
    "tweets =readTweets(\"tweet-corpus.json\")"
   ]
  },
  {
   "cell_type": "markdown",
   "metadata": {},
   "source": [
    "We will begin by taking a look at a subset of 100 tweets.  Keep in mind that *tweets* is a dictionary mapping id strings to information about tweets. Each entry in *tweets* is itself a dictionary, with 'count' corresponding to the number of times the tweet was sound, and 'tweet' corresponding to the tweet itself.  We're going to add some categories to that dictionary, but we need to start by getting a smaller set of tweets.\n",
    "\n",
    "To get this list, we'll sort the ids of the tweets and take the first 10 in the list. "
   ]
  },
  {
   "cell_type": "code",
   "execution_count": 187,
   "metadata": {},
   "outputs": [],
   "source": [
    "ids=list(tweets.keys())\n",
    "ids.sort()\n",
    "working=[]\n",
    "for i in range(100):\n",
    "    id = ids[i]\n",
    "    entry = tweets[id]\n",
    "    working.append(entry)"
   ]
  },
  {
   "cell_type": "markdown",
   "metadata": {},
   "source": [
    "*working* now has 100 tweets. Let's start with the first."
   ]
  },
  {
   "cell_type": "code",
   "execution_count": 188,
   "metadata": {},
   "outputs": [],
   "source": [
    "td = working[0]"
   ]
  },
  {
   "cell_type": "code",
   "execution_count": 189,
   "metadata": {},
   "outputs": [
    {
     "data": {
      "text/plain": [
       "'FlTNESS: RT DrugedPosts: \"Wyd after smoking this?\" https://t.co/OnLywTyJ0X'"
      ]
     },
     "execution_count": 189,
     "metadata": {},
     "output_type": "execute_result"
    }
   ],
   "source": [
    "td['tweet']['text']"
   ]
  },
  {
   "cell_type": "markdown",
   "metadata": {},
   "source": [
    "This tweet has several interesting charcteristics.\n",
    "1. it is a retweet\n",
    "2. It contains a link. \n",
    "\n",
    "We can model all of these points through relevant annotation. Specifically, we will add two new arrays to each tweet object. 'code' will contain a list of categorical annotations associated with the tweet."
   ]
  },
  {
   "cell_type": "code",
   "execution_count": 190,
   "metadata": {},
   "outputs": [],
   "source": [
    "td['code']=[]\n",
    "td['code'].append('LINK')\n",
    "td['code'].append(\"RETWEET\")"
   ]
  },
  {
   "cell_type": "markdown",
   "metadata": {},
   "source": [
    "We can confirm that this is a rewtweet by checking for the `retweeted_status` attribute"
   ]
  },
  {
   "cell_type": "code",
   "execution_count": 191,
   "metadata": {},
   "outputs": [
    {
     "data": {
      "text/plain": [
       "False"
      ]
     },
     "execution_count": 191,
     "metadata": {},
     "output_type": "execute_result"
    }
   ],
   "source": [
    "'retweeted_status' in td['tweet']"
   ]
  },
  {
   "cell_type": "markdown",
   "metadata": {},
   "source": [
    "Hmm. the attribute is not present. Perhaps the user copied the text and added 'RT' without actually retweeting? Something to keep our eyes on for other tweets."
   ]
  },
  {
   "cell_type": "markdown",
   "metadata": {},
   "source": [
    "let's look at the next tweet. "
   ]
  },
  {
   "cell_type": "code",
   "execution_count": 192,
   "metadata": {},
   "outputs": [
    {
     "data": {
      "text/plain": [
       "'RT DrugedPosts: \"Wyd after smoking this?\" https://t.co/PZ3YyYh8WB'"
      ]
     },
     "execution_count": 192,
     "metadata": {},
     "output_type": "execute_result"
    }
   ],
   "source": [
    "td = working[1]\n",
    "td['tweet']['text']"
   ]
  },
  {
   "cell_type": "markdown",
   "metadata": {},
   "source": [
    "Notice this is similar, but not identical, to the previous tweet. "
   ]
  },
  {
   "cell_type": "code",
   "execution_count": 193,
   "metadata": {},
   "outputs": [],
   "source": [
    "td['code']=[]\n",
    "td['code'].append('LINK')\n",
    "td['code'].append('RETWEET')"
   ]
  },
  {
   "cell_type": "code",
   "execution_count": 194,
   "metadata": {},
   "outputs": [
    {
     "data": {
      "text/plain": [
       "False"
      ]
     },
     "execution_count": 194,
     "metadata": {},
     "output_type": "execute_result"
    }
   ],
   "source": [
    "'retweeted_status' in td['tweet']"
   ]
  },
  {
   "cell_type": "markdown",
   "metadata": {},
   "source": [
    "ok.. moving on to the third tweet.."
   ]
  },
  {
   "cell_type": "code",
   "execution_count": 195,
   "metadata": {},
   "outputs": [
    {
     "data": {
      "text/plain": [
       "'RT @Anzers: #TheBetrayalPapers Video: Part II – In Plain Sight – A National Security Smoking Gun\\nhttps://t.co/rpObdW9GcG'"
      ]
     },
     "execution_count": 195,
     "metadata": {},
     "output_type": "execute_result"
    }
   ],
   "source": [
    "td = working[2]\n",
    "td['tweet']['text']"
   ]
  },
  {
   "cell_type": "markdown",
   "metadata": {},
   "source": [
    "This retweet includes a link, a hashtag reference, and a reference to a `Smoking gun`, suggesting that this is not really a tweet about tobacco, marijuana, or other smoking products. We'll label it `irrelevant`"
   ]
  },
  {
   "cell_type": "code",
   "execution_count": 196,
   "metadata": {},
   "outputs": [],
   "source": [
    "td['code']=[]\n",
    "td['code'].append('RETWEET')\n",
    "td['code'].append('LINK')\n",
    "td['code'].append('USERMENTION')\n",
    "td['code'].append('HASHTAG')\n",
    "td['code'].append('IRRELEVANT')"
   ]
  },
  {
   "cell_type": "code",
   "execution_count": 197,
   "metadata": {},
   "outputs": [
    {
     "data": {
      "text/plain": [
       "True"
      ]
     },
     "execution_count": 197,
     "metadata": {},
     "output_type": "execute_result"
    }
   ],
   "source": [
    "'retweeted_status' in td['tweet']"
   ]
  },
  {
   "cell_type": "markdown",
   "metadata": {},
   "source": [
    "next..."
   ]
  },
  {
   "cell_type": "code",
   "execution_count": 198,
   "metadata": {},
   "outputs": [
    {
     "data": {
      "text/plain": [
       "'RT @FootyMemes: This new anti-smoking ad is really powerful... https://t.co/pWHZDLIb7O'"
      ]
     },
     "execution_count": 198,
     "metadata": {},
     "output_type": "execute_result"
    }
   ],
   "source": [
    "td = working[3]\n",
    "td['tweet']['text']"
   ]
  },
  {
   "cell_type": "markdown",
   "metadata": {},
   "source": [
    "Here, we have have a retweet, a link, and something about anti-smoking"
   ]
  },
  {
   "cell_type": "code",
   "execution_count": 199,
   "metadata": {},
   "outputs": [],
   "source": [
    "td['code']=[]\n",
    "td['code'].append('RETWEET')\n",
    "td['code'].append('LINK')\n",
    "td['code'].append('ANTI-SMOKING')"
   ]
  },
  {
   "cell_type": "code",
   "execution_count": 200,
   "metadata": {},
   "outputs": [
    {
     "data": {
      "text/plain": [
       "True"
      ]
     },
     "execution_count": 200,
     "metadata": {},
     "output_type": "execute_result"
    }
   ],
   "source": [
    "'retweeted_status' in td['tweet']"
   ]
  },
  {
   "cell_type": "code",
   "execution_count": 201,
   "metadata": {},
   "outputs": [
    {
     "data": {
      "text/plain": [
       "'@ericschmidt @jwnichls Stop. You need to stop torturing me. No buddy nobody cares about \"smoking.\" Stop.'"
      ]
     },
     "execution_count": 201,
     "metadata": {},
     "output_type": "execute_result"
    }
   ],
   "source": [
    "td = working[4]\n",
    "td['tweet']['text']"
   ]
  },
  {
   "cell_type": "markdown",
   "metadata": {},
   "source": [
    "This retweet includes user mentions. It might or might not be relevant. "
   ]
  },
  {
   "cell_type": "code",
   "execution_count": 202,
   "metadata": {},
   "outputs": [],
   "source": [
    "td['code']=[]\n",
    "td['code'].append(\"USERMENTION\")\n",
    "td['code'].append(\"FRUSTRATION\")\n",
    "td['code'].append(\"POSSIBLYRELEVANT\")"
   ]
  },
  {
   "cell_type": "code",
   "execution_count": 203,
   "metadata": {},
   "outputs": [
    {
     "data": {
      "text/plain": [
       "'RT @FurnyFootball: Stop smoking 😂 https://t.co/bY1ZvJy63Z'"
      ]
     },
     "execution_count": 203,
     "metadata": {},
     "output_type": "execute_result"
    }
   ],
   "source": [
    "td = working[5]\n",
    "td['tweet']['text']"
   ]
  },
  {
   "cell_type": "markdown",
   "metadata": {},
   "source": [
    "A retweet with a user mention, and anti-smoking message, and a link"
   ]
  },
  {
   "cell_type": "code",
   "execution_count": 204,
   "metadata": {},
   "outputs": [],
   "source": [
    "td['code']=[]\n",
    "td['code'].append(\"RETWEET\")\n",
    "td['code'].append(\"USERMENTION\")\n",
    "td['code'].append(\"ANTI-SMOKING\")\n",
    "td['code'].append(\"LINK\")"
   ]
  },
  {
   "cell_type": "code",
   "execution_count": 205,
   "metadata": {},
   "outputs": [
    {
     "data": {
      "text/plain": [
       "'You ever wake up and wish you was still sleep? ... that’s me rn.'"
      ]
     },
     "execution_count": 205,
     "metadata": {},
     "output_type": "execute_result"
    }
   ],
   "source": [
    "td = working[6]\n",
    "td['tweet']['text']"
   ]
  },
  {
   "cell_type": "markdown",
   "metadata": {},
   "source": [
    "This tweet doesn't seem to be about smoking."
   ]
  },
  {
   "cell_type": "code",
   "execution_count": 206,
   "metadata": {},
   "outputs": [],
   "source": [
    "td['code']=[]\n",
    "td['code'].append(\"IRRELEVANT\")"
   ]
  },
  {
   "cell_type": "code",
   "execution_count": 207,
   "metadata": {},
   "outputs": [
    {
     "data": {
      "text/plain": [
       "'\"Resorted to...\". Hahahaha..!  Way to be strong and brave unaided...!  Hahahaha...!  https://t.co/Lnd9N3zBCY via @YahooNews'"
      ]
     },
     "execution_count": 207,
     "metadata": {},
     "output_type": "execute_result"
    }
   ],
   "source": [
    "td = working[7]\n",
    "td['tweet']['text']"
   ]
  },
  {
   "cell_type": "markdown",
   "metadata": {},
   "source": [
    "This tweet includes a user mention, and a link, but doesn't seem to be relevant to smoking"
   ]
  },
  {
   "cell_type": "code",
   "execution_count": 208,
   "metadata": {},
   "outputs": [],
   "source": [
    "td['code']=[]\n",
    "td['code'].append(\"USERMENTION\")\n",
    "td['code'].append(\"LINK\")\n",
    "td['code'].append(\"IRRELEVANT\")\n"
   ]
  },
  {
   "cell_type": "code",
   "execution_count": 209,
   "metadata": {},
   "outputs": [
    {
     "data": {
      "text/plain": [
       "'RT @chocoo_loco: I just want my friends to stop smoking weed😂 https://t.co/LWI2HVofAf'"
      ]
     },
     "execution_count": 209,
     "metadata": {},
     "output_type": "execute_result"
    }
   ],
   "source": [
    "td = working[8]\n",
    "td['tweet']['text']"
   ]
  },
  {
   "cell_type": "markdown",
   "metadata": {},
   "source": [
    "This is a retweet with a link, a user mention, and an expression of a desire that the user's friends top smoking marijuana."
   ]
  },
  {
   "cell_type": "code",
   "execution_count": 210,
   "metadata": {},
   "outputs": [],
   "source": [
    "td['code']=[]\n",
    "td['code'].append(\"RETWEET\")\n",
    "td['code'].append(\"USERMENTION\")\n",
    "td['code'].append(\"LINK\")\n",
    "td['code'].append(\"ANTI-SMOKING\")\n",
    "td['code'].append(\"MARIJUANA\")\n",
    "td['code'].append(\"FRIENDS\")\n",
    "td['code'].append(\"SENTIMENT\")"
   ]
  },
  {
   "cell_type": "markdown",
   "metadata": {},
   "source": [
    "and so it goes. You might have to code 100 or more tweets to get a good distribution. You'll work on this in a minute, but first, a suggestion. As you code, it might be hard to track which of the codes you've used. Let's write a routine to collect those codes. Printing this list on occassion will help you remeber what you've used and ensure that you don't miss opportunities to reuse code."
   ]
  },
  {
   "cell_type": "code",
   "execution_count": 211,
   "metadata": {},
   "outputs": [],
   "source": [
    "def getCodes(tweets):\n",
    "    codes =[] \n",
    "    for id,entry in tweets.items():\n",
    "        # for every tweet, look to see if we have any codes\n",
    "        if 'code' in entry:\n",
    "            # for each code\n",
    "            for code in entry['code']:\n",
    "            # look for it in the codeDictionary, creating a new list of codes if needed\n",
    "                if code not in codes:\n",
    "                    codes.append(code)\n",
    "    return codes"
   ]
  },
  {
   "cell_type": "code",
   "execution_count": 212,
   "metadata": {},
   "outputs": [
    {
     "data": {
      "text/plain": [
       "['RETWEET',\n",
       " 'USERMENTION',\n",
       " 'ANTI-SMOKING',\n",
       " 'LINK',\n",
       " 'MARIJUANA',\n",
       " 'FRIENDS',\n",
       " 'SENTIMENT',\n",
       " 'IRRELEVANT',\n",
       " 'FRUSTRATION',\n",
       " 'POSSIBLYRELEVANT',\n",
       " 'HASHTAG']"
      ]
     },
     "execution_count": 212,
     "metadata": {},
     "output_type": "execute_result"
    }
   ],
   "source": [
    "getCodes(tweets)"
   ]
  },
  {
   "cell_type": "markdown",
   "metadata": {},
   "source": [
    "****\n",
    "\n",
    "## Exercise 2.1: Code the Next 50 tweets in the set. \n",
    "Start with the tags used above, adding your own as needed.   Save your tweet set to a new file when you are done. "
   ]
  },
  {
   "cell_type": "markdown",
   "metadata": {},
   "source": [
    "*ANSWER FOLLOWS - cut below here*\n",
    "Following lines to be deleted when provided for student use"
   ]
  },
  {
   "cell_type": "code",
   "execution_count": 213,
   "metadata": {},
   "outputs": [
    {
     "data": {
      "text/plain": [
       "'No kidding... https://t.co/3Kg2HkfRsc'"
      ]
     },
     "execution_count": 213,
     "metadata": {},
     "output_type": "execute_result"
    }
   ],
   "source": [
    "td = working[9]\n",
    "td['tweet']['text']"
   ]
  },
  {
   "cell_type": "code",
   "execution_count": 214,
   "metadata": {},
   "outputs": [],
   "source": [
    "td['code']=[]\n",
    "td['code'].append(\"LINK\")\n",
    "td['code'].append(\"IRRELEVANT\")"
   ]
  },
  {
   "cell_type": "code",
   "execution_count": 215,
   "metadata": {},
   "outputs": [
    {
     "data": {
      "text/plain": [
       "'RT @xancaps: smoking by myself now\\n\\ni don’t need nobody else around'"
      ]
     },
     "execution_count": 215,
     "metadata": {},
     "output_type": "execute_result"
    }
   ],
   "source": [
    "td = working[10]\n",
    "td['tweet']['text']"
   ]
  },
  {
   "cell_type": "code",
   "execution_count": 216,
   "metadata": {},
   "outputs": [],
   "source": [
    "td['code']=[]\n",
    "td['code'].append(\"RETWEET\")\n",
    "td['code'].append(\"USERMENTION\")\n",
    "td['code'].append(\"HABITS\")"
   ]
  },
  {
   "cell_type": "code",
   "execution_count": 217,
   "metadata": {},
   "outputs": [
    {
     "data": {
      "text/plain": [
       "'RT @GiveMeInternet: Anti smoking ads should show the benefits of quitting instead of the harms of smoking.'"
      ]
     },
     "execution_count": 217,
     "metadata": {},
     "output_type": "execute_result"
    }
   ],
   "source": [
    "td = working[11]\n",
    "td['tweet']['text']"
   ]
  },
  {
   "cell_type": "code",
   "execution_count": 218,
   "metadata": {},
   "outputs": [],
   "source": [
    "td['code']=[]\n",
    "td['code'].append(\"RETWEET\")\n",
    "td['code'].append(\"USERMENTION\")\n",
    "td['code'].append(\"ANTI-SMOKING\")\n",
    "td['code'].append(\"QUITTING\")"
   ]
  },
  {
   "cell_type": "code",
   "execution_count": 219,
   "metadata": {},
   "outputs": [
    {
     "data": {
      "text/plain": [
       "'@Austin_Sosbee See I have recently started to dream again, Why again? Cause smoking alot of weed stops dreaming, I miss not dreaming lol'"
      ]
     },
     "execution_count": 219,
     "metadata": {},
     "output_type": "execute_result"
    }
   ],
   "source": [
    "td = working[12]\n",
    "td['tweet']['text']"
   ]
  },
  {
   "cell_type": "code",
   "execution_count": 220,
   "metadata": {},
   "outputs": [],
   "source": [
    "td['code']=[]\n",
    "td['code'].append(\"RETWEET\")\n",
    "td['code'].append(\"USERMENTION\")\n",
    "td['code'].append(\"MARIJUANA\")\n",
    "td['code'].append(\"BENEFITS\")"
   ]
  },
  {
   "cell_type": "code",
   "execution_count": 221,
   "metadata": {},
   "outputs": [
    {
     "data": {
      "text/plain": [
       "'RT @FootyMemes: This new anti-smoking ad is really powerful... https://t.co/pWHZDLIb7O'"
      ]
     },
     "execution_count": 221,
     "metadata": {},
     "output_type": "execute_result"
    }
   ],
   "source": [
    "td = working[13]\n",
    "td['tweet']['text']"
   ]
  },
  {
   "cell_type": "code",
   "execution_count": 222,
   "metadata": {},
   "outputs": [],
   "source": [
    "td['code']=[]\n",
    "td['code'].append(\"RETWEET\")\n",
    "td['code'].append(\"USERMENTION\")\n",
    "td['code'].append(\"LINK\")\n",
    "td['code'].append(\"ANTI-SMOKING\")"
   ]
  },
  {
   "cell_type": "code",
   "execution_count": 223,
   "metadata": {},
   "outputs": [
    {
     "data": {
      "text/plain": [
       "'RT @GiveMeInternet: Anti smoking ads should show the benefits of quitting instead of the harms of smoking.'"
      ]
     },
     "execution_count": 223,
     "metadata": {},
     "output_type": "execute_result"
    }
   ],
   "source": [
    "td = working[14]\n",
    "td['tweet']['text']"
   ]
  },
  {
   "cell_type": "code",
   "execution_count": 224,
   "metadata": {},
   "outputs": [],
   "source": [
    "td['code']=[]\n",
    "td['code'].append(\"RETWEET\")\n",
    "td['code'].append(\"USERMENTION\")\n",
    "td['code'].append(\"ANTI-SMOKING\")\n",
    "td['code'].append(\"QUITTING\")"
   ]
  },
  {
   "cell_type": "code",
   "execution_count": 225,
   "metadata": {},
   "outputs": [
    {
     "data": {
      "text/plain": [
       "\"Mngxitama and his nyaope smoking buddies were a no show today because the Guptas aren't targeted hahahaha\""
      ]
     },
     "execution_count": 225,
     "metadata": {},
     "output_type": "execute_result"
    }
   ],
   "source": [
    "td = working[15]\n",
    "td['tweet']['text']"
   ]
  },
  {
   "cell_type": "code",
   "execution_count": 226,
   "metadata": {},
   "outputs": [],
   "source": [
    "td['code']=[]\n",
    "td['code'].append(\"FRIENDS\")"
   ]
  },
  {
   "cell_type": "code",
   "execution_count": 227,
   "metadata": {},
   "outputs": [
    {
     "data": {
      "text/plain": [
       "'RT @_youngkingdave: Smoking #doinks with @WakaFlocka\\n#doinksquad https://t.co/zex6zRw4Xx'"
      ]
     },
     "execution_count": 227,
     "metadata": {},
     "output_type": "execute_result"
    }
   ],
   "source": [
    "td = working[16]\n",
    "td['tweet']['text']"
   ]
  },
  {
   "cell_type": "code",
   "execution_count": 228,
   "metadata": {},
   "outputs": [],
   "source": [
    "td['code']=[]\n",
    "td['code'].append(\"RETWEET\")\n",
    "td['code'].append(\"USERMENTION\")\n",
    "td['code'].append(\"LINK\")\n",
    "td['code'].append(\"MARIJUANA\")"
   ]
  },
  {
   "cell_type": "code",
   "execution_count": 229,
   "metadata": {},
   "outputs": [
    {
     "data": {
      "text/plain": [
       "'RT @OnlyWayIsShawtz: My boy stopped smoking weed the day he spent 30 minutes looking for his phone under the bed.. While using his phone fl…'"
      ]
     },
     "execution_count": 229,
     "metadata": {},
     "output_type": "execute_result"
    }
   ],
   "source": [
    "td = working[17]\n",
    "td['tweet']['text']"
   ]
  },
  {
   "cell_type": "code",
   "execution_count": 230,
   "metadata": {},
   "outputs": [],
   "source": [
    "td['code']=[]\n",
    "td['code'].append(\"RETWEET\")\n",
    "td['code'].append(\"USERMENTION\")\n",
    "td['code'].append(\"MARIJUANA\")\n",
    "td['code'].append(\"IMPACT\")"
   ]
  },
  {
   "cell_type": "code",
   "execution_count": 231,
   "metadata": {},
   "outputs": [
    {
     "data": {
      "text/plain": [
       "'RT @GiveMeInternet: Anti smoking ads should show the benefits of quitting instead of the harms of smoking.'"
      ]
     },
     "execution_count": 231,
     "metadata": {},
     "output_type": "execute_result"
    }
   ],
   "source": [
    "td = working[18]\n",
    "td['tweet']['text']"
   ]
  },
  {
   "cell_type": "code",
   "execution_count": 232,
   "metadata": {},
   "outputs": [],
   "source": [
    "td['code']=[]\n",
    "td['code'].append(\"RETWEET\")\n",
    "td['code'].append(\"USERMENTION\")\n",
    "td['code'].append(\"ANTI-SMOKING\")\n",
    "td['code'].append(\"QUITTING\")"
   ]
  },
  {
   "cell_type": "code",
   "execution_count": 233,
   "metadata": {},
   "outputs": [
    {
     "data": {
      "text/plain": [
       "\"i @KattyKayBBC 'Cannabis is a gateway 2 taking Heroin' were did u hear that pish? Joint smoking 1 day next injecting in2 souls of feet no-no\""
      ]
     },
     "execution_count": 233,
     "metadata": {},
     "output_type": "execute_result"
    }
   ],
   "source": [
    "td = working[19]\n",
    "td['tweet']['text']"
   ]
  },
  {
   "cell_type": "code",
   "execution_count": 234,
   "metadata": {},
   "outputs": [],
   "source": [
    "td['code']=[]\n",
    "td['code'].append(\"USERMENTION\")\n",
    "td['code'].append(\"MARIJUANA\")\n",
    "td['code'].append(\"OPIATES\")"
   ]
  },
  {
   "cell_type": "code",
   "execution_count": 235,
   "metadata": {},
   "outputs": [
    {
     "data": {
      "text/plain": [
       "\"https://t.co/qchtcveqkA is the world's 1st Smoking Model directory. Search for your favorite… https://t.co/21OlmjWv7Z\""
      ]
     },
     "execution_count": 235,
     "metadata": {},
     "output_type": "execute_result"
    }
   ],
   "source": [
    "td = working[20]\n",
    "td['tweet']['text']"
   ]
  },
  {
   "cell_type": "code",
   "execution_count": 236,
   "metadata": {},
   "outputs": [],
   "source": [
    "td['code']=[]\n",
    "td['code'].append(\"LINK\")\n",
    "td['code'].append(\"IRRELEVANT\")"
   ]
  },
  {
   "cell_type": "code",
   "execution_count": 237,
   "metadata": {},
   "outputs": [
    {
     "data": {
      "text/plain": [
       "'RT @_youngkingdave: Smoking #doinks with @WakaFlocka\\n#doinksquad https://t.co/zex6zRw4Xx'"
      ]
     },
     "execution_count": 237,
     "metadata": {},
     "output_type": "execute_result"
    }
   ],
   "source": [
    "td = working[21]\n",
    "td['tweet']['text']"
   ]
  },
  {
   "cell_type": "code",
   "execution_count": 238,
   "metadata": {},
   "outputs": [],
   "source": [
    "td['code']=[]\n",
    "td['code'].append(\"RETWEET\")\n",
    "td['code'].append(\"USERMENTION\")\n",
    "td['code'].append(\"LINK\")\n",
    "td['code'].append(\"MARIJUANA\")"
   ]
  },
  {
   "cell_type": "code",
   "execution_count": 239,
   "metadata": {},
   "outputs": [
    {
     "data": {
      "text/plain": [
       "False"
      ]
     },
     "execution_count": 239,
     "metadata": {},
     "output_type": "execute_result"
    }
   ],
   "source": [
    "working[21]['tweet']['id_str']==working[16]['tweet']['id_str']"
   ]
  },
  {
   "cell_type": "markdown",
   "metadata": {},
   "source": [
    "good. no repeat"
   ]
  },
  {
   "cell_type": "code",
   "execution_count": 240,
   "metadata": {},
   "outputs": [
    {
     "data": {
      "text/plain": [
       "'@LaurenSocha Make sure people wash who come in to close contact with her, no smoking near her or change smokey clot… https://t.co/iveJEh9sfT'"
      ]
     },
     "execution_count": 240,
     "metadata": {},
     "output_type": "execute_result"
    }
   ],
   "source": [
    "td = working[22]\n",
    "td['tweet']['text']"
   ]
  },
  {
   "cell_type": "code",
   "execution_count": 241,
   "metadata": {},
   "outputs": [],
   "source": [
    "td['code']=[]\n",
    "td['code'].append(\"USERMENTION\")\n",
    "td['code'].append(\"LINK\")\n",
    "td['code'].append(\"ADVICE\")"
   ]
  },
  {
   "cell_type": "code",
   "execution_count": 242,
   "metadata": {},
   "outputs": [
    {
     "data": {
      "text/plain": [
       "'RT @wifisfuneral: I love you always brother &amp; I’m proud how far you’ve gone I remember riding in your whips smoking ports plotting on this…'"
      ]
     },
     "execution_count": 242,
     "metadata": {},
     "output_type": "execute_result"
    }
   ],
   "source": [
    "td = working[23]\n",
    "td['tweet']['text']"
   ]
  },
  {
   "cell_type": "code",
   "execution_count": 243,
   "metadata": {},
   "outputs": [],
   "source": [
    "td['code']=[]\n",
    "td['code'].append('RETWEET')\n",
    "td['code'].append(\"USERMENTION\")\n",
    "td['code'].append(\"POSITIVEAFFECT\")"
   ]
  },
  {
   "cell_type": "code",
   "execution_count": 244,
   "metadata": {},
   "outputs": [
    {
     "data": {
      "text/plain": [
       "\"RT @The_AOP: Well done to everyone who's got this far! Find out how smoking can impact your eye health in our blog: https://t.co/wCxqBvJxdX…\""
      ]
     },
     "execution_count": 244,
     "metadata": {},
     "output_type": "execute_result"
    }
   ],
   "source": [
    "td = working[24]\n",
    "td['tweet']['text']"
   ]
  },
  {
   "cell_type": "code",
   "execution_count": 245,
   "metadata": {},
   "outputs": [],
   "source": [
    "td['code']=[]\n",
    "td['code'].append('RETWEET')\n",
    "td['code'].append(\"USERMENTION\")\n",
    "td['code'].append(\"LINK\")\n",
    "td['code'].append(\"INFORMATION\")\n",
    "td['code'].append(\"ANTI-SMOKING\")"
   ]
  },
  {
   "cell_type": "code",
   "execution_count": 246,
   "metadata": {},
   "outputs": [
    {
     "data": {
      "text/plain": [
       "'RT @DrugedPosts: \"Wyd after smoking this?\" https://t.co/n3eGNF4ywY'"
      ]
     },
     "execution_count": 246,
     "metadata": {},
     "output_type": "execute_result"
    }
   ],
   "source": [
    "td = working[25]\n",
    "td['tweet']['text']"
   ]
  },
  {
   "cell_type": "code",
   "execution_count": 247,
   "metadata": {},
   "outputs": [],
   "source": [
    "td['code']=[]\n",
    "td['code'].append('LINK')\n",
    "td['code'].append(\"RETWEET\")"
   ]
  },
  {
   "cell_type": "code",
   "execution_count": 248,
   "metadata": {},
   "outputs": [
    {
     "data": {
      "text/plain": [
       "'RT @_youngkingdave: Smoking #doinks with @WakaFlocka\\n#doinksquad https://t.co/zex6zRw4Xx'"
      ]
     },
     "execution_count": 248,
     "metadata": {},
     "output_type": "execute_result"
    }
   ],
   "source": [
    "td = working[26]\n",
    "td['tweet']['text']"
   ]
  },
  {
   "cell_type": "code",
   "execution_count": 249,
   "metadata": {},
   "outputs": [],
   "source": [
    "td['code']=[]\n",
    "td['code'].append(\"RETWEET\")\n",
    "td['code'].append(\"USERMENTION\")\n",
    "td['code'].append(\"LINK\")\n",
    "td['code'].append(\"MARIJUANA\")"
   ]
  },
  {
   "cell_type": "code",
   "execution_count": 250,
   "metadata": {},
   "outputs": [
    {
     "data": {
      "text/plain": [
       "'@FoodTrapper stop smoking cigarettes.'"
      ]
     },
     "execution_count": 250,
     "metadata": {},
     "output_type": "execute_result"
    }
   ],
   "source": [
    "td = working[27]\n",
    "td['tweet']['text']"
   ]
  },
  {
   "cell_type": "code",
   "execution_count": 251,
   "metadata": {},
   "outputs": [],
   "source": [
    "td['code']=[]\n",
    "td['code'].append(\"USERMENTION\")\n",
    "td['code'].append(\"ANTI-SMOKING\")"
   ]
  },
  {
   "cell_type": "code",
   "execution_count": 252,
   "metadata": {},
   "outputs": [
    {
     "data": {
      "text/plain": [
       "'Smoker? Learn how quitting cuts your #risk of #heartdisease in half: https://t.co/vRLhuXIF1w https://t.co/CbifCvSthc #livewell #2health'"
      ]
     },
     "execution_count": 252,
     "metadata": {},
     "output_type": "execute_result"
    }
   ],
   "source": [
    "td = working[28]\n",
    "td['tweet']['text']"
   ]
  },
  {
   "cell_type": "code",
   "execution_count": 253,
   "metadata": {},
   "outputs": [],
   "source": [
    "td['code']=[]\n",
    "td['code'].append('ANTI-SMOKING')\n",
    "td['code'].append('LINK')\n",
    "td['code'].append('ADVICE')"
   ]
  },
  {
   "cell_type": "code",
   "execution_count": 254,
   "metadata": {},
   "outputs": [
    {
     "data": {
      "text/plain": [
       "'RT @onmyworst: Not to sound like tana mongeau but I love smoking weed'"
      ]
     },
     "execution_count": 254,
     "metadata": {},
     "output_type": "execute_result"
    }
   ],
   "source": [
    "td = working[29]\n",
    "td['tweet']['text']"
   ]
  },
  {
   "cell_type": "code",
   "execution_count": 255,
   "metadata": {},
   "outputs": [],
   "source": [
    "td['code']=[]\n",
    "td['code'].append('RETWEET')\n",
    "td['code'].append('USERMENTION')\n",
    "td['code'].append('MARIJUANA')\n",
    "td['code'].append(\"POSITIVEAFFECT\")"
   ]
  },
  {
   "cell_type": "code",
   "execution_count": 256,
   "metadata": {},
   "outputs": [
    {
     "data": {
      "text/plain": [
       "'Max has been growing some odd vegetables and smoking them recently. I must investigate further.'"
      ]
     },
     "execution_count": 256,
     "metadata": {},
     "output_type": "execute_result"
    }
   ],
   "source": [
    "td = working[30]\n",
    "td['tweet']['text']"
   ]
  },
  {
   "cell_type": "code",
   "execution_count": 257,
   "metadata": {},
   "outputs": [],
   "source": [
    "td['code']=[]\n",
    "td['code'].append('VEGETABLES')"
   ]
  },
  {
   "cell_type": "code",
   "execution_count": 258,
   "metadata": {},
   "outputs": [
    {
     "data": {
      "text/plain": [
       "'@KBonimtetezi @WilliamsRuto We need to get urine sample coz what you are smoking??'"
      ]
     },
     "execution_count": 258,
     "metadata": {},
     "output_type": "execute_result"
    }
   ],
   "source": [
    "td = working[31]\n",
    "td['tweet']['text']"
   ]
  },
  {
   "cell_type": "code",
   "execution_count": 259,
   "metadata": {},
   "outputs": [],
   "source": [
    "td['code']=[]\n",
    "td['code'].append('USERMENTION')\n",
    "td['code'].append(\"DRUGTESTING\")"
   ]
  },
  {
   "cell_type": "code",
   "execution_count": 260,
   "metadata": {},
   "outputs": [
    {
     "data": {
      "text/plain": [
       "'Drinking a Petite Sour Raspberry by @CrookedStave @ Meat Smoking House 2 — https://t.co/jp3qqNwAgc #photo'"
      ]
     },
     "execution_count": 260,
     "metadata": {},
     "output_type": "execute_result"
    }
   ],
   "source": [
    "td = working[32]\n",
    "td['tweet']['text']"
   ]
  },
  {
   "cell_type": "code",
   "execution_count": 261,
   "metadata": {},
   "outputs": [],
   "source": [
    "td['code']=[]\n",
    "td['code'].append(\"LINK\")\n",
    "td['code'].append(\"IRRELEVANT\")"
   ]
  },
  {
   "cell_type": "code",
   "execution_count": 262,
   "metadata": {},
   "outputs": [
    {
     "data": {
      "text/plain": [
       "\"So high that I'm fading away ...\""
      ]
     },
     "execution_count": 262,
     "metadata": {},
     "output_type": "execute_result"
    }
   ],
   "source": [
    "td = working[33]\n",
    "td['tweet']['text']"
   ]
  },
  {
   "cell_type": "code",
   "execution_count": 263,
   "metadata": {},
   "outputs": [],
   "source": [
    "td['code']=[]\n",
    "td['code'].append(\"MARIJUANA\")"
   ]
  },
  {
   "cell_type": "code",
   "execution_count": 264,
   "metadata": {},
   "outputs": [
    {
     "data": {
      "text/plain": [
       "'RT @Bhuvan_Bam: @CarryMinati *Stresses out*\\n*Starts smoking* 😭😭😂'"
      ]
     },
     "execution_count": 264,
     "metadata": {},
     "output_type": "execute_result"
    }
   ],
   "source": [
    "td = working[34]\n",
    "td['tweet']['text']"
   ]
  },
  {
   "cell_type": "code",
   "execution_count": 265,
   "metadata": {},
   "outputs": [],
   "source": [
    "td['code']=[]\n",
    "td['code'].append(\"USERMENTION\")\n",
    "td['code'].append(\"POSITIVEAFFECT\")"
   ]
  },
  {
   "cell_type": "code",
   "execution_count": 266,
   "metadata": {},
   "outputs": [
    {
     "data": {
      "text/plain": [
       "\"RT @foxnewspolitics: 'Smoking gun'email shows Obama DOJ blocked conservative groups from settlement funds,GOP lawmaker says- @AlexPappas\\nht…\""
      ]
     },
     "execution_count": 266,
     "metadata": {},
     "output_type": "execute_result"
    }
   ],
   "source": [
    "td = working[35]\n",
    "td['tweet']['text']"
   ]
  },
  {
   "cell_type": "code",
   "execution_count": 267,
   "metadata": {},
   "outputs": [],
   "source": [
    "td['code']=[]\n",
    "td['code'].append(\"RETWEET\")\n",
    "td['code'].append(\"USERMENTION\")\n",
    "td['code'].append(\"IRRELEVANT\")"
   ]
  },
  {
   "cell_type": "code",
   "execution_count": 268,
   "metadata": {},
   "outputs": [
    {
     "data": {
      "text/plain": [
       "'RT @DrugedPosts: \"Wyd after smoking this?\" https://t.co/n9g9TkPqDM'"
      ]
     },
     "execution_count": 268,
     "metadata": {},
     "output_type": "execute_result"
    }
   ],
   "source": [
    "td = working[36]\n",
    "td['tweet']['text']"
   ]
  },
  {
   "cell_type": "code",
   "execution_count": 269,
   "metadata": {},
   "outputs": [],
   "source": [
    "td['code']=[]\n",
    "td['code'].append(\"RETWEET\")\n",
    "td['code'].append(\"USERMENTION\")\n",
    "td['code'].append(\"LINK\")"
   ]
  },
  {
   "cell_type": "code",
   "execution_count": 270,
   "metadata": {},
   "outputs": [
    {
     "data": {
      "text/plain": [
       "'RT @skwawkbox: This is huge if people understand its significance...\\nhttps://t.co/IcEi2Gh1fh'"
      ]
     },
     "execution_count": 270,
     "metadata": {},
     "output_type": "execute_result"
    }
   ],
   "source": [
    "td = working[37]\n",
    "td['tweet']['text']"
   ]
  },
  {
   "cell_type": "code",
   "execution_count": 271,
   "metadata": {},
   "outputs": [],
   "source": [
    "td['code']=[]\n",
    "td['code'].append(\"RETWEET\")\n",
    "td['code'].append(\"USERMENTION\")\n",
    "td['code'].append(\"LINK\")\n",
    "td['code'].append(\"IRRELEVANT\")"
   ]
  },
  {
   "cell_type": "code",
   "execution_count": 272,
   "metadata": {},
   "outputs": [
    {
     "data": {
      "text/plain": [
       "\"RT @Sesamee_giraffe: Sana's introduction is a perfect example of smoking through your presentation 😂\""
      ]
     },
     "execution_count": 272,
     "metadata": {},
     "output_type": "execute_result"
    }
   ],
   "source": [
    "td = working[38]\n",
    "td['tweet']['text']"
   ]
  },
  {
   "cell_type": "code",
   "execution_count": 273,
   "metadata": {},
   "outputs": [],
   "source": [
    "td['code']=[]\n",
    "td['code'].append(\"RETWEET\")\n",
    "td['code'].append(\"USERMENTION\")\n",
    "td['code'].append(\"IRRELEVANT\")"
   ]
  },
  {
   "cell_type": "code",
   "execution_count": 274,
   "metadata": {},
   "outputs": [
    {
     "data": {
      "text/plain": [
       "'RT @Bhuvan_Bam: @CarryMinati *Stresses out*\\n*Starts smoking* 😭😭😂'"
      ]
     },
     "execution_count": 274,
     "metadata": {},
     "output_type": "execute_result"
    }
   ],
   "source": [
    "td = working[39]\n",
    "td['tweet']['text']"
   ]
  },
  {
   "cell_type": "code",
   "execution_count": 275,
   "metadata": {},
   "outputs": [],
   "source": [
    "td['code']=[]\n",
    "td['code'].append(\"USERMENTION\")\n",
    "td['code'].append(\"POSITIVEAFFECT\")"
   ]
  },
  {
   "cell_type": "code",
   "execution_count": 276,
   "metadata": {},
   "outputs": [
    {
     "data": {
      "text/plain": [
       "'RT @phil30mccrackin: Smoking hot Funtime babes @ashlyandersonxx &amp; @missjojokiss https://t.co/CExJIai8ZW'"
      ]
     },
     "execution_count": 276,
     "metadata": {},
     "output_type": "execute_result"
    }
   ],
   "source": [
    "td = working[40]\n",
    "td['tweet']['text']"
   ]
  },
  {
   "cell_type": "code",
   "execution_count": 277,
   "metadata": {},
   "outputs": [],
   "source": [
    "td['code']=[]\n",
    "td['code'].append(\"RETWEET\")\n",
    "td['code'].append(\"USERMENTION\")\n",
    "td['code'].append(\"LINK\")\n",
    "td['code'].append(\"IRRELEVANT\")"
   ]
  },
  {
   "cell_type": "code",
   "execution_count": 278,
   "metadata": {},
   "outputs": [
    {
     "data": {
      "text/plain": [
       "'RT @WeedFeed: Differences Between Eating And Smoking Weed https://t.co/8FK10ZbWqx https://t.co/l6212vXpA7'"
      ]
     },
     "execution_count": 278,
     "metadata": {},
     "output_type": "execute_result"
    }
   ],
   "source": [
    "td = working[41]\n",
    "td['tweet']['text']"
   ]
  },
  {
   "cell_type": "code",
   "execution_count": 279,
   "metadata": {},
   "outputs": [],
   "source": [
    "td['code']=[]\n",
    "td['code'].append(\"RETWEET\")\n",
    "td['code'].append(\"USERMENTION\")\n",
    "td['code'].append(\"LINK\")\n",
    "td['code'].append('MARIJUANA')"
   ]
  },
  {
   "cell_type": "code",
   "execution_count": 280,
   "metadata": {},
   "outputs": [
    {
     "data": {
      "text/plain": [
       "'@danielmarven He must stop smoking 😂😂😂 https://t.co/8tzUrn9Jem'"
      ]
     },
     "execution_count": 280,
     "metadata": {},
     "output_type": "execute_result"
    }
   ],
   "source": [
    "td = working[42]\n",
    "td['tweet']['text']"
   ]
  },
  {
   "cell_type": "code",
   "execution_count": 281,
   "metadata": {},
   "outputs": [],
   "source": [
    "td['code']=[]\n",
    "td['code'].append(\"RETWEET\")\n",
    "td['code'].append(\"LINK\")\n",
    "td['code'].append(\"ANTI-SMOKING\")"
   ]
  },
  {
   "cell_type": "code",
   "execution_count": 282,
   "metadata": {},
   "outputs": [
    {
     "data": {
      "text/plain": [
       "'RT @GiveMeInternet: Anti smoking ads should show the benefits of quitting instead of the harms of smoking.'"
      ]
     },
     "execution_count": 282,
     "metadata": {},
     "output_type": "execute_result"
    }
   ],
   "source": [
    "td = working[43]\n",
    "td['tweet']['text']"
   ]
  },
  {
   "cell_type": "code",
   "execution_count": 283,
   "metadata": {},
   "outputs": [],
   "source": [
    "td['code']=[]\n",
    "td['code'].append(\"RETWEET\")\n",
    "td['code'].append(\"USERMENTION\")\n",
    "td['code'].append(\"ANTI-SMOKING\")\n",
    "td['code'].append(\"QUITTING\")"
   ]
  },
  {
   "cell_type": "code",
   "execution_count": 284,
   "metadata": {},
   "outputs": [
    {
     "data": {
      "text/plain": [
       "'RT @DrugedPosts: \"Wyd after smoking this?\" https://t.co/n9g9TkPqDM'"
      ]
     },
     "execution_count": 284,
     "metadata": {},
     "output_type": "execute_result"
    }
   ],
   "source": [
    "td = working[44]\n",
    "td['tweet']['text']"
   ]
  },
  {
   "cell_type": "code",
   "execution_count": 285,
   "metadata": {},
   "outputs": [],
   "source": [
    "td['code']=[]\n",
    "td['code'].append('LINK')\n",
    "td['code'].append(\"RETWEET\")"
   ]
  },
  {
   "cell_type": "code",
   "execution_count": 286,
   "metadata": {},
   "outputs": [
    {
     "data": {
      "text/plain": [
       "'“What Were They Smoking?”: On Liturgical Art from the 1970s https://t.co/dOgDAUDoVr https://t.co/CcQEkOrIW1'"
      ]
     },
     "execution_count": 286,
     "metadata": {},
     "output_type": "execute_result"
    }
   ],
   "source": [
    "td = working[45]\n",
    "td['tweet']['text']"
   ]
  },
  {
   "cell_type": "code",
   "execution_count": 287,
   "metadata": {},
   "outputs": [],
   "source": [
    "td['code']=[]\n",
    "td['code'].append('LINK')"
   ]
  },
  {
   "cell_type": "code",
   "execution_count": 288,
   "metadata": {},
   "outputs": [
    {
     "data": {
      "text/plain": [
       "\"RT @Prime_Politics: Fmr. House Speaker Boehner Describes How Obama Struggled With Smoking and Was 'Scared to Death' of Michelle\\n\\n#P2 https:…\""
      ]
     },
     "execution_count": 288,
     "metadata": {},
     "output_type": "execute_result"
    }
   ],
   "source": [
    "td = working[46]\n",
    "td['tweet']['text']"
   ]
  },
  {
   "cell_type": "code",
   "execution_count": 289,
   "metadata": {},
   "outputs": [],
   "source": [
    "td['code']=[]\n",
    "td['code'].append('RETWEET')\n",
    "td['code'].append('USERMENTION')\n",
    "td['code'].append('LINK')"
   ]
  },
  {
   "cell_type": "code",
   "execution_count": 290,
   "metadata": {},
   "outputs": [
    {
     "data": {
      "text/plain": [
       "'RT @GiveMeInternet: Anti smoking ads should show the benefits of quitting instead of the harms of smoking.'"
      ]
     },
     "execution_count": 290,
     "metadata": {},
     "output_type": "execute_result"
    }
   ],
   "source": [
    "td = working[47]\n",
    "td['tweet']['text']"
   ]
  },
  {
   "cell_type": "code",
   "execution_count": 291,
   "metadata": {},
   "outputs": [],
   "source": [
    "td['code']=[]\n",
    "td['code'].append(\"RETWEET\")\n",
    "td['code'].append(\"USERMENTION\")\n",
    "td['code'].append(\"ANTI-SMOKING\")\n",
    "td['code'].append(\"QUITTING\")"
   ]
  },
  {
   "cell_type": "code",
   "execution_count": 292,
   "metadata": {},
   "outputs": [
    {
     "data": {
      "text/plain": [
       "'RT DrugedPosts: \"Wyd after smoking this?\" https://t.co/85w6elISAo'"
      ]
     },
     "execution_count": 292,
     "metadata": {},
     "output_type": "execute_result"
    }
   ],
   "source": [
    "td = working[48]\n",
    "td['tweet']['text']"
   ]
  },
  {
   "cell_type": "code",
   "execution_count": 293,
   "metadata": {},
   "outputs": [],
   "source": [
    "td['code']=[]\n",
    "td['code'].append('LINK')\n",
    "td['code'].append(\"RETWEET\")"
   ]
  },
  {
   "cell_type": "code",
   "execution_count": 294,
   "metadata": {},
   "outputs": [
    {
     "data": {
      "text/plain": [
       "'RT @pyrocajun: One of my friends in Al Udeid took this photo while out smoking a cigarette, and it is goddamn amazing. https://t.co/aGNl7aT…'"
      ]
     },
     "execution_count": 294,
     "metadata": {},
     "output_type": "execute_result"
    }
   ],
   "source": [
    "td = working[49]\n",
    "td['tweet']['text']"
   ]
  },
  {
   "cell_type": "code",
   "execution_count": 295,
   "metadata": {},
   "outputs": [],
   "source": [
    "td['code']=[]\n",
    "td['code'].append('LINK')\n",
    "td['code'].append(\"RETWEET\")\n",
    "td['code'].append(\"USERMENTION\")\n",
    "td['code'].append(\"TOBACCO\")"
   ]
  },
  {
   "cell_type": "code",
   "execution_count": 296,
   "metadata": {},
   "outputs": [
    {
     "data": {
      "text/plain": [
       "'Sitting is the smoking of our generation https://t.co/OEOTt0jkSK'"
      ]
     },
     "execution_count": 296,
     "metadata": {},
     "output_type": "execute_result"
    }
   ],
   "source": [
    "td = working[50]\n",
    "td['tweet']['text']"
   ]
  },
  {
   "cell_type": "code",
   "execution_count": 297,
   "metadata": {},
   "outputs": [],
   "source": [
    "td['code']=[]\n",
    "td['code'].append('LINK')\n",
    "td['code'].append('ADVICE')"
   ]
  },
  {
   "cell_type": "code",
   "execution_count": 298,
   "metadata": {},
   "outputs": [
    {
     "data": {
      "text/plain": [
       "'RT @NLMblog: “What Were They Smoking?”: On Liturgical Art from the 1970s https://t.co/dOgDAUDoVr https://t.co/CcQEkOrIW1'"
      ]
     },
     "execution_count": 298,
     "metadata": {},
     "output_type": "execute_result"
    }
   ],
   "source": [
    "td = working[51]\n",
    "td['tweet']['text']"
   ]
  },
  {
   "cell_type": "code",
   "execution_count": 299,
   "metadata": {},
   "outputs": [],
   "source": [
    "td['code']=[]\n",
    "td['code'].append('LINK')"
   ]
  },
  {
   "cell_type": "code",
   "execution_count": 300,
   "metadata": {},
   "outputs": [
    {
     "data": {
      "text/plain": [
       "\"Who else can share the video of their life's 1st puff of a cigarette and their parents are still proud of it. 😎… https://t.co/plfYK4AnHt\""
      ]
     },
     "execution_count": 300,
     "metadata": {},
     "output_type": "execute_result"
    }
   ],
   "source": [
    "td = working[52]\n",
    "td['tweet']['text']"
   ]
  },
  {
   "cell_type": "code",
   "execution_count": 301,
   "metadata": {},
   "outputs": [],
   "source": [
    "td['code']=[]\n",
    "td['code'].append('LINK')\n",
    "td['code'].append('TOBACCO')"
   ]
  },
  {
   "cell_type": "code",
   "execution_count": 302,
   "metadata": {},
   "outputs": [
    {
     "data": {
      "text/plain": [
       "'hot fuck jerkoff instruction hentai videos smoking porn'"
      ]
     },
     "execution_count": 302,
     "metadata": {},
     "output_type": "execute_result"
    }
   ],
   "source": [
    "td = working[53]\n",
    "td['tweet']['text']"
   ]
  },
  {
   "cell_type": "code",
   "execution_count": 303,
   "metadata": {},
   "outputs": [],
   "source": [
    "td['code']=[]\n",
    "td['code'].append('IRRELEVANT')"
   ]
  },
  {
   "cell_type": "code",
   "execution_count": 304,
   "metadata": {},
   "outputs": [
    {
     "data": {
      "text/plain": [
       "'RT @cjsnowdon: Postcard from a country that is losing its mind. https://t.co/bbbwcW25DU'"
      ]
     },
     "execution_count": 304,
     "metadata": {},
     "output_type": "execute_result"
    }
   ],
   "source": [
    "td = working[54]\n",
    "td['tweet']['text']"
   ]
  },
  {
   "cell_type": "code",
   "execution_count": 305,
   "metadata": {},
   "outputs": [],
   "source": [
    "td['code']=[]\n",
    "td['code'].append('LINK')\n",
    "td['code'].append(\"RETWEET\")\n",
    "td['code'].append(\"USERMENTION\")\n",
    "td['code'].append('IRRELEVANT')"
   ]
  },
  {
   "cell_type": "code",
   "execution_count": 306,
   "metadata": {},
   "outputs": [
    {
     "data": {
      "text/plain": [
       "'RT @MajorPoonia: RG is the next PM of “INDEPENDENT” India🤔?\\nr we Gulam🤔?\\nSalman Bhai,1 thing is for sure- whatever stuff U r smoking is of…'"
      ]
     },
     "execution_count": 306,
     "metadata": {},
     "output_type": "execute_result"
    }
   ],
   "source": [
    "td = working[55]\n",
    "td['tweet']['text']"
   ]
  },
  {
   "cell_type": "code",
   "execution_count": 307,
   "metadata": {},
   "outputs": [],
   "source": [
    "td['code']=[]\n",
    "td['code'].append('LINK')\n",
    "td['code'].append(\"RETWEET\")\n",
    "td['code'].append(\"USERMENTION\")\n",
    "td['code'].append('IRRELEVANT')"
   ]
  },
  {
   "cell_type": "code",
   "execution_count": 308,
   "metadata": {},
   "outputs": [
    {
     "data": {
      "text/plain": [
       "'@BabeHeavenTV @preeti_young @BabestationTV @UKBabeChannels @RampantTV @tvbabesahoy @the_real_winsaw @murphdogg11… https://t.co/4ZtftYdDqM'"
      ]
     },
     "execution_count": 308,
     "metadata": {},
     "output_type": "execute_result"
    }
   ],
   "source": [
    "td = working[56]\n",
    "td['tweet']['text']"
   ]
  },
  {
   "cell_type": "code",
   "execution_count": 309,
   "metadata": {},
   "outputs": [],
   "source": [
    "td['code']=[]\n",
    "td['code'].append('LINK')\n",
    "td['code'].append(\"USERMENTION\")\n",
    "td['code'].append('IRRELEVANT')"
   ]
  },
  {
   "cell_type": "code",
   "execution_count": 310,
   "metadata": {},
   "outputs": [
    {
     "data": {
      "text/plain": [
       "'RT @onmyworst: Not to sound like tana mongeau but I love smoking weed'"
      ]
     },
     "execution_count": 310,
     "metadata": {},
     "output_type": "execute_result"
    }
   ],
   "source": [
    "td = working[57]\n",
    "td['tweet']['text']"
   ]
  },
  {
   "cell_type": "code",
   "execution_count": 311,
   "metadata": {},
   "outputs": [],
   "source": [
    "td['code']=[]\n",
    "td['code'].append('RETWEET')\n",
    "td['code'].append(\"USERMENTION\")\n",
    "td['code'].append('IRRELEVANT')\n",
    "td['code'].append('MARIJUANA')\n",
    "td['code'].append('POSITIVEAFFECT')"
   ]
  },
  {
   "cell_type": "code",
   "execution_count": 312,
   "metadata": {},
   "outputs": [
    {
     "data": {
      "text/plain": [
       "'RT @_youngkingdave: Smoking #doinks with @WakaFlocka\\n#doinksquad https://t.co/zex6zRw4Xx'"
      ]
     },
     "execution_count": 312,
     "metadata": {},
     "output_type": "execute_result"
    }
   ],
   "source": [
    "td = working[58]\n",
    "td['tweet']['text']"
   ]
  },
  {
   "cell_type": "code",
   "execution_count": 313,
   "metadata": {},
   "outputs": [],
   "source": [
    "td['code']=[]\n",
    "td['code'].append(\"RETWEET\")\n",
    "td['code'].append(\"USERMENTION\")\n",
    "td['code'].append(\"LINK\")\n",
    "td['code'].append(\"MARIJUANA\")"
   ]
  },
  {
   "cell_type": "code",
   "execution_count": 314,
   "metadata": {},
   "outputs": [
    {
     "data": {
      "text/plain": [
       "'RT @naijagym: Stop smoking at home. It makes ur children more prone to ear infections, pneumonia, bronchitis, &amp; coughs. https://t.co/CGkMD9…'"
      ]
     },
     "execution_count": 314,
     "metadata": {},
     "output_type": "execute_result"
    }
   ],
   "source": [
    "td = working[59]\n",
    "td['tweet']['text']"
   ]
  },
  {
   "cell_type": "code",
   "execution_count": 315,
   "metadata": {},
   "outputs": [],
   "source": [
    "td['code']=[]\n",
    "td['code'].append(\"RETWEET\")\n",
    "td['code'].append(\"USERMENTION\")\n",
    "td['code'].append(\"LINK\")\n",
    "td['code'].append(\"ADVICE\")\n",
    "td['code'].append(\"ANTI-SMOKING\")"
   ]
  },
  {
   "cell_type": "code",
   "execution_count": 316,
   "metadata": {},
   "outputs": [
    {
     "data": {
      "text/plain": [
       "'RT @wydafters: \"Wyd after smoking this?\" https://t.co/jjE1aF4NhB'"
      ]
     },
     "execution_count": 316,
     "metadata": {},
     "output_type": "execute_result"
    }
   ],
   "source": [
    "td = working[60]\n",
    "td['tweet']['text']"
   ]
  },
  {
   "cell_type": "code",
   "execution_count": 317,
   "metadata": {},
   "outputs": [],
   "source": [
    "td['code']=[]\n",
    "td['code'].append('LINK')\n",
    "td['code'].append('RETWEET')"
   ]
  },
  {
   "cell_type": "code",
   "execution_count": 318,
   "metadata": {},
   "outputs": [
    {
     "data": {
      "text/plain": [
       "'FlTNESS: RT DrugedPosts: \"Wyd after smoking this?\" https://t.co/hFQcFqtaHr'"
      ]
     },
     "execution_count": 318,
     "metadata": {},
     "output_type": "execute_result"
    }
   ],
   "source": [
    "td = working[61]\n",
    "td['tweet']['text']"
   ]
  },
  {
   "cell_type": "code",
   "execution_count": 319,
   "metadata": {},
   "outputs": [],
   "source": [
    "td['code']=[]\n",
    "td['code'].append('LINK')\n",
    "td['code'].append('RETWEET')"
   ]
  },
  {
   "cell_type": "code",
   "execution_count": 320,
   "metadata": {},
   "outputs": [
    {
     "data": {
      "text/plain": [
       "['LINK',\n",
       " 'TOBACCO',\n",
       " 'RETWEET',\n",
       " 'USERMENTION',\n",
       " 'ANTI-SMOKING',\n",
       " 'QUITTING',\n",
       " 'IRRELEVANT',\n",
       " 'ADVICE',\n",
       " 'VEGETABLES',\n",
       " 'MARIJUANA',\n",
       " 'FRIENDS',\n",
       " 'SENTIMENT',\n",
       " 'POSITIVEAFFECT',\n",
       " 'HABITS',\n",
       " 'BENEFITS',\n",
       " 'IMPACT',\n",
       " 'FRUSTRATION',\n",
       " 'POSSIBLYRELEVANT',\n",
       " 'DRUGTESTING',\n",
       " 'INFORMATION',\n",
       " 'OPIATES',\n",
       " 'HASHTAG']"
      ]
     },
     "execution_count": 320,
     "metadata": {},
     "output_type": "execute_result"
    }
   ],
   "source": [
    "getCodes(tweets)"
   ]
  },
  {
   "cell_type": "code",
   "execution_count": 321,
   "metadata": {},
   "outputs": [
    {
     "data": {
      "text/plain": [
       "'RT @Joshuel1209: So ive decided to try to quit smoking.. \\nLol \\nLets see how long it takes😂'"
      ]
     },
     "execution_count": 321,
     "metadata": {},
     "output_type": "execute_result"
    }
   ],
   "source": [
    "td = working[62]\n",
    "td['tweet']['text']"
   ]
  },
  {
   "cell_type": "code",
   "execution_count": 322,
   "metadata": {},
   "outputs": [],
   "source": [
    "td['code']=[]\n",
    "td['code'].append(\"RETWEET\")\n",
    "td['code'].append(\"USERMENTION\")\n",
    "td['code'].append(\"TOBACCO\")\n",
    "td['code'].append(\"QUITTING\")"
   ]
  },
  {
   "cell_type": "code",
   "execution_count": 323,
   "metadata": {},
   "outputs": [
    {
     "data": {
      "text/plain": [
       "'RT @eBookExtremist: Conservative mindset: Censor the word \"ass\" on the radio in a song about smoking weed, cooking and selling crack, prost…'"
      ]
     },
     "execution_count": 323,
     "metadata": {},
     "output_type": "execute_result"
    }
   ],
   "source": [
    "td = working[63]\n",
    "td['tweet']['text']"
   ]
  },
  {
   "cell_type": "code",
   "execution_count": 324,
   "metadata": {},
   "outputs": [],
   "source": [
    "td['code']=[]\n",
    "td['code'].append(\"RETWEET\")\n",
    "td['code'].append(\"USERMENTION\")\n",
    "td['code'].append(\"MARIJUANA\")"
   ]
  },
  {
   "cell_type": "code",
   "execution_count": 325,
   "metadata": {},
   "outputs": [
    {
     "data": {
      "text/plain": [
       "'RT @vpybur: I hate smoking w people who are so paranoid about getting caught'"
      ]
     },
     "execution_count": 325,
     "metadata": {},
     "output_type": "execute_result"
    }
   ],
   "source": [
    "td = working[64]\n",
    "td['tweet']['text']"
   ]
  },
  {
   "cell_type": "code",
   "execution_count": 326,
   "metadata": {},
   "outputs": [],
   "source": [
    "td['code']=[]\n",
    "td['code'].append(\"RETWEET\")\n",
    "td['code'].append(\"USERMENTION\")\n",
    "td['code'].append(\"MARIJUANA\")"
   ]
  },
  {
   "cell_type": "code",
   "execution_count": 327,
   "metadata": {},
   "outputs": [
    {
     "data": {
      "text/plain": [
       "'RT @bkeane3030: smoking big doinks out in amish  https://t.co/En14YMDMI6'"
      ]
     },
     "execution_count": 327,
     "metadata": {},
     "output_type": "execute_result"
    }
   ],
   "source": [
    "td = working[65]\n",
    "td['tweet']['text']"
   ]
  },
  {
   "cell_type": "code",
   "execution_count": 328,
   "metadata": {},
   "outputs": [],
   "source": [
    "td['code']=[]\n",
    "td['code'].append(\"RETWEET\")\n",
    "td['code'].append(\"USERMENTION\")\n",
    "td['code'].append(\"LINK\")\n",
    "td['code'].append(\"MARIJUANA\")"
   ]
  },
  {
   "cell_type": "code",
   "execution_count": 329,
   "metadata": {},
   "outputs": [
    {
     "data": {
      "text/plain": [
       "'RT @Scaler17: The latest Acamprosate Made Me Quit Smoking Daily! https://t.co/Segx1Ry9uJ Thanks to @DoctorNazarian @BrownlowPrinces @EcigCl…'"
      ]
     },
     "execution_count": 329,
     "metadata": {},
     "output_type": "execute_result"
    }
   ],
   "source": [
    "td = working[66]\n",
    "td['tweet']['text']"
   ]
  },
  {
   "cell_type": "code",
   "execution_count": 330,
   "metadata": {},
   "outputs": [],
   "source": [
    "td['code']=[]\n",
    "td['code'].append(\"RETWEET\")\n",
    "td['code'].append(\"USERMENTION\")\n",
    "td['code'].append(\"LINK\")\n",
    "td['code'].append(\"QUITTING\")\n",
    "td['code'].append(\"ADVICE\")\n",
    "td['code'].append(\"TOBACCO\")"
   ]
  },
  {
   "cell_type": "code",
   "execution_count": 331,
   "metadata": {},
   "outputs": [
    {
     "data": {
      "text/plain": [
       "'RT @kitz007: #Irony It happens only in #India 😂😂 #Smoking ... #NoSmoking \\n\\nCaptions pls :D https://t.co/O39sdwVcRM'"
      ]
     },
     "execution_count": 331,
     "metadata": {},
     "output_type": "execute_result"
    }
   ],
   "source": [
    "td = working[67]\n",
    "td['tweet']['text']"
   ]
  },
  {
   "cell_type": "code",
   "execution_count": 332,
   "metadata": {},
   "outputs": [],
   "source": [
    "td['code']=[]\n",
    "td['code'].append(\"RETWEET\")\n",
    "td['code'].append(\"USERMENTION\")\n",
    "td['code'].append(\"LINK\")\n",
    "td['code'].append(\"ANTI-SMOKING\")"
   ]
  },
  {
   "cell_type": "code",
   "execution_count": 333,
   "metadata": {},
   "outputs": [
    {
     "data": {
      "text/plain": [
       "'RT @Scaler17: https://t.co/K8TDlJXdSD … …   Link to my ad on how I quit smoking with Acamprosate second article down  Oct. 26 / 27 /28 /29,…'"
      ]
     },
     "execution_count": 333,
     "metadata": {},
     "output_type": "execute_result"
    }
   ],
   "source": [
    "td = working[68]\n",
    "td['tweet']['text']"
   ]
  },
  {
   "cell_type": "code",
   "execution_count": 334,
   "metadata": {},
   "outputs": [],
   "source": [
    "td['code']=[]\n",
    "td['code'].append(\"RETWEET\")\n",
    "td['code'].append(\"USERMENTION\")\n",
    "td['code'].append(\"LINK\")\n",
    "td['code'].append(\"QUITTING\")\n",
    "td['code'].append(\"ADVICE\")\n",
    "td['code'].append(\"TOBACCO\")"
   ]
  },
  {
   "cell_type": "code",
   "execution_count": 335,
   "metadata": {},
   "outputs": [
    {
     "data": {
      "text/plain": [
       "'RT @FootyMemes: This new anti-smoking ad is really powerful... https://t.co/pWHZDLIb7O'"
      ]
     },
     "execution_count": 335,
     "metadata": {},
     "output_type": "execute_result"
    }
   ],
   "source": [
    "td = working[69]\n",
    "td['tweet']['text']"
   ]
  },
  {
   "cell_type": "code",
   "execution_count": 336,
   "metadata": {},
   "outputs": [],
   "source": [
    "td['code']=[]\n",
    "td['code'].append(\"RETWEET\")\n",
    "td['code'].append(\"USERMENTION\")\n",
    "td['code'].append(\"LINK\")\n",
    "td['code'].append(\"TOBACCO\")\n",
    "td['code'].append(\"ANTI-SMOKING\")"
   ]
  },
  {
   "cell_type": "code",
   "execution_count": 337,
   "metadata": {},
   "outputs": [
    {
     "data": {
      "text/plain": [
       "'RT @Scaler17: #Acamprosate enabled me to quit smoking - without trying to quit smoking.  Please view my website https://t.co/wZlB8UmVz8  No…'"
      ]
     },
     "execution_count": 337,
     "metadata": {},
     "output_type": "execute_result"
    }
   ],
   "source": [
    "td = working[70]\n",
    "td['tweet']['text']"
   ]
  },
  {
   "cell_type": "code",
   "execution_count": 338,
   "metadata": {},
   "outputs": [],
   "source": [
    "td['code']=[]\n",
    "td['code'].append(\"RETWEET\")\n",
    "td['code'].append(\"USERMENTION\")\n",
    "td['code'].append(\"LINK\")\n",
    "td['code'].append(\"TOBACCO\")\n",
    "td['code'].append(\"ANTI-SMOKING\")"
   ]
  },
  {
   "cell_type": "code",
   "execution_count": 339,
   "metadata": {},
   "outputs": [
    {
     "data": {
      "text/plain": [
       "'RT @2HighBros: \"Wyd after smoking this?\" https://t.co/W2IsDjukye'"
      ]
     },
     "execution_count": 339,
     "metadata": {},
     "output_type": "execute_result"
    }
   ],
   "source": [
    "td = working[71]\n",
    "td['tweet']['text']"
   ]
  },
  {
   "cell_type": "code",
   "execution_count": 340,
   "metadata": {},
   "outputs": [],
   "source": [
    "td['code']=[]\n",
    "td['code'].append('LINK')\n",
    "td['code'].append(\"RETWEET\")"
   ]
  },
  {
   "cell_type": "code",
   "execution_count": 341,
   "metadata": {},
   "outputs": [
    {
     "data": {
      "text/plain": [
       "\"RT @joelavinash_: Guys , I'm trying to get my friend to stop smoking please please please get this to 2.5K rts so that he'll stop smoking 🚭…\""
      ]
     },
     "execution_count": 341,
     "metadata": {},
     "output_type": "execute_result"
    }
   ],
   "source": [
    "td = working[72]\n",
    "td['tweet']['text']"
   ]
  },
  {
   "cell_type": "code",
   "execution_count": 342,
   "metadata": {},
   "outputs": [],
   "source": [
    "td['code']=[]\n",
    "td['code'].append(\"RETWEET\")\n",
    "td['code'].append('USERMENTION')\n",
    "td['code'].append(\"RETWEET\")\n",
    "td['code'].append('QUITTING')\n",
    "td['code'].append('FRIENDS')"
   ]
  },
  {
   "cell_type": "code",
   "execution_count": 343,
   "metadata": {},
   "outputs": [
    {
     "data": {
      "text/plain": [
       "'RT @2HighBros: \"Wyd after smoking this?\" https://t.co/W2IsDjukye'"
      ]
     },
     "execution_count": 343,
     "metadata": {},
     "output_type": "execute_result"
    }
   ],
   "source": [
    "td = working[73]\n",
    "td['tweet']['text']"
   ]
  },
  {
   "cell_type": "code",
   "execution_count": 344,
   "metadata": {},
   "outputs": [],
   "source": [
    "td['code']=[]\n",
    "td['code'].append('LINK')\n",
    "td['code'].append(\"RETWEET\")"
   ]
  },
  {
   "cell_type": "code",
   "execution_count": 345,
   "metadata": {},
   "outputs": [
    {
     "data": {
      "text/plain": [
       "'Former House Speaker John Boehner describes how Obama struggled with smoking and was… https://t.co/jGoZtwpyfB'"
      ]
     },
     "execution_count": 345,
     "metadata": {},
     "output_type": "execute_result"
    }
   ],
   "source": [
    "td = working[74]\n",
    "td['tweet']['text']"
   ]
  },
  {
   "cell_type": "code",
   "execution_count": 346,
   "metadata": {},
   "outputs": [],
   "source": [
    "td['code']=[]\n",
    "td['code'].append('RETWEET')\n",
    "td['code'].append('LINK')"
   ]
  },
  {
   "cell_type": "code",
   "execution_count": 347,
   "metadata": {},
   "outputs": [
    {
     "data": {
      "text/plain": [
       "'@AMERICAFUCKU @DBloom451 @NFL Yes!! They are ABSOLUTELY clueless &amp; @realDonaldTrump got them smoking on that Trump… https://t.co/Q0c9TAed1T'"
      ]
     },
     "execution_count": 347,
     "metadata": {},
     "output_type": "execute_result"
    }
   ],
   "source": [
    "td = working[75]\n",
    "td['tweet']['text']"
   ]
  },
  {
   "cell_type": "code",
   "execution_count": 348,
   "metadata": {},
   "outputs": [],
   "source": [
    "td['code']=[]\n",
    "td['code'].append('RETWEET')\n",
    "td['code'].append('LINK')\n",
    "td['code'].append('USERMENTION')\n",
    "td['code'].append('IRRELEVANT')"
   ]
  },
  {
   "cell_type": "code",
   "execution_count": 349,
   "metadata": {},
   "outputs": [
    {
     "data": {
      "text/plain": [
       "'RT @Scaler17: The latest Acamprosate Made Me Quit Smoking Daily! https://t.co/Segx1Rgy69 Thanks to @OakCreekDental @medsinpregnancy @TheGal…'"
      ]
     },
     "execution_count": 349,
     "metadata": {},
     "output_type": "execute_result"
    }
   ],
   "source": [
    "td = working[76]\n",
    "td['tweet']['text']"
   ]
  },
  {
   "cell_type": "code",
   "execution_count": 350,
   "metadata": {},
   "outputs": [],
   "source": [
    "td['code']=[]\n",
    "td['code'].append(\"RETWEET\")\n",
    "td['code'].append(\"USERMENTION\")\n",
    "td['code'].append(\"LINK\")\n",
    "td['code'].append(\"QUITTING\")\n",
    "td['code'].append(\"ADVICE\")\n",
    "td['code'].append(\"TOBACCO\")"
   ]
  },
  {
   "cell_type": "code",
   "execution_count": 351,
   "metadata": {},
   "outputs": [
    {
     "data": {
      "text/plain": [
       "'I need a smoking buddy asap.'"
      ]
     },
     "execution_count": 351,
     "metadata": {},
     "output_type": "execute_result"
    }
   ],
   "source": [
    "td = working[77]\n",
    "td['tweet']['text']"
   ]
  },
  {
   "cell_type": "code",
   "execution_count": 352,
   "metadata": {},
   "outputs": [],
   "source": [
    "td['code']=[]\n",
    "td['code'].append(\"FRIENDS\")"
   ]
  },
  {
   "cell_type": "code",
   "execution_count": 353,
   "metadata": {},
   "outputs": [
    {
     "data": {
      "text/plain": [
       "\"seems like winter is here in bangalore. smoking a cigarette in the office terrace and can't stop shivering...\""
      ]
     },
     "execution_count": 353,
     "metadata": {},
     "output_type": "execute_result"
    }
   ],
   "source": [
    "td = working[78]\n",
    "td['tweet']['text']"
   ]
  },
  {
   "cell_type": "code",
   "execution_count": 354,
   "metadata": {},
   "outputs": [],
   "source": [
    "td['code']=[]\n",
    "td['code'].append(\"TOBACCO\")"
   ]
  },
  {
   "cell_type": "code",
   "execution_count": 355,
   "metadata": {},
   "outputs": [
    {
     "data": {
      "text/plain": [
       "'RT @ChickenColeman: Bitch he smoking WHAT???? RT @n1irving: nigga smoking incest 😂 RT @DrakeGoat: High AF #420 http://t.co/NRhhzU2jN2'"
      ]
     },
     "execution_count": 355,
     "metadata": {},
     "output_type": "execute_result"
    }
   ],
   "source": [
    "td = working[79]\n",
    "td['tweet']['text']"
   ]
  },
  {
   "cell_type": "code",
   "execution_count": 356,
   "metadata": {},
   "outputs": [],
   "source": [
    "td['code']=[]\n",
    "td['code'].append(\"RETWEET\")\n",
    "td['code'].append(\"USERMENTION\")\n",
    "td['code'].append(\"LINK\")"
   ]
  },
  {
   "cell_type": "code",
   "execution_count": 357,
   "metadata": {},
   "outputs": [
    {
     "data": {
      "text/plain": [
       "'RT @GEslave: follow @Goddess_Erotika , the ultimate GODDESS of smoking &amp; high platform heels #smoking #highheels #fetish #longnails #mistre…'"
      ]
     },
     "execution_count": 357,
     "metadata": {},
     "output_type": "execute_result"
    }
   ],
   "source": [
    "td = working[80]\n",
    "td['tweet']['text']"
   ]
  },
  {
   "cell_type": "code",
   "execution_count": 358,
   "metadata": {},
   "outputs": [],
   "source": [
    "td['code']=[]"
   ]
  },
  {
   "cell_type": "code",
   "execution_count": 359,
   "metadata": {},
   "outputs": [],
   "source": [
    "td['code'].append(\"RETWEET\")\n",
    "td['code'].append(\"USERMENTION\")"
   ]
  },
  {
   "cell_type": "code",
   "execution_count": 360,
   "metadata": {},
   "outputs": [],
   "source": [
    "saveTweets(tweets,\"tweets-annotated.json\")"
   ]
  },
  {
   "cell_type": "markdown",
   "metadata": {},
   "source": [
    "*END CUT*\n",
    "\n",
    "---"
   ]
  },
  {
   "cell_type": "markdown",
   "metadata": {},
   "source": [
    "****\n",
    "## Exercise 2.2: Additional queries\n",
    "\n",
    "The tweets annotated above are all based on searches for 'smoking'. What if you were to try other terms, such as 'tobacco' or 'vaping'? \n",
    "\n",
    "\n",
    "1. Using the `searchTwitter` procedure defined above, run a search for a set of tweets with one of the these alternative terms. \n",
    "\n",
    "2. Create a new data structure based on the original data structure, capable of not only storing tweets, but differentiating them by the search term used to retrieve them. \n",
    "\n",
    "3. If necessary, revise `saveTweets` and `readTweets` to store the new set of tweets in a json file, along with the original tweets. How might you distinguish between the two sets? "
   ]
  },
  {
   "cell_type": "markdown",
   "metadata": {},
   "source": [
    "*ANSWER FOLLOWS - cut below here*\n",
    "\n",
    "\n",
    "There are several ways this might be done - the following approach is reasonably straightforward.\n",
    "1.  iterate over current `tweets` dictionary, modifying each entry with a new attribute ['search_term'] set to 'smoking'\n",
    "2. grab a new set of tweets with the alternative term, \n",
    "3. Annotate these new tweets with the next search term\n",
    "4. add them to the `tweets` object,including the new `search_term`\n",
    "\n",
    "\n",
    "Let's go through these in turn\n",
    "#### 2.2.1 . iterate over current `tweets` dictionary, modifying each entry with a new attribute ['search_term'] set to 'smoking'"
   ]
  },
  {
   "cell_type": "code",
   "execution_count": 363,
   "metadata": {},
   "outputs": [],
   "source": [
    "for id,entry in tweets.items():\n",
    "    tweets[id]['search_term']='smoking'"
   ]
  },
  {
   "cell_type": "markdown",
   "metadata": {},
   "source": [
    "#### 2.2.2  grab a new set of tweets with the alternative term"
   ]
  },
  {
   "cell_type": "code",
   "execution_count": 364,
   "metadata": {},
   "outputs": [
    {
     "data": {
      "text/plain": [
       "1001"
      ]
     },
     "execution_count": 364,
     "metadata": {},
     "output_type": "execute_result"
    }
   ],
   "source": [
    "len(tweets)"
   ]
  },
  {
   "cell_type": "code",
   "execution_count": 365,
   "metadata": {},
   "outputs": [],
   "source": [
    "vapeTweets = searchTwitter(\"vape\",100)"
   ]
  },
  {
   "cell_type": "code",
   "execution_count": 366,
   "metadata": {},
   "outputs": [
    {
     "data": {
      "text/plain": [
       "103"
      ]
     },
     "execution_count": 366,
     "metadata": {},
     "output_type": "execute_result"
    }
   ],
   "source": [
    "len(vapeTweets)"
   ]
  },
  {
   "cell_type": "code",
   "execution_count": 367,
   "metadata": {},
   "outputs": [],
   "source": [
    "vids = list(vapeTweets.keys())"
   ]
  },
  {
   "cell_type": "code",
   "execution_count": 368,
   "metadata": {},
   "outputs": [
    {
     "data": {
      "text/plain": [
       "True"
      ]
     },
     "execution_count": 368,
     "metadata": {},
     "output_type": "execute_result"
    }
   ],
   "source": [
    "vid = vids[0]\n",
    "vid in vapeTweets"
   ]
  },
  {
   "cell_type": "code",
   "execution_count": 370,
   "metadata": {},
   "outputs": [
    {
     "data": {
      "text/plain": [
       "False"
      ]
     },
     "execution_count": 370,
     "metadata": {},
     "output_type": "execute_result"
    }
   ],
   "source": [
    "vid in tweets"
   ]
  },
  {
   "cell_type": "markdown",
   "metadata": {},
   "source": [
    "#### 2.2.3. add search term to these new tweets"
   ]
  },
  {
   "cell_type": "code",
   "execution_count": 371,
   "metadata": {},
   "outputs": [],
   "source": [
    "for id,entry in vapeTweets.items():\n",
    "    vapeTweets[id]['search_term']='vape'"
   ]
  },
  {
   "cell_type": "markdown",
   "metadata": {},
   "source": [
    "#### 2.2.4 add to the `tweets` object"
   ]
  },
  {
   "cell_type": "code",
   "execution_count": 374,
   "metadata": {},
   "outputs": [
    {
     "data": {
      "text/plain": [
       "103"
      ]
     },
     "execution_count": 374,
     "metadata": {},
     "output_type": "execute_result"
    }
   ],
   "source": [
    "len(vapeTweets)"
   ]
  },
  {
   "cell_type": "code",
   "execution_count": 375,
   "metadata": {},
   "outputs": [],
   "source": [
    "vid2=vids[1]"
   ]
  },
  {
   "cell_type": "code",
   "execution_count": 376,
   "metadata": {},
   "outputs": [
    {
     "data": {
      "text/plain": [
       "'950803896200507395'"
      ]
     },
     "execution_count": 376,
     "metadata": {},
     "output_type": "execute_result"
    }
   ],
   "source": [
    "vid2"
   ]
  },
  {
   "cell_type": "code",
   "execution_count": 377,
   "metadata": {},
   "outputs": [
    {
     "data": {
      "text/plain": [
       "True"
      ]
     },
     "execution_count": 377,
     "metadata": {},
     "output_type": "execute_result"
    }
   ],
   "source": [
    "vid2 in vapeTweets"
   ]
  },
  {
   "cell_type": "code",
   "execution_count": 378,
   "metadata": {},
   "outputs": [
    {
     "data": {
      "text/plain": [
       "False"
      ]
     },
     "execution_count": 378,
     "metadata": {},
     "output_type": "execute_result"
    }
   ],
   "source": [
    "vid2 in tweets"
   ]
  },
  {
   "cell_type": "code",
   "execution_count": 379,
   "metadata": {},
   "outputs": [
    {
     "data": {
      "text/plain": [
       "1001"
      ]
     },
     "execution_count": 379,
     "metadata": {},
     "output_type": "execute_result"
    }
   ],
   "source": [
    "len(tweets)"
   ]
  },
  {
   "cell_type": "code",
   "execution_count": 380,
   "metadata": {},
   "outputs": [],
   "source": [
    "for id,entry in vapeTweets.items():\n",
    "    tweets[id]=entry"
   ]
  },
  {
   "cell_type": "code",
   "execution_count": null,
   "metadata": {},
   "outputs": [],
   "source": [
    "vapeIds=list(vapeTweets.keys())"
   ]
  },
  {
   "cell_type": "code",
   "execution_count": null,
   "metadata": {},
   "outputs": [],
   "source": [
    "t1 =vapeIds[0]"
   ]
  },
  {
   "cell_type": "code",
   "execution_count": null,
   "metadata": {},
   "outputs": [],
   "source": [
    "vapeTweets[t1]['search_term']\n"
   ]
  },
  {
   "cell_type": "code",
   "execution_count": null,
   "metadata": {},
   "outputs": [],
   "source": [
    "tweets[t1]['search_term']"
   ]
  },
  {
   "cell_type": "markdown",
   "metadata": {},
   "source": [
    "`saveTweets` and `readTweets` simplify save and reload JSON structures, without any concern as to their contents. Thus, these routines can be used as is, without any modifications. "
   ]
  },
  {
   "cell_type": "code",
   "execution_count": null,
   "metadata": {},
   "outputs": [],
   "source": [
    "saveTweets(tweets,\"tweets-vape-and-smoking.json\")"
   ]
  },
  {
   "cell_type": "markdown",
   "metadata": {},
   "source": [
    "*END CUT*\n",
    "\n",
    "----"
   ]
  },
  {
   "cell_type": "markdown",
   "metadata": {},
   "source": [
    "---\n",
    "## EXERCISE 2.3: Reflection on coding\n",
    "\n",
    "Open coding can often be an iterative process. When we first start out, we don't really know what we're looking for. As a result, the first few items annotated might only get a few codes, and we might miss ideas that we don't initially think are important. As we see more and more items, our ideas of what needs to be annotated will change, and we'll start adding in codes that might also apply to earlier messages. Thus, we often need to review and re-annotate earlier tweets to account for changes in our interpreations.\n",
    "\n",
    "Review the annotations that you have made, by doing the following:\n",
    "\n",
    "1. write a routine to extract a list of all codes used to describe all tweets in the corpus, and the number of times each code is used. \n",
    "\n",
    "2. use this list of codes to review your annotations the tweets that you reviewed. Revise the codes associated with these tweets, adding items from the overall list of codes as appropriate. Describe the change that you have made.\n",
    "\n",
    "3. Look at the distribution of tweets mentioning tobacco - do you have a good mix of both? You don't have to reach 50-50, but 80-20 is probably not a good idea. If you have a mix that has two few of one set - is too skewed - run another search, add the resulting tweets to your collection, and try again. Be sure to save your tweets - preferably to a new file. \n"
   ]
  },
  {
   "cell_type": "markdown",
   "metadata": {},
   "source": [
    "---\n",
    "*ANSWER FOLLOWS - cut below here*\n",
    "\n",
    "### 2.3.1 Write a routine to extract a list of all codes used to describe all tweets in the corpus\n"
   ]
  },
  {
   "cell_type": "code",
   "execution_count": null,
   "metadata": {},
   "outputs": [],
   "source": [
    "def getCodes(tweets):\n",
    "    codes={}\n",
    "    for id,entry in tweets.items():\n",
    "        # if this tweet has any code\n",
    "        if 'code' in entry:\n",
    "            for code in entry['code']:\n",
    "                # find the list of tweets with this code. if it doesn't exist, create it.\n",
    "                if code not in codes:\n",
    "                    codes[code]=[]\n",
    "                codes[code].append(id)\n",
    "    return codes"
   ]
  },
  {
   "cell_type": "code",
   "execution_count": null,
   "metadata": {},
   "outputs": [],
   "source": [
    "codes = getCodes(tweets)"
   ]
  },
  {
   "cell_type": "markdown",
   "metadata": {},
   "source": [
    "Now, let's review those codes to see what they look - how frequently were they used. Remember, each entry in the `codes` dictionary is a pair  consisting of a code and a list of tweet ids containing that code. To see a sortedlist of  frequencies, we will iterate over entries, create pairs consisting of the code and the length of the list, and then spit that list out in descending order.  "
   ]
  },
  {
   "cell_type": "code",
   "execution_count": null,
   "metadata": {},
   "outputs": [],
   "source": [
    "cs = []\n",
    "for t,entry in codes.items():\n",
    "    count = len(entry)\n",
    "    cs.append((t,count))  \n",
    "cs.sort(key=lambda x: x[1],reverse=True)\n",
    "cs"
   ]
  },
  {
   "cell_type": "markdown",
   "metadata": {},
   "source": [
    "so, as you can see, we have lots of retweets."
   ]
  },
  {
   "cell_type": "markdown",
   "metadata": {},
   "source": [
    "\n",
    "*END CUT*\n",
    "\n",
    "---"
   ]
  },
  {
   "cell_type": "markdown",
   "metadata": {},
   "source": [
    "### 4.2 Final Notes\n",
    "\n",
    "Now that we have completed the initial annotation, you can move on to [Part 3](SocialMedia - Part 3.ipynb)"
   ]
  },
  {
   "cell_type": "code",
   "execution_count": null,
   "metadata": {},
   "outputs": [],
   "source": []
  }
 ],
 "metadata": {
  "kernelspec": {
   "display_name": "Python 3",
   "language": "python",
   "name": "python3"
  },
  "language_info": {
   "codemirror_mode": {
    "name": "ipython",
    "version": 3
   },
   "file_extension": ".py",
   "mimetype": "text/x-python",
   "name": "python",
   "nbconvert_exporter": "python",
   "pygments_lexer": "ipython3",
   "version": "3.5.1"
  }
 },
 "nbformat": 4,
 "nbformat_minor": 1
}
